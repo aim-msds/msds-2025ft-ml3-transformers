{
 "cells": [
  {
   "cell_type": "code",
   "execution_count": 1,
   "id": "fff5e28a-8c85-4333-842d-4acb3c93778a",
   "metadata": {
    "execution": {
     "iopub.execute_input": "2025-05-29T18:59:51.269835Z",
     "iopub.status.busy": "2025-05-29T18:59:51.269598Z",
     "iopub.status.idle": "2025-05-29T18:59:56.969880Z",
     "shell.execute_reply": "2025-05-29T18:59:56.967502Z",
     "shell.execute_reply.started": "2025-05-29T18:59:51.269810Z"
    }
   },
   "outputs": [],
   "source": [
    "import os\n",
    "import re\n",
    "import string\n",
    "import random\n",
    "\n",
    "import keras\n",
    "import numpy as np\n",
    "import tensorflow as tf\n",
    "from keras import layers\n",
    "\n",
    "os.environ['XLA_FLAGS'] = f\"--xla_gpu_cuda_data_dir={os.environ['CONDA_PREFIX']}/lib/\""
   ]
  },
  {
   "cell_type": "markdown",
   "id": "f3681c5a-9511-4423-abaa-75245c7a5e6b",
   "metadata": {},
   "source": [
    "# Machine Translation using Transformers"
   ]
  },
  {
   "cell_type": "markdown",
   "id": "05f49b26-376c-4c0b-8014-8b171f7073a6",
   "metadata": {},
   "source": [
    "## 1 Data Preparation"
   ]
  },
  {
   "cell_type": "markdown",
   "id": "50948c16-2038-4295-b90d-73e6e2e5e59b",
   "metadata": {},
   "source": [
    "### Data Acquisition"
   ]
  },
  {
   "cell_type": "markdown",
   "id": "2fe99fd3-2c29-431a-872e-76361d3f1d80",
   "metadata": {},
   "source": [
    "Run the code below if you haven't downloaded the English-to-Spanish translation dataset."
   ]
  },
  {
   "cell_type": "code",
   "execution_count": 2,
   "id": "74a73fe8-c6ca-48c1-86b8-da711695ac0a",
   "metadata": {
    "execution": {
     "iopub.execute_input": "2025-05-29T18:59:56.973335Z",
     "iopub.status.busy": "2025-05-29T18:59:56.972113Z",
     "iopub.status.idle": "2025-05-29T18:59:56.981218Z",
     "shell.execute_reply": "2025-05-29T18:59:56.979324Z",
     "shell.execute_reply.started": "2025-05-29T18:59:56.973243Z"
    }
   },
   "outputs": [],
   "source": [
    "# !wget http://storage.googleapis.com/download.tensorflow.org/data/spa-eng.zip\n",
    "# !unzip -q spa-eng.zip"
   ]
  },
  {
   "cell_type": "code",
   "execution_count": 3,
   "id": "14080e90-6fa7-4c2b-b057-f5074f51712a",
   "metadata": {
    "execution": {
     "iopub.execute_input": "2025-05-29T18:59:56.983733Z",
     "iopub.status.busy": "2025-05-29T18:59:56.983030Z",
     "iopub.status.idle": "2025-05-29T18:59:57.100921Z",
     "shell.execute_reply": "2025-05-29T18:59:57.099760Z",
     "shell.execute_reply.started": "2025-05-29T18:59:56.983662Z"
    }
   },
   "outputs": [],
   "source": [
    "text_file = \"spa-eng/spa.txt\"\n",
    "\n",
    "with open(text_file) as f:\n",
    "    lines = f.read().split(\"\\n\")[:-1]"
   ]
  },
  {
   "cell_type": "markdown",
   "id": "c6ff7bb7-27e3-4bbe-a357-e47eb8452146",
   "metadata": {},
   "source": [
    "Then, we prepend the start and end tokens to the Spanish sentence to match the general template of a seq-to-seq model. We save the english and spanish pairs to a list."
   ]
  },
  {
   "cell_type": "code",
   "execution_count": 4,
   "id": "3b86269a-ae7d-4537-9996-c63546773cea",
   "metadata": {
    "execution": {
     "iopub.execute_input": "2025-05-29T18:59:57.103463Z",
     "iopub.status.busy": "2025-05-29T18:59:57.102573Z",
     "iopub.status.idle": "2025-05-29T18:59:57.341018Z",
     "shell.execute_reply": "2025-05-29T18:59:57.339553Z",
     "shell.execute_reply.started": "2025-05-29T18:59:57.103382Z"
    }
   },
   "outputs": [],
   "source": [
    "text_pairs = []\n",
    "for line in lines:\n",
    "    english, spanish = line.split(\"\\t\")\n",
    "    spanish = \"[start] \" + spanish + \" [end]\"\n",
    "    text_pairs.append((english, spanish))"
   ]
  },
  {
   "cell_type": "code",
   "execution_count": 5,
   "id": "38a5b9d2-e896-47d1-b4c1-2ab8c15293d5",
   "metadata": {
    "execution": {
     "iopub.execute_input": "2025-05-29T18:59:57.341854Z",
     "iopub.status.busy": "2025-05-29T18:59:57.341617Z",
     "iopub.status.idle": "2025-05-29T18:59:57.350799Z",
     "shell.execute_reply": "2025-05-29T18:59:57.349837Z",
     "shell.execute_reply.started": "2025-05-29T18:59:57.341831Z"
    }
   },
   "outputs": [
    {
     "data": {
      "text/plain": [
       "118964"
      ]
     },
     "execution_count": 5,
     "metadata": {},
     "output_type": "execute_result"
    }
   ],
   "source": [
    "len(text_pairs)"
   ]
  },
  {
   "cell_type": "code",
   "execution_count": 6,
   "id": "029ca2e5-70e4-472d-a55e-12f411cf1b7e",
   "metadata": {
    "execution": {
     "iopub.execute_input": "2025-05-29T18:59:57.353288Z",
     "iopub.status.busy": "2025-05-29T18:59:57.353072Z",
     "iopub.status.idle": "2025-05-29T18:59:57.359394Z",
     "shell.execute_reply": "2025-05-29T18:59:57.358458Z",
     "shell.execute_reply.started": "2025-05-29T18:59:57.353267Z"
    }
   },
   "outputs": [
    {
     "data": {
      "text/plain": [
       "(\"Don't drive under the influence of alcohol.\",\n",
       " '[start] No conduzcas bajo la influencia del alcohol. [end]')"
      ]
     },
     "execution_count": 6,
     "metadata": {},
     "output_type": "execute_result"
    }
   ],
   "source": [
    "random.choice(text_pairs)"
   ]
  },
  {
   "cell_type": "markdown",
   "id": "d18a3bb1-a6ee-4cb4-b2f7-658a271f87f2",
   "metadata": {},
   "source": [
    "### Data Splitting"
   ]
  },
  {
   "cell_type": "code",
   "execution_count": 7,
   "id": "b95a9e4e-7697-4287-bceb-3dba1d194aa1",
   "metadata": {
    "execution": {
     "iopub.execute_input": "2025-05-29T18:59:57.360245Z",
     "iopub.status.busy": "2025-05-29T18:59:57.360020Z",
     "iopub.status.idle": "2025-05-29T18:59:57.427146Z",
     "shell.execute_reply": "2025-05-29T18:59:57.426154Z",
     "shell.execute_reply.started": "2025-05-29T18:59:57.360223Z"
    }
   },
   "outputs": [],
   "source": [
    "random.seed(143)\n",
    "random.shuffle(text_pairs)\n",
    "num_val_samples = int(0.15 * len(text_pairs))\n",
    "num_train_samples = len(text_pairs) - 2 * num_val_samples\n",
    "\n",
    "train_pairs = text_pairs[:num_train_samples]\n",
    "val_pairs = text_pairs[num_train_samples:num_train_samples + num_val_samples]\n",
    "test_pairs = text_pairs[num_train_samples + num_val_samples:]"
   ]
  },
  {
   "cell_type": "markdown",
   "id": "9ce42a26-fcea-4010-a356-45619a08df73",
   "metadata": {},
   "source": [
    "### Data Normalization"
   ]
  },
  {
   "cell_type": "markdown",
   "id": "0cf1bb3b-b8c6-4311-ab0c-92bbc4c9b313",
   "metadata": {},
   "source": [
    "Apart from the usual standardization procedures done on text data, some additonal procedures that we should do are:\n",
    "- Preserve our start and end tokens, `[start]` and `[end]`\n",
    "- Additionally strip the character `¿`"
   ]
  },
  {
   "cell_type": "code",
   "execution_count": 8,
   "id": "7707d971-e3e9-419c-b6aa-c6f0c9b85a73",
   "metadata": {
    "execution": {
     "iopub.execute_input": "2025-05-29T18:59:57.428064Z",
     "iopub.status.busy": "2025-05-29T18:59:57.427851Z",
     "iopub.status.idle": "2025-05-29T18:59:57.744070Z",
     "shell.execute_reply": "2025-05-29T18:59:57.741987Z",
     "shell.execute_reply.started": "2025-05-29T18:59:57.428044Z"
    }
   },
   "outputs": [],
   "source": [
    "strip_chars = string.punctuation + \"¿\"\n",
    "strip_chars = strip_chars.replace(\"[\", \"\")\n",
    "strip_chars = strip_chars.replace(\"]\", \"\")"
   ]
  },
  {
   "cell_type": "code",
   "execution_count": 9,
   "id": "a4a52f44-a25b-486a-b625-c5a847067202",
   "metadata": {
    "execution": {
     "iopub.execute_input": "2025-05-29T18:59:57.746678Z",
     "iopub.status.busy": "2025-05-29T18:59:57.745979Z",
     "iopub.status.idle": "2025-05-29T18:59:57.756039Z",
     "shell.execute_reply": "2025-05-29T18:59:57.754448Z",
     "shell.execute_reply.started": "2025-05-29T18:59:57.746610Z"
    }
   },
   "outputs": [],
   "source": [
    "def custom_standardization(input_string):\n",
    "    lowercase = tf.strings.lower(input_string)\n",
    "    return tf.strings.regex_replace(\n",
    "        lowercase, f\"[{re.escape(strip_chars)}]\", \"\"\n",
    "    )"
   ]
  },
  {
   "cell_type": "markdown",
   "id": "4ef506fb-fd22-47c1-a5d0-43406453fabc",
   "metadata": {},
   "source": [
    "### Text Vectorization"
   ]
  },
  {
   "cell_type": "code",
   "execution_count": 10,
   "id": "f849bfe2-376d-49ae-8f61-f4316854a213",
   "metadata": {
    "execution": {
     "iopub.execute_input": "2025-05-29T18:59:57.758603Z",
     "iopub.status.busy": "2025-05-29T18:59:57.757994Z",
     "iopub.status.idle": "2025-05-29T19:00:11.237496Z",
     "shell.execute_reply": "2025-05-29T19:00:11.234869Z",
     "shell.execute_reply.started": "2025-05-29T18:59:57.758542Z"
    }
   },
   "outputs": [],
   "source": [
    "vocab_size = 15_000\n",
    "sequence_length = 20\n",
    "\n",
    "source_vectorization = layers.TextVectorization(\n",
    "    max_tokens=vocab_size,\n",
    "    output_mode=\"int\",\n",
    "    output_sequence_length=sequence_length,\n",
    ")\n",
    "target_vectorization = layers.TextVectorization(\n",
    "    max_tokens=vocab_size,\n",
    "    output_mode=\"int\",\n",
    "    output_sequence_length=sequence_length + 1, # Offset by 1 step\n",
    "    standardize=custom_standardization,\n",
    ")\n",
    "\n",
    "# Use training pairs to calibrate vectorizer\n",
    "train_english_texts = [pair[0] for pair in train_pairs]\n",
    "train_spanish_texts = [pair[1] for pair in train_pairs]\n",
    "source_vectorization.adapt(train_english_texts)\n",
    "target_vectorization.adapt(train_spanish_texts)"
   ]
  },
  {
   "cell_type": "markdown",
   "id": "8bada474-07d4-473f-a341-82fdf65d3f9c",
   "metadata": {},
   "source": [
    "### Dataset Preparation"
   ]
  },
  {
   "cell_type": "code",
   "execution_count": 11,
   "id": "47fc4596-6ee8-4d1f-b1a9-6a4ac0d3a221",
   "metadata": {
    "execution": {
     "iopub.execute_input": "2025-05-29T19:00:11.242029Z",
     "iopub.status.busy": "2025-05-29T19:00:11.240437Z",
     "iopub.status.idle": "2025-05-29T19:00:12.122071Z",
     "shell.execute_reply": "2025-05-29T19:00:12.120982Z",
     "shell.execute_reply.started": "2025-05-29T19:00:11.241945Z"
    }
   },
   "outputs": [],
   "source": [
    "batch_size = 64\n",
    "\n",
    "def format_dataset(eng, spa):\n",
    "    eng = source_vectorization(eng)\n",
    "    spa = target_vectorization(spa)\n",
    "\n",
    "    return ({\"english\": eng, \"spanish\": spa[:, :-1]}, spa[:, 1:])\n",
    "\n",
    "\n",
    "def make_dataset(pairs):\n",
    "    eng_texts, spa_texts = zip(*pairs)\n",
    "    eng_texts = list(eng_texts)\n",
    "    spa_texts = list(spa_texts)\n",
    "\n",
    "    dataset = tf.data.Dataset.from_tensor_slices((eng_texts, spa_texts))\n",
    "    dataset = dataset.batch(batch_size)\n",
    "    dataset = dataset.map(format_dataset, num_parallel_calls=4)\n",
    "\n",
    "    return dataset.shuffle(2048).prefetch(16).cache()\n",
    "\n",
    "train_ds = make_dataset(train_pairs)\n",
    "val_ds = make_dataset(val_pairs)"
   ]
  },
  {
   "cell_type": "markdown",
   "id": "19a5f89e-1c76-4c80-94cb-9fb7312e9295",
   "metadata": {},
   "source": [
    "## 2 Baseline: Seq-to-Seq Learning with RNNs"
   ]
  },
  {
   "cell_type": "markdown",
   "id": "40a92ede-ee7d-4d50-b7b8-6ae752966a8a",
   "metadata": {},
   "source": [
    "### Model Architecture"
   ]
  },
  {
   "cell_type": "code",
   "execution_count": 12,
   "id": "66948625-b72e-4936-9704-ae1c055a7d53",
   "metadata": {
    "execution": {
     "iopub.execute_input": "2025-05-29T19:00:12.122930Z",
     "iopub.status.busy": "2025-05-29T19:00:12.122689Z",
     "iopub.status.idle": "2025-05-29T19:00:12.131168Z",
     "shell.execute_reply": "2025-05-29T19:00:12.129534Z",
     "shell.execute_reply.started": "2025-05-29T19:00:12.122906Z"
    }
   },
   "outputs": [],
   "source": [
    "def make_seq2seq_rnn(embed_dim, latent_dim, vocab_size):\n",
    "    # GRU Encoder\n",
    "    source = keras.Input(shape=(None,), dtype=\"int64\", name=\"english\")\n",
    "\n",
    "    x = layers.Embedding(vocab_size, embed_dim, mask_zero=True)(source)\n",
    "\n",
    "    encoded_source = layers.Bidirectional(\n",
    "        layers.GRU(latent_dim), merge_mode=\"sum\")(x)\n",
    "\n",
    "    # GRU Decoder\n",
    "    past_target = keras.Input(shape=(None,), dtype=\"int64\", name=\"spanish\")\n",
    "\n",
    "    x = layers.Embedding(vocab_size, embed_dim, mask_zero=True)(past_target)\n",
    "\n",
    "    decoder_gru = layers.GRU(latent_dim, return_sequences=True)\n",
    "    x = decoder_gru(x, initial_state=encoded_source)\n",
    "    x = layers.Dropout(0.5)(x)\n",
    "\n",
    "    # Decoder Output\n",
    "    target_next_step = layers.Dense(vocab_size, activation=\"softmax\")(x)\n",
    "\n",
    "    return keras.Model([source, past_target], target_next_step)"
   ]
  },
  {
   "cell_type": "markdown",
   "id": "f134b7e0-a70d-4d38-8a3e-ac199c63e1be",
   "metadata": {},
   "source": [
    "### Model Training"
   ]
  },
  {
   "cell_type": "code",
   "execution_count": 13,
   "id": "bb6b2df8-1197-4ee3-92ce-8df15392abef",
   "metadata": {
    "execution": {
     "iopub.execute_input": "2025-05-29T19:00:12.132089Z",
     "iopub.status.busy": "2025-05-29T19:00:12.131868Z",
     "iopub.status.idle": "2025-05-29T19:00:17.539214Z",
     "shell.execute_reply": "2025-05-29T19:00:17.537982Z",
     "shell.execute_reply.started": "2025-05-29T19:00:12.132066Z"
    }
   },
   "outputs": [],
   "source": [
    "embed_dim = 256\n",
    "latent_dim = 1024\n",
    "\n",
    "seq2seq_rnn = make_seq2seq_rnn(embed_dim, latent_dim, vocab_size)\n",
    "seq2seq_rnn.compile(\n",
    "    optimizer=\"rmsprop\",\n",
    "    loss=\"sparse_categorical_crossentropy\",\n",
    "    metrics=[\"accuracy\"])"
   ]
  },
  {
   "cell_type": "code",
   "execution_count": 14,
   "id": "802401f1-33d2-4bd9-b36a-3dd51a2aa432",
   "metadata": {
    "execution": {
     "iopub.execute_input": "2025-05-29T19:00:17.540649Z",
     "iopub.status.busy": "2025-05-29T19:00:17.540309Z",
     "iopub.status.idle": "2025-05-29T19:00:18.005239Z",
     "shell.execute_reply": "2025-05-29T19:00:18.003012Z",
     "shell.execute_reply.started": "2025-05-29T19:00:17.540613Z"
    }
   },
   "outputs": [
    {
     "data": {
      "image/png": "[encoded data removed]",
      "text/plain": [
       "<IPython.core.display.Image object>"
      ]
     },
     "execution_count": 14,
     "metadata": {},
     "output_type": "execute_result"
    }
   ],
   "source": [
    "keras.utils.plot_model(seq2seq_rnn, show_shapes=True)"
   ]
  },
  {
   "cell_type": "code",
   "execution_count": 15,
   "id": "51673482-55b0-491a-91d7-b7e616bbf96e",
   "metadata": {
    "execution": {
     "iopub.execute_input": "2025-05-29T19:00:18.009020Z",
     "iopub.status.busy": "2025-05-29T19:00:18.008103Z",
     "iopub.status.idle": "2025-05-29T19:00:18.018722Z",
     "shell.execute_reply": "2025-05-29T19:00:18.016798Z",
     "shell.execute_reply.started": "2025-05-29T19:00:18.008939Z"
    }
   },
   "outputs": [],
   "source": [
    "callbacks = [\n",
    "    keras.callbacks.ModelCheckpoint(\n",
    "        \"seq2seq_rnn.tf\", save_best_only=True)\n",
    "]"
   ]
  },
  {
   "cell_type": "code",
   "execution_count": 16,
   "id": "685e9f03-91e1-4f27-b0a5-312071a19e85",
   "metadata": {
    "execution": {
     "iopub.execute_input": "2025-05-29T19:00:18.021376Z",
     "iopub.status.busy": "2025-05-29T19:00:18.020692Z",
     "iopub.status.idle": "2025-05-29T19:23:16.967432Z",
     "shell.execute_reply": "2025-05-29T19:23:16.966054Z",
     "shell.execute_reply.started": "2025-05-29T19:00:18.021307Z"
    }
   },
   "outputs": [
    {
     "name": "stdout",
     "output_type": "stream",
     "text": [
      "Epoch 1/15\n",
      "INFO:tensorflow:Assets written to: seq2seq_rnn.tf/assetsoss: 4.6772 - accuracy: 0.3190         \n"
     ]
    },
    {
     "name": "stderr",
     "output_type": "stream",
     "text": [
      "INFO:tensorflow:Assets written to: seq2seq_rnn.tf/assets\n"
     ]
    },
    {
     "name": "stdout",
     "output_type": "stream",
     "text": [
      "1302/1302 [==============================] - 120s 84ms/step - loss: 4.6766 - accuracy: 0.3191 - val_loss: 3.8929 - val_accuracy: 0.3841\n",
      "Epoch 2/15\n",
      "INFO:tensorflow:Assets written to: seq2seq_rnn.tf/assetsoss: 3.7189 - accuracy: 0.4161  \n"
     ]
    },
    {
     "name": "stderr",
     "output_type": "stream",
     "text": [
      "INFO:tensorflow:Assets written to: seq2seq_rnn.tf/assets\n"
     ]
    },
    {
     "name": "stdout",
     "output_type": "stream",
     "text": [
      "1302/1302 [==============================] - 90s 69ms/step - loss: 3.7189 - accuracy: 0.4161 - val_loss: 3.2424 - val_accuracy: 0.4688\n",
      "Epoch 3/15\n",
      "INFO:tensorflow:Assets written to: seq2seq_rnn.tf/assetsoss: 3.2179 - accuracy: 0.4728  \n"
     ]
    },
    {
     "name": "stderr",
     "output_type": "stream",
     "text": [
      "INFO:tensorflow:Assets written to: seq2seq_rnn.tf/assets\n"
     ]
    },
    {
     "name": "stdout",
     "output_type": "stream",
     "text": [
      "1302/1302 [==============================] - 91s 70ms/step - loss: 3.2179 - accuracy: 0.4728 - val_loss: 2.8820 - val_accuracy: 0.5126\n",
      "Epoch 4/15\n",
      "INFO:tensorflow:Assets written to: seq2seq_rnn.tf/assetsoss: 2.8663 - accuracy: 0.5126  \n"
     ]
    },
    {
     "name": "stderr",
     "output_type": "stream",
     "text": [
      "INFO:tensorflow:Assets written to: seq2seq_rnn.tf/assets\n"
     ]
    },
    {
     "name": "stdout",
     "output_type": "stream",
     "text": [
      "1302/1302 [==============================] - 89s 69ms/step - loss: 2.8663 - accuracy: 0.5126 - val_loss: 2.6335 - val_accuracy: 0.5490\n",
      "Epoch 5/15\n",
      "INFO:tensorflow:Assets written to: seq2seq_rnn.tf/assetsoss: 2.5926 - accuracy: 0.5455  \n"
     ]
    },
    {
     "name": "stderr",
     "output_type": "stream",
     "text": [
      "INFO:tensorflow:Assets written to: seq2seq_rnn.tf/assets\n"
     ]
    },
    {
     "name": "stdout",
     "output_type": "stream",
     "text": [
      "1302/1302 [==============================] - 89s 69ms/step - loss: 2.5926 - accuracy: 0.5455 - val_loss: 2.4388 - val_accuracy: 0.5778\n",
      "Epoch 6/15\n",
      "INFO:tensorflow:Assets written to: seq2seq_rnn.tf/assetsoss: 2.3717 - accuracy: 0.5735  \n"
     ]
    },
    {
     "name": "stderr",
     "output_type": "stream",
     "text": [
      "INFO:tensorflow:Assets written to: seq2seq_rnn.tf/assets\n"
     ]
    },
    {
     "name": "stdout",
     "output_type": "stream",
     "text": [
      "1302/1302 [==============================] - 90s 69ms/step - loss: 2.3717 - accuracy: 0.5735 - val_loss: 2.3167 - val_accuracy: 0.5960\n",
      "Epoch 7/15\n",
      "INFO:tensorflow:Assets written to: seq2seq_rnn.tf/assetsoss: 2.1869 - accuracy: 0.5975  \n"
     ]
    },
    {
     "name": "stderr",
     "output_type": "stream",
     "text": [
      "INFO:tensorflow:Assets written to: seq2seq_rnn.tf/assets\n"
     ]
    },
    {
     "name": "stdout",
     "output_type": "stream",
     "text": [
      "1302/1302 [==============================] - 90s 69ms/step - loss: 2.1868 - accuracy: 0.5975 - val_loss: 2.2228 - val_accuracy: 0.6113\n",
      "Epoch 8/15\n",
      "INFO:tensorflow:Assets written to: seq2seq_rnn.tf/assetsoss: 2.0290 - accuracy: 0.6184  \n"
     ]
    },
    {
     "name": "stderr",
     "output_type": "stream",
     "text": [
      "INFO:tensorflow:Assets written to: seq2seq_rnn.tf/assets\n"
     ]
    },
    {
     "name": "stdout",
     "output_type": "stream",
     "text": [
      "1302/1302 [==============================] - 89s 69ms/step - loss: 2.0288 - accuracy: 0.6184 - val_loss: 2.1467 - val_accuracy: 0.6231\n",
      "Epoch 9/15\n",
      "INFO:tensorflow:Assets written to: seq2seq_rnn.tf/assetsoss: 1.8892 - accuracy: 0.6378  \n"
     ]
    },
    {
     "name": "stderr",
     "output_type": "stream",
     "text": [
      "INFO:tensorflow:Assets written to: seq2seq_rnn.tf/assets\n"
     ]
    },
    {
     "name": "stdout",
     "output_type": "stream",
     "text": [
      "1302/1302 [==============================] - 90s 69ms/step - loss: 1.8892 - accuracy: 0.6378 - val_loss: 2.0956 - val_accuracy: 0.6326\n",
      "Epoch 10/15\n",
      "INFO:tensorflow:Assets written to: seq2seq_rnn.tf/assetsoss: 1.7693 - accuracy: 0.6540  \n"
     ]
    },
    {
     "name": "stderr",
     "output_type": "stream",
     "text": [
      "INFO:tensorflow:Assets written to: seq2seq_rnn.tf/assets\n"
     ]
    },
    {
     "name": "stdout",
     "output_type": "stream",
     "text": [
      "1302/1302 [==============================] - 89s 69ms/step - loss: 1.7692 - accuracy: 0.6540 - val_loss: 2.0486 - val_accuracy: 0.6389\n",
      "Epoch 11/15\n",
      "INFO:tensorflow:Assets written to: seq2seq_rnn.tf/assetsoss: 1.6638 - accuracy: 0.6685  \n"
     ]
    },
    {
     "name": "stderr",
     "output_type": "stream",
     "text": [
      "INFO:tensorflow:Assets written to: seq2seq_rnn.tf/assets\n"
     ]
    },
    {
     "name": "stdout",
     "output_type": "stream",
     "text": [
      "1302/1302 [==============================] - 91s 70ms/step - loss: 1.6638 - accuracy: 0.6685 - val_loss: 2.0092 - val_accuracy: 0.6449\n",
      "Epoch 12/15\n",
      "INFO:tensorflow:Assets written to: seq2seq_rnn.tf/assetsoss: 1.5697 - accuracy: 0.6823  \n"
     ]
    },
    {
     "name": "stderr",
     "output_type": "stream",
     "text": [
      "INFO:tensorflow:Assets written to: seq2seq_rnn.tf/assets\n"
     ]
    },
    {
     "name": "stdout",
     "output_type": "stream",
     "text": [
      "1302/1302 [==============================] - 91s 70ms/step - loss: 1.5697 - accuracy: 0.6823 - val_loss: 1.9868 - val_accuracy: 0.6493\n",
      "Epoch 13/15\n",
      "INFO:tensorflow:Assets written to: seq2seq_rnn.tf/assetsoss: 1.4893 - accuracy: 0.6935  \n"
     ]
    },
    {
     "name": "stderr",
     "output_type": "stream",
     "text": [
      "INFO:tensorflow:Assets written to: seq2seq_rnn.tf/assets\n"
     ]
    },
    {
     "name": "stdout",
     "output_type": "stream",
     "text": [
      "1302/1302 [==============================] - 90s 69ms/step - loss: 1.4893 - accuracy: 0.6935 - val_loss: 1.9641 - val_accuracy: 0.6548\n",
      "Epoch 14/15\n",
      "INFO:tensorflow:Assets written to: seq2seq_rnn.tf/assetsoss: 1.4161 - accuracy: 0.7043  \n"
     ]
    },
    {
     "name": "stderr",
     "output_type": "stream",
     "text": [
      "INFO:tensorflow:Assets written to: seq2seq_rnn.tf/assets\n"
     ]
    },
    {
     "name": "stdout",
     "output_type": "stream",
     "text": [
      "1302/1302 [==============================] - 89s 68ms/step - loss: 1.4160 - accuracy: 0.7043 - val_loss: 1.9458 - val_accuracy: 0.6561\n",
      "Epoch 15/15\n",
      "INFO:tensorflow:Assets written to: seq2seq_rnn.tf/assetsoss: 1.3540 - accuracy: 0.7131  \n"
     ]
    },
    {
     "name": "stderr",
     "output_type": "stream",
     "text": [
      "INFO:tensorflow:Assets written to: seq2seq_rnn.tf/assets\n"
     ]
    },
    {
     "name": "stdout",
     "output_type": "stream",
     "text": [
      "1302/1302 [==============================] - 90s 69ms/step - loss: 1.3540 - accuracy: 0.7131 - val_loss: 1.9329 - val_accuracy: 0.6593\n"
     ]
    }
   ],
   "source": [
    "history = seq2seq_rnn.fit(train_ds, validation_data=val_ds,\n",
    "                          epochs=15, callbacks=callbacks)"
   ]
  },
  {
   "cell_type": "markdown",
   "id": "eb9f6330-a083-44b2-ad22-81bc5a8410c6",
   "metadata": {},
   "source": [
    "### Model Evaluation"
   ]
  },
  {
   "cell_type": "code",
   "execution_count": 17,
   "id": "92d6c204-68d0-463b-9ac6-b614954f9628",
   "metadata": {
    "execution": {
     "iopub.execute_input": "2025-05-29T19:23:16.969047Z",
     "iopub.status.busy": "2025-05-29T19:23:16.968784Z",
     "iopub.status.idle": "2025-05-29T19:23:30.383610Z",
     "shell.execute_reply": "2025-05-29T19:23:30.382412Z",
     "shell.execute_reply.started": "2025-05-29T19:23:16.969022Z"
    }
   },
   "outputs": [],
   "source": [
    "seq2seq_rnn = keras.models.load_model(\"seq2seq_rnn.tf\")"
   ]
  },
  {
   "cell_type": "code",
   "execution_count": 18,
   "id": "537c7637-9cc5-427d-b6ce-b7a8faa9babd",
   "metadata": {
    "execution": {
     "iopub.execute_input": "2025-05-29T19:23:30.385943Z",
     "iopub.status.busy": "2025-05-29T19:23:30.385670Z",
     "iopub.status.idle": "2025-05-29T19:23:41.141848Z",
     "shell.execute_reply": "2025-05-29T19:23:41.140197Z",
     "shell.execute_reply.started": "2025-05-29T19:23:30.385919Z"
    }
   },
   "outputs": [
    {
     "name": "stdout",
     "output_type": "stream",
     "text": [
      "279/279 [==============================] - 11s 28ms/step - loss: 1.9329 - accuracy: 0.6593\n"
     ]
    },
    {
     "data": {
      "text/plain": [
       "[1.9328864812850952, 0.6592968106269836]"
      ]
     },
     "execution_count": 18,
     "metadata": {},
     "output_type": "execute_result"
    }
   ],
   "source": [
    "seq2seq_rnn.evaluate(val_ds)"
   ]
  },
  {
   "cell_type": "code",
   "execution_count": 19,
   "id": "1c1eb321-d2c4-4bdd-9986-68371dc718ea",
   "metadata": {
    "execution": {
     "iopub.execute_input": "2025-05-29T19:23:41.144470Z",
     "iopub.status.busy": "2025-05-29T19:23:41.143811Z",
     "iopub.status.idle": "2025-05-29T19:23:41.205518Z",
     "shell.execute_reply": "2025-05-29T19:23:41.203779Z",
     "shell.execute_reply.started": "2025-05-29T19:23:41.144407Z"
    }
   },
   "outputs": [],
   "source": [
    "spa_vocab = target_vectorization.get_vocabulary()\n",
    "spa_index_lookup = dict(zip(range(len(spa_vocab)), spa_vocab))\n",
    "max_decoded_sentence_length = 20\n",
    "\n",
    "def decode_sequence(input_sentence):\n",
    "    # Tokenization of input\n",
    "    tokenized_input_sentence = source_vectorization([input_sentence])\n",
    "\n",
    "    # Text generation of translation\n",
    "    decoded_sentence = \"[start]\"\n",
    "    for i in range(max_decoded_sentence_length):\n",
    "        # Tokenize current target sequence\n",
    "        tokenized_target_sentence = target_vectorization([decoded_sentence])\n",
    "\n",
    "        # Generate next token prediction\n",
    "        next_token_predictions = seq2seq_rnn.predict(\n",
    "            [tokenized_input_sentence, tokenized_target_sentence])\n",
    "        sampled_token_index = np.argmax(next_token_predictions[0, i, :])\n",
    "        sampled_token = spa_index_lookup[sampled_token_index]\n",
    "\n",
    "        # Update translation\n",
    "        decoded_sentence += \" \" + sampled_token\n",
    "\n",
    "        # Stop criterion\n",
    "        if sampled_token == \"[end]\":\n",
    "            break\n",
    "\n",
    "    return decoded_sentence"
   ]
  },
  {
   "cell_type": "code",
   "execution_count": 20,
   "id": "2a776fc9-b8ba-46ef-b087-5709e78c24d2",
   "metadata": {
    "execution": {
     "iopub.execute_input": "2025-05-29T19:23:41.206765Z",
     "iopub.status.busy": "2025-05-29T19:23:41.206502Z",
     "iopub.status.idle": "2025-05-29T19:23:45.116166Z",
     "shell.execute_reply": "2025-05-29T19:23:45.114520Z",
     "shell.execute_reply.started": "2025-05-29T19:23:41.206740Z"
    }
   },
   "outputs": [
    {
     "name": "stdout",
     "output_type": "stream",
     "text": [
      "\u001b[1m Input \u001b[0;0m: That's exactly what I said would happen.\n",
      "\n",
      "1/1 [==============================] - 3s 3s/step\n",
      "1/1 [==============================] - 0s 35ms/step\n",
      "1/1 [==============================] - 0s 33ms/step\n",
      "1/1 [==============================] - 0s 31ms/step\n",
      "1/1 [==============================] - 0s 30ms/step\n",
      "1/1 [==============================] - 0s 31ms/step\n",
      "1/1 [==============================] - 0s 29ms/step\n",
      "1/1 [==============================] - 0s 29ms/step\n",
      "1/1 [==============================] - 0s 37ms/step\n",
      "1/1 [==============================] - 0s 32ms/step\n",
      "\n",
      "\u001b[1m Machine Translation \u001b[0;0m: [start] eso es lo que dije que no he vuelto [end]\n",
      "\u001b[1m Actual \u001b[0;0m: [start] Eso es exactamente lo que dije que ocurriría. [end]\n",
      "\n"
     ]
    }
   ],
   "source": [
    "test_eng_texts = [pair[0] for pair in test_pairs]\n",
    "test_spa_texts = [pair[1] for pair in test_pairs]\n",
    "\n",
    "# Choose text pair\n",
    "i = 10\n",
    "\n",
    "input_sentence = test_eng_texts[i]\n",
    "\n",
    "print(f\"\\033[1m Input \\033[0;0m: {input_sentence}\\n\")\n",
    "print(f\"\\n\\033[1m Machine Translation \\033[0;0m: {decode_sequence(input_sentence)}\")\n",
    "print(f\"\\033[1m Actual \\033[0;0m: {test_spa_texts[i]}\\n\")"
   ]
  },
  {
   "cell_type": "markdown",
   "id": "366131be-b8a3-47a0-96bc-e649232d653c",
   "metadata": {},
   "source": [
    "## 3 Seq-to-Seq Learning with Transformer"
   ]
  },
  {
   "cell_type": "markdown",
   "id": "4eac56a6-4db5-4c05-a4ff-04e736dd588c",
   "metadata": {},
   "source": [
    "### Model Architecture"
   ]
  },
  {
   "cell_type": "markdown",
   "id": "0b7fb42c-5d9d-4da2-82a6-3cddb395adef",
   "metadata": {},
   "source": [
    "#### Transformer Encoder"
   ]
  },
  {
   "cell_type": "code",
   "execution_count": 21,
   "id": "6cb0800f-d008-416a-99a6-1cc0e26ac9d3",
   "metadata": {
    "execution": {
     "iopub.execute_input": "2025-05-29T19:23:45.122854Z",
     "iopub.status.busy": "2025-05-29T19:23:45.122194Z",
     "iopub.status.idle": "2025-05-29T19:23:45.137179Z",
     "shell.execute_reply": "2025-05-29T19:23:45.135414Z",
     "shell.execute_reply.started": "2025-05-29T19:23:45.122809Z"
    }
   },
   "outputs": [],
   "source": [
    "class TransformerEncoder(layers.Layer):\n",
    "    def __init__(self, embed_dim, dense_dim, num_heads, **kwargs):\n",
    "        # Initialization of layer attributes\n",
    "        super().__init__(**kwargs)\n",
    "        self.embed_dim = embed_dim\n",
    "        self.dense_dim = dense_dim\n",
    "        self.num_heads = num_heads\n",
    "\n",
    "        # Defining architecture components\n",
    "        self.attention = layers.MultiHeadAttention(\n",
    "            num_heads, key_dim=embed_dim)\n",
    "        self.dense_proj = keras.Sequential(\n",
    "            [layers.Dense(dense_dim, activation=\"relu\"),\n",
    "             layers.Dense(embed_dim),]\n",
    "        )\n",
    "        self.layernorm_1 = layers.LayerNormalization()\n",
    "        self.layernorm_2 = layers.LayerNormalization()\n",
    "\n",
    "    def call(self, inputs, mask=None):\n",
    "        if mask is not None:\n",
    "            mask = mask[:, tf.newaxis, :] # expand mask dimension since attention layer expects 3d or 4d\n",
    "\n",
    "        attention_output = self.attention(\n",
    "            inputs, inputs, attention_mask=mask\n",
    "        )\n",
    "        proj_input = self.layernorm_1(inputs + attention_output)\n",
    "        proj_output = self.dense_proj(proj_input)\n",
    "\n",
    "        return self.layernorm_2(proj_input + proj_output)\n",
    "\n",
    "    def get_config(self):\n",
    "        config = super().get_config()\n",
    "\n",
    "        config.update({\n",
    "            \"embed_dim\": self.embed_dim,\n",
    "            \"num_heads\": self.num_heads,\n",
    "            \"dense_dim\": self.dense_dim,\n",
    "        })\n",
    "\n",
    "        return config"
   ]
  },
  {
   "cell_type": "markdown",
   "id": "ce54414d-0521-400e-8d1c-4cd799075771",
   "metadata": {},
   "source": [
    "#### Positional Encoding"
   ]
  },
  {
   "cell_type": "code",
   "execution_count": 22,
   "id": "98f662d3-036c-4042-b2b3-ead758b0699c",
   "metadata": {
    "execution": {
     "iopub.execute_input": "2025-05-29T19:23:45.138506Z",
     "iopub.status.busy": "2025-05-29T19:23:45.138208Z",
     "iopub.status.idle": "2025-05-29T19:23:45.150344Z",
     "shell.execute_reply": "2025-05-29T19:23:45.149283Z",
     "shell.execute_reply.started": "2025-05-29T19:23:45.138478Z"
    }
   },
   "outputs": [],
   "source": [
    "class PositionalEmbedding(layers.Layer):\n",
    "    def __init__(self, sequence_length, input_dim, output_dim, **kwargs):\n",
    "        # Initialization of attributes\n",
    "        super().__init__(**kwargs)\n",
    "        self.sequence_length = sequence_length\n",
    "        self.input_dim = input_dim\n",
    "        self.output_dim = output_dim\n",
    "\n",
    "        # Architectural components\n",
    "        self.token_embeddings = layers.Embedding(\n",
    "            input_dim=input_dim, output_dim=output_dim\n",
    "        )\n",
    "        self.position_embeddings = layers.Embedding(\n",
    "            input_dim=sequence_length, output_dim=output_dim\n",
    "        )\n",
    "\n",
    "    def call(self, inputs):\n",
    "        # Create position indices\n",
    "        length = tf.shape(inputs)[-1]\n",
    "        positions = tf.range(start=0, limit=length, delta=1, dtype=\"int64\")\n",
    "\n",
    "        embedded_tokens = self.token_embeddings(inputs)\n",
    "        embedded_positions = self.position_embeddings(positions)\n",
    "\n",
    "        return tf.add(embedded_tokens, embedded_positions)\n",
    "\n",
    "    def compute_mask(self, inputs, mask=None):\n",
    "        return tf.math.not_equal(inputs, 0) # Similar to embedding layer, this \n",
    "                                            # should generate a mask so we can\n",
    "                                            # ignore padding 0s in the inputs\n",
    "\n",
    "    def get_config(self):\n",
    "        config = super().get_config()\n",
    "        config.update({\n",
    "            \"output_dim\": self.output_dim,\n",
    "            \"sequence_length\": self.sequence_length,\n",
    "            \"input_dim\": self.input_dim\n",
    "        })\n",
    "\n",
    "        return config"
   ]
  },
  {
   "cell_type": "markdown",
   "id": "e4c15261-414b-43ba-99cc-2146096fbeb4",
   "metadata": {},
   "source": [
    "#### Transformer Decoder"
   ]
  },
  {
   "cell_type": "code",
   "execution_count": 23,
   "id": "0c43a5f5-4f30-4ed8-9884-4d547f1f5fc9",
   "metadata": {
    "execution": {
     "iopub.execute_input": "2025-05-29T19:23:45.151590Z",
     "iopub.status.busy": "2025-05-29T19:23:45.151313Z",
     "iopub.status.idle": "2025-05-29T19:23:45.173721Z",
     "shell.execute_reply": "2025-05-29T19:23:45.172693Z",
     "shell.execute_reply.started": "2025-05-29T19:23:45.151563Z"
    }
   },
   "outputs": [],
   "source": [
    "class TransformerDecoder(layers.Layer):\n",
    "    def __init__(self, embed_dim, dense_dim, num_heads, **kwargs):\n",
    "        # Initialize attributes\n",
    "        super().__init__(**kwargs)\n",
    "        self.embed_dim = embed_dim\n",
    "        self.dense_dim = dense_dim\n",
    "        self.num_heads = num_heads\n",
    "\n",
    "        # Architectural components\n",
    "        self.attention_1 = layers.MultiHeadAttention(\n",
    "            num_heads=num_heads, key_dim=embed_dim)\n",
    "        self.attention_2 = layers.MultiHeadAttention(\n",
    "            num_heads=num_heads, key_dim=embed_dim)\n",
    "        self.dense_proj = keras.Sequential(\n",
    "            [layers.Dense(dense_dim, activation=\"relu\"),\n",
    "             layers.Dense(embed_dim),]\n",
    "        )\n",
    "        self.layernorm_1 = layers.LayerNormalization()\n",
    "        self.layernorm_2 = layers.LayerNormalization()\n",
    "        self.layernorm_3 = layers.LayerNormalization()\n",
    "        self.supports_masking = True # Ensure that the layer will propage its input mask to its output\n",
    "\n",
    "\n",
    "    def get_config(self):\n",
    "        config = super().get_config()\n",
    "        config.update({\n",
    "            \"embed_dim\": self.embed_dim,\n",
    "            \"num_heads\": self.num_heads,\n",
    "            \"dense_dim\": self.dense_dim,\n",
    "        })\n",
    "\n",
    "        return config\n",
    "\n",
    "\n",
    "    def get_causal_attention_mask(self, inputs):\n",
    "        # Get the input dimensions to properly shape mask\n",
    "        input_shape = tf.shape(inputs)\n",
    "        batch_size, sequence_length = input_shape[0], input_shape[1]\n",
    "\n",
    "        # Creates a matrix with 0 and 1 in each half\n",
    "        i = tf.range(sequence_length)[:, tf.newaxis]\n",
    "        j = tf.range(sequence_length)\n",
    "        mask = tf.cast(i >= j, dtype=\"int32\")\n",
    "        mask = tf.reshape(mask, (1, input_shape[1], input_shape[1]))\n",
    "\n",
    "        # Used as multiplier for tiling, creates a mask along the batch axis\n",
    "        mult = tf.concat(\n",
    "            [tf.expand_dims(batch_size, -1),\n",
    "             tf.constant([1, 1], dtype=tf.int32)], axis=0)\n",
    "\n",
    "        return tf.tile(mask, mult)\n",
    "\n",
    "    def call(self, inputs, encoder_outputs, mask=None):\n",
    "        # Consolidate mask from causal and padding mask\n",
    "        causal_mask = self.get_causal_attention_mask(inputs)\n",
    "        if mask is not None:\n",
    "            padding_mask = tf.cast(\n",
    "                mask[:, tf.newaxis, :], dtype=\"int32\")\n",
    "            padding_mask = tf.minimum(padding_mask, causal_mask)\n",
    "        else:\n",
    "            padding_mask = mask\n",
    "\n",
    "        # First multi-head attention layer\n",
    "        attention_output_1 = self.attention_1(\n",
    "            query=inputs,\n",
    "            value=inputs,\n",
    "            key=inputs,\n",
    "            attention_mask=causal_mask)\n",
    "        attention_output_1 = self.layernorm_1(inputs + attention_output_1)\n",
    "\n",
    "        # Encoder output is introduced here\n",
    "        attention_output_2 = self.attention_2(\n",
    "            query=attention_output_1,\n",
    "            value=encoder_outputs,\n",
    "            key=encoder_outputs,\n",
    "            attention_mask=padding_mask,\n",
    "        )\n",
    "\n",
    "        # Attention output from dense projections and layer norms\n",
    "        attention_output_2 = self.layernorm_2(\n",
    "            attention_output_1 + attention_output_2)\n",
    "        proj_output = self.dense_proj(attention_output_2)\n",
    "\n",
    "        return self.layernorm_3(attention_output_2 + proj_output)"
   ]
  },
  {
   "cell_type": "markdown",
   "id": "986e935f-a521-43c5-bf4a-c006969f0cf7",
   "metadata": {},
   "source": [
    "### Model Building"
   ]
  },
  {
   "cell_type": "code",
   "execution_count": 24,
   "id": "7d8052d3-b759-4d69-9bbc-094bd0bd29da",
   "metadata": {
    "execution": {
     "iopub.execute_input": "2025-05-29T19:23:45.174469Z",
     "iopub.status.busy": "2025-05-29T19:23:45.174234Z",
     "iopub.status.idle": "2025-05-29T19:23:45.184049Z",
     "shell.execute_reply": "2025-05-29T19:23:45.183019Z",
     "shell.execute_reply.started": "2025-05-29T19:23:45.174446Z"
    }
   },
   "outputs": [],
   "source": [
    "embed_dim = 256\n",
    "dense_dim = 2048\n",
    "num_heads = 8\n",
    "\n",
    "\n",
    "def make_transformer():\n",
    "    # Encoder\n",
    "    encoder_inputs = keras.Input(shape=(None,), dtype=\"int64\", name=\"english\")\n",
    "    x = PositionalEmbedding(sequence_length, vocab_size, embed_dim)(encoder_inputs)\n",
    "    encoder_outputs = TransformerEncoder(embed_dim, dense_dim, num_heads)(x)\n",
    "\n",
    "    # Decoder\n",
    "    decoder_inputs = keras.Input(shape=(None,), dtype=\"int64\", name=\"spanish\")\n",
    "    x = PositionalEmbedding(sequence_length, vocab_size, embed_dim)(decoder_inputs)\n",
    "    x = TransformerDecoder(embed_dim, dense_dim, num_heads)(x, encoder_outputs)\n",
    "    x = layers.Dropout(0.5)(x)\n",
    "    decoder_outputs = layers.Dense(vocab_size, activation=\"softmax\")(x)\n",
    "\n",
    "    return keras.Model([encoder_inputs, decoder_inputs], decoder_outputs)"
   ]
  },
  {
   "cell_type": "markdown",
   "id": "fe4b132c-7989-4075-adfb-2e5cc2663713",
   "metadata": {},
   "source": [
    "### Model Training"
   ]
  },
  {
   "cell_type": "code",
   "execution_count": 25,
   "id": "c3b52110-288e-4adb-81eb-3337cb9ee70f",
   "metadata": {
    "execution": {
     "iopub.execute_input": "2025-05-29T19:23:45.185041Z",
     "iopub.status.busy": "2025-05-29T19:23:45.184782Z",
     "iopub.status.idle": "2025-05-29T19:23:45.840599Z",
     "shell.execute_reply": "2025-05-29T19:23:45.838881Z",
     "shell.execute_reply.started": "2025-05-29T19:23:45.185014Z"
    }
   },
   "outputs": [],
   "source": [
    "transformer = make_transformer()"
   ]
  },
  {
   "cell_type": "code",
   "execution_count": 26,
   "id": "8c6db898-3427-4dc6-b63e-30b6670d2c20",
   "metadata": {
    "execution": {
     "iopub.execute_input": "2025-05-29T19:23:45.841650Z",
     "iopub.status.busy": "2025-05-29T19:23:45.841441Z",
     "iopub.status.idle": "2025-05-29T19:23:45.854274Z",
     "shell.execute_reply": "2025-05-29T19:23:45.852740Z",
     "shell.execute_reply.started": "2025-05-29T19:23:45.841629Z"
    }
   },
   "outputs": [],
   "source": [
    "transformer.compile(\n",
    "    optimizer=\"rmsprop\",\n",
    "    loss=\"sparse_categorical_crossentropy\",\n",
    "    metrics=[\"accuracy\"])"
   ]
  },
  {
   "cell_type": "code",
   "execution_count": 27,
   "id": "f94c674a-de76-4aa5-bb88-a64aff57e92f",
   "metadata": {
    "execution": {
     "iopub.execute_input": "2025-05-29T19:23:45.855028Z",
     "iopub.status.busy": "2025-05-29T19:23:45.854806Z",
     "iopub.status.idle": "2025-05-29T19:23:46.547494Z",
     "shell.execute_reply": "2025-05-29T19:23:46.545122Z",
     "shell.execute_reply.started": "2025-05-29T19:23:45.855005Z"
    }
   },
   "outputs": [
    {
     "data": {
      "image/png": "[encoded data removed]",
      "text/plain": [
       "<IPython.core.display.Image object>"
      ]
     },
     "execution_count": 27,
     "metadata": {},
     "output_type": "execute_result"
    }
   ],
   "source": [
    "keras.utils.plot_model(transformer, show_shapes=True)"
   ]
  },
  {
   "cell_type": "code",
   "execution_count": 28,
   "id": "a4d86c50-a128-4450-9b71-238a2e6f23f9",
   "metadata": {
    "execution": {
     "iopub.execute_input": "2025-05-29T19:23:46.550759Z",
     "iopub.status.busy": "2025-05-29T19:23:46.549985Z",
     "iopub.status.idle": "2025-05-29T19:23:46.560048Z",
     "shell.execute_reply": "2025-05-29T19:23:46.558428Z",
     "shell.execute_reply.started": "2025-05-29T19:23:46.550681Z"
    }
   },
   "outputs": [],
   "source": [
    "callbacks = [\n",
    "    keras.callbacks.ModelCheckpoint(\n",
    "        \"transformer.h5\", save_best_only=True)\n",
    "]"
   ]
  },
  {
   "cell_type": "code",
   "execution_count": 29,
   "id": "56c123e5-6345-4340-9a82-cdf38b58982b",
   "metadata": {
    "execution": {
     "iopub.execute_input": "2025-05-29T19:23:46.562371Z",
     "iopub.status.busy": "2025-05-29T19:23:46.561761Z",
     "iopub.status.idle": "2025-05-29T19:44:04.388631Z",
     "shell.execute_reply": "2025-05-29T19:44:04.386503Z",
     "shell.execute_reply.started": "2025-05-29T19:23:46.562309Z"
    }
   },
   "outputs": [
    {
     "name": "stdout",
     "output_type": "stream",
     "text": [
      "Epoch 1/20\n",
      "1302/1302 [==============================] - ETA: 0s - loss: 3.7997 - accuracy: 0.4395         "
     ]
    },
    {
     "name": "stderr",
     "output_type": "stream",
     "text": [
      "/home/llorenzo/.conda/new_envs/msds2025ft-ml3-transformers/lib/python3.9/site-packages/keras/src/engine/training.py:3000: UserWarning: You are saving your model as an HDF5 file via `model.save()`. This file format is considered legacy. We recommend using instead the native Keras format, e.g. `model.save('my_model.keras')`.\n",
      "  saving_api.save_model(\n"
     ]
    },
    {
     "name": "stdout",
     "output_type": "stream",
     "text": [
      "1302/1302 [==============================] - 83s 59ms/step - loss: 3.7997 - accuracy: 0.4395 - val_loss: 2.8728 - val_accuracy: 0.5397\n",
      "Epoch 2/20\n",
      "1302/1302 [==============================] - 60s 46ms/step - loss: 2.8519 - accuracy: 0.5501 - val_loss: 2.5150 - val_accuracy: 0.5916\n",
      "Epoch 3/20\n",
      "1302/1302 [==============================] - 60s 46ms/step - loss: 2.5592 - accuracy: 0.5931 - val_loss: 2.3852 - val_accuracy: 0.6138\n",
      "Epoch 4/20\n",
      "1302/1302 [==============================] - 60s 46ms/step - loss: 2.3984 - accuracy: 0.6192 - val_loss: 2.3279 - val_accuracy: 0.6264\n",
      "Epoch 5/20\n",
      "1302/1302 [==============================] - 60s 46ms/step - loss: 2.2914 - accuracy: 0.6380 - val_loss: 2.3096 - val_accuracy: 0.6322\n",
      "Epoch 6/20\n",
      "1302/1302 [==============================] - 60s 46ms/step - loss: 2.2175 - accuracy: 0.6517 - val_loss: 2.2929 - val_accuracy: 0.6388\n",
      "Epoch 7/20\n",
      "1302/1302 [==============================] - 60s 46ms/step - loss: 2.1579 - accuracy: 0.6631 - val_loss: 2.2696 - val_accuracy: 0.6439\n",
      "Epoch 8/20\n",
      "1302/1302 [==============================] - 60s 46ms/step - loss: 2.0958 - accuracy: 0.6760 - val_loss: 2.2510 - val_accuracy: 0.6518\n",
      "Epoch 9/20\n",
      "1302/1302 [==============================] - 59s 46ms/step - loss: 2.0408 - accuracy: 0.6860 - val_loss: 2.2607 - val_accuracy: 0.6535\n",
      "Epoch 10/20\n",
      "1302/1302 [==============================] - 59s 46ms/step - loss: 1.9943 - accuracy: 0.6941 - val_loss: 2.2717 - val_accuracy: 0.6555\n",
      "Epoch 11/20\n",
      "1302/1302 [==============================] - 60s 46ms/step - loss: 1.9564 - accuracy: 0.7011 - val_loss: 2.2491 - val_accuracy: 0.6626\n",
      "Epoch 12/20\n",
      "1302/1302 [==============================] - 59s 46ms/step - loss: 1.9252 - accuracy: 0.7072 - val_loss: 2.2855 - val_accuracy: 0.6624\n",
      "Epoch 13/20\n",
      "1302/1302 [==============================] - 59s 45ms/step - loss: 1.8985 - accuracy: 0.7124 - val_loss: 2.2887 - val_accuracy: 0.6605\n",
      "Epoch 14/20\n",
      "1302/1302 [==============================] - 59s 46ms/step - loss: 1.8731 - accuracy: 0.7168 - val_loss: 2.2527 - val_accuracy: 0.6666\n",
      "Epoch 15/20\n",
      "1302/1302 [==============================] - 59s 46ms/step - loss: 1.8525 - accuracy: 0.7209 - val_loss: 2.2853 - val_accuracy: 0.6655\n",
      "Epoch 16/20\n",
      "1302/1302 [==============================] - 59s 46ms/step - loss: 1.8327 - accuracy: 0.7240 - val_loss: 2.2944 - val_accuracy: 0.6664\n",
      "Epoch 17/20\n",
      "1302/1302 [==============================] - 59s 46ms/step - loss: 1.8136 - accuracy: 0.7280 - val_loss: 2.3111 - val_accuracy: 0.6679\n",
      "Epoch 18/20\n",
      "1302/1302 [==============================] - 60s 46ms/step - loss: 1.7958 - accuracy: 0.7312 - val_loss: 2.3203 - val_accuracy: 0.6666\n",
      "Epoch 19/20\n",
      "1302/1302 [==============================] - 60s 46ms/step - loss: 1.7820 - accuracy: 0.7344 - val_loss: 2.3344 - val_accuracy: 0.6687\n",
      "Epoch 20/20\n",
      "1302/1302 [==============================] - 60s 46ms/step - loss: 1.7697 - accuracy: 0.7360 - val_loss: 2.3384 - val_accuracy: 0.6683\n"
     ]
    }
   ],
   "source": [
    "history = transformer.fit(train_ds, validation_data=val_ds,\n",
    "                          epochs=20, callbacks=callbacks)"
   ]
  },
  {
   "cell_type": "markdown",
   "id": "78419245-b09b-4963-b913-0de79cfd6f82",
   "metadata": {},
   "source": [
    "### Model Evaluation"
   ]
  },
  {
   "cell_type": "code",
   "execution_count": 30,
   "id": "7fb32bc3-d75a-4958-907e-15fda95f2d1f",
   "metadata": {
    "execution": {
     "iopub.execute_input": "2025-05-29T19:44:04.391985Z",
     "iopub.status.busy": "2025-05-29T19:44:04.391324Z",
     "iopub.status.idle": "2025-05-29T19:44:05.347176Z",
     "shell.execute_reply": "2025-05-29T19:44:05.345798Z",
     "shell.execute_reply.started": "2025-05-29T19:44:04.391917Z"
    }
   },
   "outputs": [],
   "source": [
    "transformer = keras.models.load_model(\n",
    "    \"transformer.h5\",\n",
    "    custom_objects={\"TransformerEncoder\": TransformerEncoder,\n",
    "                    \"PositionalEmbedding\": PositionalEmbedding,\n",
    "                    \"TransformerDecoder\": TransformerDecoder})"
   ]
  },
  {
   "cell_type": "code",
   "execution_count": 31,
   "id": "ffbe10d5-8b12-493e-a89f-b3834578f6f6",
   "metadata": {
    "execution": {
     "iopub.execute_input": "2025-05-29T19:44:05.348023Z",
     "iopub.status.busy": "2025-05-29T19:44:05.347781Z",
     "iopub.status.idle": "2025-05-29T19:44:13.250218Z",
     "shell.execute_reply": "2025-05-29T19:44:13.247836Z",
     "shell.execute_reply.started": "2025-05-29T19:44:05.347999Z"
    }
   },
   "outputs": [
    {
     "name": "stdout",
     "output_type": "stream",
     "text": [
      "279/279 [==============================] - 8s 26ms/step - loss: 2.2491 - accuracy: 0.6626\n"
     ]
    },
    {
     "data": {
      "text/plain": [
       "[2.2490713596343994, 0.6626129150390625]"
      ]
     },
     "execution_count": 31,
     "metadata": {},
     "output_type": "execute_result"
    }
   ],
   "source": [
    "transformer.evaluate(val_ds)"
   ]
  },
  {
   "cell_type": "code",
   "execution_count": 32,
   "id": "8a1956c1-881c-4041-a247-a82670f1b957",
   "metadata": {
    "execution": {
     "iopub.execute_input": "2025-05-29T19:44:13.253699Z",
     "iopub.status.busy": "2025-05-29T19:44:13.252898Z",
     "iopub.status.idle": "2025-05-29T19:44:13.268858Z",
     "shell.execute_reply": "2025-05-29T19:44:13.267187Z",
     "shell.execute_reply.started": "2025-05-29T19:44:13.253624Z"
    }
   },
   "outputs": [],
   "source": [
    "max_decoded_sentence_length = 20\n",
    "\n",
    "def decode_sequence_transformer(input_sentence):\n",
    "    # Vectorized input sentence\n",
    "    tokenized_input_sentence = source_vectorization([input_sentence])\n",
    "    decoded_sentence = \"[start]\"\n",
    "\n",
    "    # Generate predictions\n",
    "    for i in range(max_decoded_sentence_length):\n",
    "        # Vectorize target sentence\n",
    "        tokenized_target_sentence = target_vectorization(\n",
    "            [decoded_sentence])[:, :-1]\n",
    "\n",
    "\n",
    "        predictions = transformer(\n",
    "            [tokenized_input_sentence, tokenized_target_sentence])\n",
    "        sampled_token_index = np.argmax(predictions[0, i, :])\n",
    "        sampled_token = spa_index_lookup[sampled_token_index]\n",
    "\n",
    "        decoded_sentence += \" \" + sampled_token\n",
    "        if sampled_token == \"[end]\":\n",
    "            break\n",
    "\n",
    "    return decoded_sentence"
   ]
  },
  {
   "cell_type": "code",
   "execution_count": 33,
   "id": "3557f409-ba8c-426d-ad36-6780fa560311",
   "metadata": {
    "execution": {
     "iopub.execute_input": "2025-05-29T19:44:13.270788Z",
     "iopub.status.busy": "2025-05-29T19:44:13.270319Z",
     "iopub.status.idle": "2025-05-29T19:44:13.632769Z",
     "shell.execute_reply": "2025-05-29T19:44:13.630999Z",
     "shell.execute_reply.started": "2025-05-29T19:44:13.270740Z"
    }
   },
   "outputs": [
    {
     "name": "stdout",
     "output_type": "stream",
     "text": [
      "\u001b[1m Input \u001b[0;0m: Tom has a big family.\n",
      "\n",
      "\n",
      "\u001b[1m Machine Translation \u001b[0;0m: [start] tom tiene una familia grande [end]\n",
      "\u001b[1m Actual \u001b[0;0m: [start] Tom tiene una familia grande. [end]\n",
      "\n"
     ]
    }
   ],
   "source": [
    "test_eng_texts = [pair[0] for pair in test_pairs]\n",
    "test_spa_texts = [pair[1] for pair in test_pairs]\n",
    "\n",
    "# Choose text pair\n",
    "i = 3\n",
    "\n",
    "input_sentence = test_eng_texts[i]\n",
    "\n",
    "print(f\"\\033[1m Input \\033[0;0m: {input_sentence}\\n\")\n",
    "print(f\"\\n\\033[1m Machine Translation \\033[0;0m: {decode_sequence_transformer(input_sentence)}\")\n",
    "print(f\"\\033[1m Actual \\033[0;0m: {test_spa_texts[i]}\\n\")"
   ]
  }
 ],
 "metadata": {
  "kernelspec": {
   "display_name": "Python [conda env:msds2025ft-ml3-transformers]",
   "language": "python",
   "name": "conda-env-msds2025ft-ml3-transformers-py"
  },
  "language_info": {
   "codemirror_mode": {
    "name": "ipython",
    "version": 3
   },
   "file_extension": ".py",
   "mimetype": "text/x-python",
   "name": "python",
   "nbconvert_exporter": "python",
   "pygments_lexer": "ipython3",
   "version": "3.9.22"
  }
 },
 "nbformat": 4,
 "nbformat_minor": 5
}
