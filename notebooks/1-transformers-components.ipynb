{
 "cells": [
  {
   "cell_type": "code",
   "execution_count": 1,
   "id": "3e5a005b-1c15-4dc3-8547-80f7016ee2a1",
   "metadata": {
    "execution": {
     "iopub.execute_input": "2025-05-29T17:49:45.681045Z",
     "iopub.status.busy": "2025-05-29T17:49:45.680809Z",
     "iopub.status.idle": "2025-05-29T17:49:45.692721Z",
     "shell.execute_reply": "2025-05-29T17:49:45.691311Z",
     "shell.execute_reply.started": "2025-05-29T17:49:45.681019Z"
    }
   },
   "outputs": [],
   "source": [
    "import os\n",
    "\n",
    "os.environ['XLA_FLAGS'] = f\"--xla_gpu_cuda_data_dir={os.environ['CONDA_PREFIX']}/lib/\""
   ]
  },
  {
   "cell_type": "markdown",
   "id": "50c1ad18-3cb5-471f-9e18-8f6e06c7314f",
   "metadata": {},
   "source": [
    "# Transformer Components"
   ]
  },
  {
   "cell_type": "markdown",
   "id": "2e64cfb1-5f4e-4dc2-957c-7345a264b54e",
   "metadata": {},
   "source": [
    "## 1 Scaled Dot-Product Attention"
   ]
  },
  {
   "cell_type": "markdown",
   "id": "47a3cbb1-5066-4217-b0c6-9005eddee799",
   "metadata": {},
   "source": [
    "$$\n",
    "\\text{Attention}(Q, K, V) = \\text{softmax} \\left( \\frac{QK^T}{\\sqrt{d_k}} \\right) V\n",
    "$$"
   ]
  },
  {
   "cell_type": "code",
   "execution_count": 2,
   "id": "c9575e9a-0cb9-4a50-b41d-86c82e5a5b57",
   "metadata": {
    "execution": {
     "iopub.execute_input": "2025-05-29T17:49:45.693883Z",
     "iopub.status.busy": "2025-05-29T17:49:45.693686Z",
     "iopub.status.idle": "2025-05-29T17:49:46.329588Z",
     "shell.execute_reply": "2025-05-29T17:49:46.327603Z",
     "shell.execute_reply.started": "2025-05-29T17:49:45.693863Z"
    }
   },
   "outputs": [],
   "source": [
    "import numpy as np\n",
    "from scipy.special import softmax"
   ]
  },
  {
   "cell_type": "code",
   "execution_count": 3,
   "id": "ad20895a-4cf4-46fa-81e3-9df7d595401b",
   "metadata": {
    "execution": {
     "iopub.execute_input": "2025-05-29T17:49:46.333035Z",
     "iopub.status.busy": "2025-05-29T17:49:46.331478Z",
     "iopub.status.idle": "2025-05-29T17:49:46.341896Z",
     "shell.execute_reply": "2025-05-29T17:49:46.340278Z",
     "shell.execute_reply.started": "2025-05-29T17:49:46.332968Z"
    }
   },
   "outputs": [],
   "source": [
    "np.random.seed(1337)\n",
    "q_sequence = np.random.random(size=(5, 10))\n",
    "k_sequence = np.random.random(size=(5, 10))\n",
    "v_sequence = k_sequence.copy()"
   ]
  },
  {
   "cell_type": "markdown",
   "id": "cc35d0d2-aeaf-4d98-8704-dd0598e06ad9",
   "metadata": {},
   "source": [
    "### For-loop Implementation"
   ]
  },
  {
   "cell_type": "code",
   "execution_count": 4,
   "id": "3237e3d2-b30a-4e9b-930d-cf7de28ab50a",
   "metadata": {
    "execution": {
     "iopub.execute_input": "2025-05-29T17:49:46.344916Z",
     "iopub.status.busy": "2025-05-29T17:49:46.343689Z",
     "iopub.status.idle": "2025-05-29T17:49:46.357859Z",
     "shell.execute_reply": "2025-05-29T17:49:46.356296Z",
     "shell.execute_reply.started": "2025-05-29T17:49:46.344861Z"
    }
   },
   "outputs": [],
   "source": [
    "output = np.zeros(shape=v_sequence.shape)\n",
    "\n",
    "for i, q_vector in enumerate(q_sequence):\n",
    "    scores = np.zeros(shape=(len(q_sequence),))\n",
    "\n",
    "    for j, k_vector in enumerate(k_sequence):\n",
    "        scores[j] = np.dot(q_vector, k_vector.T)\n",
    "\n",
    "    scores /= np.sqrt(len(k_vector))\n",
    "    scores = softmax(scores)\n",
    "\n",
    "    output_vector = np.zeros(shape=q_vector.shape)\n",
    "\n",
    "    for j, v_vector in enumerate(v_sequence):\n",
    "        output_vector += v_vector * scores[j]\n",
    "\n",
    "    output[i] = output_vector"
   ]
  },
  {
   "cell_type": "code",
   "execution_count": 5,
   "id": "ebafca5a-e61b-466c-9abe-999f5def020f",
   "metadata": {
    "execution": {
     "iopub.execute_input": "2025-05-29T17:49:46.359373Z",
     "iopub.status.busy": "2025-05-29T17:49:46.358971Z",
     "iopub.status.idle": "2025-05-29T17:49:46.373820Z",
     "shell.execute_reply": "2025-05-29T17:49:46.372570Z",
     "shell.execute_reply.started": "2025-05-29T17:49:46.359336Z"
    }
   },
   "outputs": [
    {
     "data": {
      "text/plain": [
       "array([[0.57284906, 0.6241619 , 0.42520517, 0.77054331, 0.51498201,\n",
       "        0.37227166, 0.39858822, 0.63204179, 0.69069591, 0.53930717],\n",
       "       [0.56543131, 0.63987227, 0.39927305, 0.77201221, 0.52879869,\n",
       "        0.39989248, 0.4143486 , 0.62758946, 0.68079163, 0.56012285],\n",
       "       [0.5715203 , 0.62739219, 0.41876807, 0.77218655, 0.5223185 ,\n",
       "        0.37794863, 0.40369935, 0.63315834, 0.68463259, 0.54588121],\n",
       "       [0.55985979, 0.62539716, 0.40915768, 0.76689235, 0.52276334,\n",
       "        0.36085987, 0.41196783, 0.64331435, 0.66314229, 0.55337357],\n",
       "       [0.56299325, 0.64480461, 0.38976731, 0.77313509, 0.51665272,\n",
       "        0.39105676, 0.41212249, 0.63581084, 0.68213553, 0.56622954]])"
      ]
     },
     "execution_count": 5,
     "metadata": {},
     "output_type": "execute_result"
    }
   ],
   "source": [
    "output"
   ]
  },
  {
   "cell_type": "markdown",
   "id": "b6f2098e-d063-4aa1-8ad4-7e291a4a8229",
   "metadata": {},
   "source": [
    "### Vector Implementation"
   ]
  },
  {
   "cell_type": "code",
   "execution_count": 6,
   "id": "877eebfa-e2b1-4e60-bc73-323e0d26f0c5",
   "metadata": {
    "execution": {
     "iopub.execute_input": "2025-05-29T17:49:46.377544Z",
     "iopub.status.busy": "2025-05-29T17:49:46.377113Z",
     "iopub.status.idle": "2025-05-29T17:49:46.387587Z",
     "shell.execute_reply": "2025-05-29T17:49:46.386306Z",
     "shell.execute_reply.started": "2025-05-29T17:49:46.377504Z"
    }
   },
   "outputs": [
    {
     "data": {
      "text/plain": [
       "array([[0.57284906, 0.6241619 , 0.42520517, 0.77054331, 0.51498201,\n",
       "        0.37227166, 0.39858822, 0.63204179, 0.69069591, 0.53930717],\n",
       "       [0.56543131, 0.63987227, 0.39927305, 0.77201221, 0.52879869,\n",
       "        0.39989248, 0.4143486 , 0.62758946, 0.68079163, 0.56012285],\n",
       "       [0.5715203 , 0.62739219, 0.41876807, 0.77218655, 0.5223185 ,\n",
       "        0.37794863, 0.40369935, 0.63315834, 0.68463259, 0.54588121],\n",
       "       [0.55985979, 0.62539716, 0.40915768, 0.76689235, 0.52276334,\n",
       "        0.36085987, 0.41196783, 0.64331435, 0.66314229, 0.55337357],\n",
       "       [0.56299325, 0.64480461, 0.38976731, 0.77313509, 0.51665272,\n",
       "        0.39105676, 0.41212249, 0.63581084, 0.68213553, 0.56622954]])"
      ]
     },
     "execution_count": 6,
     "metadata": {},
     "output_type": "execute_result"
    }
   ],
   "source": [
    "softmax((q_sequence @ k_sequence.T) / np.sqrt(len(k_vector)), axis=1) @ v_sequence"
   ]
  },
  {
   "cell_type": "markdown",
   "id": "9dab53d2-6bef-43a2-b53d-536461e33a3e",
   "metadata": {},
   "source": [
    "## 2 Multi-head Attention"
   ]
  },
  {
   "cell_type": "code",
   "execution_count": 7,
   "id": "cd3649ef-09fe-45b6-9316-5c79314983e8",
   "metadata": {
    "execution": {
     "iopub.execute_input": "2025-05-29T17:49:46.389158Z",
     "iopub.status.busy": "2025-05-29T17:49:46.388790Z",
     "iopub.status.idle": "2025-05-29T17:49:53.036872Z",
     "shell.execute_reply": "2025-05-29T17:49:53.034471Z",
     "shell.execute_reply.started": "2025-05-29T17:49:46.389123Z"
    }
   },
   "outputs": [],
   "source": [
    "from keras import layers"
   ]
  },
  {
   "cell_type": "code",
   "execution_count": 8,
   "id": "8cb8d917-c911-4527-a1e0-41c67b8c4bcb",
   "metadata": {
    "execution": {
     "iopub.execute_input": "2025-05-29T17:49:53.040335Z",
     "iopub.status.busy": "2025-05-29T17:49:53.039207Z",
     "iopub.status.idle": "2025-05-29T17:49:53.112392Z",
     "shell.execute_reply": "2025-05-29T17:49:53.110668Z",
     "shell.execute_reply.started": "2025-05-29T17:49:53.040244Z"
    },
    "scrolled": true
   },
   "outputs": [
    {
     "data": {
      "text/plain": [
       "\u001b[0;31mInit signature:\u001b[0m\n",
       "\u001b[0mlayers\u001b[0m\u001b[0;34m.\u001b[0m\u001b[0mMultiHeadAttention\u001b[0m\u001b[0;34m(\u001b[0m\u001b[0;34m\u001b[0m\n",
       "\u001b[0;34m\u001b[0m    \u001b[0mnum_heads\u001b[0m\u001b[0;34m,\u001b[0m\u001b[0;34m\u001b[0m\n",
       "\u001b[0;34m\u001b[0m    \u001b[0mkey_dim\u001b[0m\u001b[0;34m,\u001b[0m\u001b[0;34m\u001b[0m\n",
       "\u001b[0;34m\u001b[0m    \u001b[0mvalue_dim\u001b[0m\u001b[0;34m=\u001b[0m\u001b[0;32mNone\u001b[0m\u001b[0;34m,\u001b[0m\u001b[0;34m\u001b[0m\n",
       "\u001b[0;34m\u001b[0m    \u001b[0mdropout\u001b[0m\u001b[0;34m=\u001b[0m\u001b[0;36m0.0\u001b[0m\u001b[0;34m,\u001b[0m\u001b[0;34m\u001b[0m\n",
       "\u001b[0;34m\u001b[0m    \u001b[0muse_bias\u001b[0m\u001b[0;34m=\u001b[0m\u001b[0;32mTrue\u001b[0m\u001b[0;34m,\u001b[0m\u001b[0;34m\u001b[0m\n",
       "\u001b[0;34m\u001b[0m    \u001b[0moutput_shape\u001b[0m\u001b[0;34m=\u001b[0m\u001b[0;32mNone\u001b[0m\u001b[0;34m,\u001b[0m\u001b[0;34m\u001b[0m\n",
       "\u001b[0;34m\u001b[0m    \u001b[0mattention_axes\u001b[0m\u001b[0;34m=\u001b[0m\u001b[0;32mNone\u001b[0m\u001b[0;34m,\u001b[0m\u001b[0;34m\u001b[0m\n",
       "\u001b[0;34m\u001b[0m    \u001b[0mkernel_initializer\u001b[0m\u001b[0;34m=\u001b[0m\u001b[0;34m'glorot_uniform'\u001b[0m\u001b[0;34m,\u001b[0m\u001b[0;34m\u001b[0m\n",
       "\u001b[0;34m\u001b[0m    \u001b[0mbias_initializer\u001b[0m\u001b[0;34m=\u001b[0m\u001b[0;34m'zeros'\u001b[0m\u001b[0;34m,\u001b[0m\u001b[0;34m\u001b[0m\n",
       "\u001b[0;34m\u001b[0m    \u001b[0mkernel_regularizer\u001b[0m\u001b[0;34m=\u001b[0m\u001b[0;32mNone\u001b[0m\u001b[0;34m,\u001b[0m\u001b[0;34m\u001b[0m\n",
       "\u001b[0;34m\u001b[0m    \u001b[0mbias_regularizer\u001b[0m\u001b[0;34m=\u001b[0m\u001b[0;32mNone\u001b[0m\u001b[0;34m,\u001b[0m\u001b[0;34m\u001b[0m\n",
       "\u001b[0;34m\u001b[0m    \u001b[0mactivity_regularizer\u001b[0m\u001b[0;34m=\u001b[0m\u001b[0;32mNone\u001b[0m\u001b[0;34m,\u001b[0m\u001b[0;34m\u001b[0m\n",
       "\u001b[0;34m\u001b[0m    \u001b[0mkernel_constraint\u001b[0m\u001b[0;34m=\u001b[0m\u001b[0;32mNone\u001b[0m\u001b[0;34m,\u001b[0m\u001b[0;34m\u001b[0m\n",
       "\u001b[0;34m\u001b[0m    \u001b[0mbias_constraint\u001b[0m\u001b[0;34m=\u001b[0m\u001b[0;32mNone\u001b[0m\u001b[0;34m,\u001b[0m\u001b[0;34m\u001b[0m\n",
       "\u001b[0;34m\u001b[0m    \u001b[0;34m**\u001b[0m\u001b[0mkwargs\u001b[0m\u001b[0;34m,\u001b[0m\u001b[0;34m\u001b[0m\n",
       "\u001b[0;34m\u001b[0m\u001b[0;34m)\u001b[0m\u001b[0;34m\u001b[0m\u001b[0;34m\u001b[0m\u001b[0m\n",
       "\u001b[0;31mDocstring:\u001b[0m     \n",
       "MultiHeadAttention layer.\n",
       "\n",
       "This is an implementation of multi-headed attention as described in the\n",
       "paper \"Attention is all you Need\" (Vaswani et al., 2017).\n",
       "If `query`, `key,` `value` are the same, then\n",
       "this is self-attention. Each timestep in `query` attends to the\n",
       "corresponding sequence in `key`, and returns a fixed-width vector.\n",
       "\n",
       "This layer first projects `query`, `key` and `value`. These are\n",
       "(effectively) a list of tensors of length `num_attention_heads`, where the\n",
       "corresponding shapes are `(batch_size, <query dimensions>, key_dim)`,\n",
       "`(batch_size, <key/value dimensions>, key_dim)`,\n",
       "`(batch_size, <key/value dimensions>, value_dim)`.\n",
       "\n",
       "Then, the query and key tensors are dot-producted and scaled. These are\n",
       "softmaxed to obtain attention probabilities. The value tensors are then\n",
       "interpolated by these probabilities, then concatenated back to a single\n",
       "tensor.\n",
       "\n",
       "Finally, the result tensor with the last dimension as value_dim can take an\n",
       "linear projection and return.\n",
       "\n",
       "When using `MultiHeadAttention` inside a custom layer, the custom layer must\n",
       "implement its own `build()` method and call `MultiHeadAttention`'s\n",
       "`_build_from_signature()` there.\n",
       "This enables weights to be restored correctly when the model is loaded.\n",
       "\n",
       "Examples:\n",
       "\n",
       "Performs 1D cross-attention over two sequence inputs with an attention mask.\n",
       "Returns the additional attention weights over heads.\n",
       "\n",
       ">>> layer = MultiHeadAttention(num_heads=2, key_dim=2)\n",
       ">>> target = tf.keras.Input(shape=[8, 16])\n",
       ">>> source = tf.keras.Input(shape=[4, 16])\n",
       ">>> output_tensor, weights = layer(target, source,\n",
       "...                                return_attention_scores=True)\n",
       ">>> print(output_tensor.shape)\n",
       "(None, 8, 16)\n",
       ">>> print(weights.shape)\n",
       "(None, 2, 8, 4)\n",
       "\n",
       "Performs 2D self-attention over a 5D input tensor on axes 2 and 3.\n",
       "\n",
       ">>> layer = MultiHeadAttention(\n",
       "...     num_heads=2, key_dim=2, attention_axes=(2, 3))\n",
       ">>> input_tensor = tf.keras.Input(shape=[5, 3, 4, 16])\n",
       ">>> output_tensor = layer(input_tensor, input_tensor)\n",
       ">>> print(output_tensor.shape)\n",
       "(None, 5, 3, 4, 16)\n",
       "\n",
       "Args:\n",
       "    num_heads: Number of attention heads.\n",
       "    key_dim: Size of each attention head for query and key.\n",
       "    value_dim: Size of each attention head for value.\n",
       "    dropout: Dropout probability.\n",
       "    use_bias: Boolean, whether the dense layers use bias vectors/matrices.\n",
       "    output_shape: The expected shape of an output tensor, besides the batch\n",
       "        and sequence dims. If not specified, projects back to the query\n",
       "        feature dim (the query input's last dimension).\n",
       "    attention_axes: axes over which the attention is applied. `None` means\n",
       "        attention over all axes, but batch, heads, and features.\n",
       "    kernel_initializer: Initializer for dense layer kernels.\n",
       "    bias_initializer: Initializer for dense layer biases.\n",
       "    kernel_regularizer: Regularizer for dense layer kernels.\n",
       "    bias_regularizer: Regularizer for dense layer biases.\n",
       "    activity_regularizer: Regularizer for dense layer activity.\n",
       "    kernel_constraint: Constraint for dense layer kernels.\n",
       "    bias_constraint: Constraint for dense layer kernels.\n",
       "\n",
       "Call arguments:\n",
       "    query: Query `Tensor` of shape `(B, T, dim)`.\n",
       "    value: Value `Tensor` of shape `(B, S, dim)`.\n",
       "    key: Optional key `Tensor` of shape `(B, S, dim)`. If not given, will\n",
       "        use `value` for both `key` and `value`, which is the most common\n",
       "        case.\n",
       "    attention_mask: a boolean mask of shape `(B, T, S)`, that prevents\n",
       "        attention to certain positions. The boolean mask specifies which\n",
       "        query elements can attend to which key elements, 1 indicates\n",
       "        attention and 0 indicates no attention. Broadcasting can happen for\n",
       "        the missing batch dimensions and the head dimension.\n",
       "    return_attention_scores: A boolean to indicate whether the output should\n",
       "        be `(attention_output, attention_scores)` if `True`, or\n",
       "        `attention_output` if `False`. Defaults to `False`.\n",
       "    training: Python boolean indicating whether the layer should behave in\n",
       "        training mode (adding dropout) or in inference mode (no dropout).\n",
       "        Will go with either using the training mode of the parent\n",
       "        layer/model, or False (inference) if there is no parent layer.\n",
       "    use_causal_mask: A boolean to indicate whether to apply a causal mask to\n",
       "        prevent tokens from attending to future tokens (e.g., used in a\n",
       "        decoder Transformer).\n",
       "\n",
       "Returns:\n",
       "    attention_output: The result of the computation, of shape `(B, T, E)`,\n",
       "        where `T` is for target sequence shapes and `E` is the query input\n",
       "        last dimension if `output_shape` is `None`. Otherwise, the\n",
       "        multi-head outputs are projected to the shape specified by\n",
       "        `output_shape`.\n",
       "    attention_scores: [Optional] multi-head attention coefficients over\n",
       "        attention axes.\n",
       "\u001b[0;31mFile:\u001b[0m           ~/.conda/new_envs/msds2025ft-ml3-transformers/lib/python3.9/site-packages/keras/src/layers/attention/multi_head_attention.py\n",
       "\u001b[0;31mType:\u001b[0m           type\n",
       "\u001b[0;31mSubclasses:\u001b[0m     "
      ]
     },
     "metadata": {},
     "output_type": "display_data"
    }
   ],
   "source": [
    "layers.MultiHeadAttention?"
   ]
  },
  {
   "cell_type": "code",
   "execution_count": 9,
   "id": "dce36b98-f2da-4c6e-b5f0-e3a1a8437890",
   "metadata": {
    "execution": {
     "iopub.execute_input": "2025-05-29T17:49:53.113993Z",
     "iopub.status.busy": "2025-05-29T17:49:53.113734Z",
     "iopub.status.idle": "2025-05-29T17:49:53.126848Z",
     "shell.execute_reply": "2025-05-29T17:49:53.125154Z",
     "shell.execute_reply.started": "2025-05-29T17:49:53.113968Z"
    }
   },
   "outputs": [],
   "source": [
    "num_heads = 4\n",
    "embed_dim = 10\n",
    "mha_layer = layers.MultiHeadAttention(num_heads=num_heads, key_dim=embed_dim)"
   ]
  },
  {
   "cell_type": "code",
   "execution_count": 10,
   "id": "74159379-0516-418d-8f60-dbdc014c6a7c",
   "metadata": {
    "execution": {
     "iopub.execute_input": "2025-05-29T17:49:53.128157Z",
     "iopub.status.busy": "2025-05-29T17:49:53.127910Z",
     "iopub.status.idle": "2025-05-29T17:49:53.553902Z",
     "shell.execute_reply": "2025-05-29T17:49:53.552344Z",
     "shell.execute_reply.started": "2025-05-29T17:49:53.128133Z"
    }
   },
   "outputs": [
    {
     "data": {
      "text/plain": [
       "<tf.Tensor: shape=(1, 5, 10), dtype=float32, numpy=\n",
       "array([[[ 0.05663091, -0.10765006,  0.48948398, -0.07543378,\n",
       "         -0.04875398,  0.45872042, -0.23137562, -0.19092551,\n",
       "         -0.18513665, -0.08372168],\n",
       "        [ 0.05681177, -0.10743542,  0.48938474, -0.07487963,\n",
       "         -0.04845609,  0.45961136, -0.23126273, -0.19116779,\n",
       "         -0.18536365, -0.08369228],\n",
       "        [ 0.05653821, -0.10762081,  0.48883337, -0.07477252,\n",
       "         -0.04845449,  0.45951137, -0.23147833, -0.1916148 ,\n",
       "         -0.18542819, -0.08358492],\n",
       "        [ 0.05608054, -0.10683779,  0.4884538 , -0.07536796,\n",
       "         -0.04806905,  0.45730373, -0.23021281, -0.19133647,\n",
       "         -0.185938  , -0.08244988],\n",
       "        [ 0.05744241, -0.10784833,  0.4895334 , -0.07521044,\n",
       "         -0.04874349,  0.460122  , -0.23151511, -0.19172466,\n",
       "         -0.1851113 , -0.08364887]]], dtype=float32)>"
      ]
     },
     "execution_count": 10,
     "metadata": {},
     "output_type": "execute_result"
    }
   ],
   "source": [
    "mha_layer(q_sequence[np.newaxis, :, :],\n",
    "          k_sequence[np.newaxis, :, :],\n",
    "          v_sequence[np.newaxis, :, :])"
   ]
  },
  {
   "cell_type": "markdown",
   "id": "818faea7-a833-4e3c-94e1-1e831e552670",
   "metadata": {},
   "source": [
    "## 3 Normalization Techniques"
   ]
  },
  {
   "cell_type": "markdown",
   "id": "860abbfc-560f-4fbc-b43c-71f548214f30",
   "metadata": {},
   "source": [
    "### Layer Normalization"
   ]
  },
  {
   "cell_type": "code",
   "execution_count": 11,
   "id": "8c7da48e-f710-495a-8589-47d2248e8139",
   "metadata": {
    "execution": {
     "iopub.execute_input": "2025-05-29T17:49:53.555085Z",
     "iopub.status.busy": "2025-05-29T17:49:53.554827Z",
     "iopub.status.idle": "2025-05-29T17:49:53.561680Z",
     "shell.execute_reply": "2025-05-29T17:49:53.560207Z",
     "shell.execute_reply.started": "2025-05-29T17:49:53.555061Z"
    }
   },
   "outputs": [],
   "source": [
    "def layer_normalization(batch_of_sequences):\n",
    "    # Batch of sequences has shape (batch size, sequence length, embedding dimension)\n",
    "    mean = np.mean(batch_of_sequences, keepdims=True, axis=-1)\n",
    "    variance = np.var(batch_of_sequences, keepdims=True, axis=-1)\n",
    "\n",
    "    return (batch_of_sequences - mean) / variance"
   ]
  },
  {
   "cell_type": "code",
   "execution_count": 12,
   "id": "eb0a8deb-82e4-4a10-bd77-651e1df21b9b",
   "metadata": {
    "execution": {
     "iopub.execute_input": "2025-05-29T17:49:53.563131Z",
     "iopub.status.busy": "2025-05-29T17:49:53.562871Z",
     "iopub.status.idle": "2025-05-29T17:49:53.570897Z",
     "shell.execute_reply": "2025-05-29T17:49:53.569445Z",
     "shell.execute_reply.started": "2025-05-29T17:49:53.563106Z"
    }
   },
   "outputs": [
    {
     "data": {
      "text/plain": [
       "array([[ 0,  1,  2,  3,  4],\n",
       "       [ 5,  6,  7,  8,  9],\n",
       "       [10, 11, 12, 13, 14],\n",
       "       [15, 16, 17, 18, 19]])"
      ]
     },
     "execution_count": 12,
     "metadata": {},
     "output_type": "execute_result"
    }
   ],
   "source": [
    "s1 = np.arange(0, 20).reshape((4, 5))\n",
    "s1"
   ]
  },
  {
   "cell_type": "code",
   "execution_count": 13,
   "id": "7df43f08-43ba-455a-a748-a50d5fc1bf10",
   "metadata": {
    "execution": {
     "iopub.execute_input": "2025-05-29T17:49:53.572312Z",
     "iopub.status.busy": "2025-05-29T17:49:53.572004Z",
     "iopub.status.idle": "2025-05-29T17:49:53.580422Z",
     "shell.execute_reply": "2025-05-29T17:49:53.578808Z",
     "shell.execute_reply.started": "2025-05-29T17:49:53.572283Z"
    }
   },
   "outputs": [
    {
     "data": {
      "text/plain": [
       "array([[ 0,  2,  4,  6,  8],\n",
       "       [10, 12, 14, 16, 18],\n",
       "       [20, 22, 24, 26, 28],\n",
       "       [30, 32, 34, 36, 38]])"
      ]
     },
     "execution_count": 13,
     "metadata": {},
     "output_type": "execute_result"
    }
   ],
   "source": [
    "s2 = 2*s1\n",
    "s2"
   ]
  },
  {
   "cell_type": "code",
   "execution_count": 14,
   "id": "b80e7702-baba-4d6b-90a8-817a10f76d30",
   "metadata": {
    "execution": {
     "iopub.execute_input": "2025-05-29T17:49:53.582014Z",
     "iopub.status.busy": "2025-05-29T17:49:53.581629Z",
     "iopub.status.idle": "2025-05-29T17:49:53.592305Z",
     "shell.execute_reply": "2025-05-29T17:49:53.590004Z",
     "shell.execute_reply.started": "2025-05-29T17:49:53.581976Z"
    }
   },
   "outputs": [
    {
     "data": {
      "text/plain": [
       "array([[[ 0,  1,  2,  3,  4],\n",
       "        [ 5,  6,  7,  8,  9],\n",
       "        [10, 11, 12, 13, 14],\n",
       "        [15, 16, 17, 18, 19]],\n",
       "\n",
       "       [[ 0,  2,  4,  6,  8],\n",
       "        [10, 12, 14, 16, 18],\n",
       "        [20, 22, 24, 26, 28],\n",
       "        [30, 32, 34, 36, 38]]])"
      ]
     },
     "execution_count": 14,
     "metadata": {},
     "output_type": "execute_result"
    }
   ],
   "source": [
    "batch_of_sequences = np.concatenate((s1[np.newaxis, :], s2[np.newaxis, :]))\n",
    "batch_of_sequences"
   ]
  },
  {
   "cell_type": "code",
   "execution_count": 15,
   "id": "401674b6-65fa-45b1-b538-a06c7139e8b9",
   "metadata": {
    "execution": {
     "iopub.execute_input": "2025-05-29T17:49:53.595590Z",
     "iopub.status.busy": "2025-05-29T17:49:53.594394Z",
     "iopub.status.idle": "2025-05-29T17:49:53.606065Z",
     "shell.execute_reply": "2025-05-29T17:49:53.604285Z",
     "shell.execute_reply.started": "2025-05-29T17:49:53.595521Z"
    }
   },
   "outputs": [
    {
     "data": {
      "text/plain": [
       "array([[[ 2.],\n",
       "        [ 7.],\n",
       "        [12.],\n",
       "        [17.]],\n",
       "\n",
       "       [[ 4.],\n",
       "        [14.],\n",
       "        [24.],\n",
       "        [34.]]])"
      ]
     },
     "execution_count": 15,
     "metadata": {},
     "output_type": "execute_result"
    }
   ],
   "source": [
    "mean = np.mean(batch_of_sequences, keepdims=True, axis=-1)\n",
    "mean"
   ]
  },
  {
   "cell_type": "code",
   "execution_count": 16,
   "id": "a424d4c2-02b5-49d4-a167-67cd3b593596",
   "metadata": {
    "execution": {
     "iopub.execute_input": "2025-05-29T17:49:53.608135Z",
     "iopub.status.busy": "2025-05-29T17:49:53.607638Z",
     "iopub.status.idle": "2025-05-29T17:49:53.617521Z",
     "shell.execute_reply": "2025-05-29T17:49:53.615754Z",
     "shell.execute_reply.started": "2025-05-29T17:49:53.608088Z"
    }
   },
   "outputs": [
    {
     "data": {
      "text/plain": [
       "(2, 4, 1)"
      ]
     },
     "execution_count": 16,
     "metadata": {},
     "output_type": "execute_result"
    }
   ],
   "source": [
    "mean.shape"
   ]
  },
  {
   "cell_type": "markdown",
   "id": "6be93e57-a654-4fb3-8958-32d5a232d109",
   "metadata": {},
   "source": [
    "### Batch Normalization"
   ]
  },
  {
   "cell_type": "code",
   "execution_count": 17,
   "id": "513e9d83-773a-4511-818b-ce9882216e8c",
   "metadata": {
    "execution": {
     "iopub.execute_input": "2025-05-29T17:49:53.619471Z",
     "iopub.status.busy": "2025-05-29T17:49:53.618972Z",
     "iopub.status.idle": "2025-05-29T17:49:53.628323Z",
     "shell.execute_reply": "2025-05-29T17:49:53.626938Z",
     "shell.execute_reply.started": "2025-05-29T17:49:53.619423Z"
    }
   },
   "outputs": [],
   "source": [
    "def layer_normalization(batch_of_images):\n",
    "    # Batch of images has shape (batch size, height, width, channels)\n",
    "    mean = np.mean(batch_of_images, keepdims=True, axis=(0, 1, 2))\n",
    "    variance = np.var(batch_of_images, keepdims=True, axis=(0, 1, 2))\n",
    "\n",
    "    return (batch_of_images - mean) / variance"
   ]
  },
  {
   "cell_type": "code",
   "execution_count": 18,
   "id": "0fd2f888-4536-411c-b954-fe71e2328c8e",
   "metadata": {
    "execution": {
     "iopub.execute_input": "2025-05-29T17:49:53.631068Z",
     "iopub.status.busy": "2025-05-29T17:49:53.629813Z",
     "iopub.status.idle": "2025-05-29T17:49:53.639992Z",
     "shell.execute_reply": "2025-05-29T17:49:53.638377Z",
     "shell.execute_reply.started": "2025-05-29T17:49:53.631025Z"
    }
   },
   "outputs": [
    {
     "data": {
      "text/plain": [
       "array([[[ 0,  1,  2],\n",
       "        [ 3,  4,  5],\n",
       "        [ 6,  7,  8]],\n",
       "\n",
       "       [[ 9, 10, 11],\n",
       "        [12, 13, 14],\n",
       "        [15, 16, 17]],\n",
       "\n",
       "       [[18, 19, 20],\n",
       "        [21, 22, 23],\n",
       "        [24, 25, 26]]])"
      ]
     },
     "execution_count": 18,
     "metadata": {},
     "output_type": "execute_result"
    }
   ],
   "source": [
    "img_1 = np.arange(0, 3*3*3).reshape((3, 3, 3))\n",
    "img_1"
   ]
  },
  {
   "cell_type": "code",
   "execution_count": 19,
   "id": "6360fcad-763a-46c6-9442-7e9674fa126d",
   "metadata": {
    "execution": {
     "iopub.execute_input": "2025-05-29T17:49:53.642403Z",
     "iopub.status.busy": "2025-05-29T17:49:53.641372Z",
     "iopub.status.idle": "2025-05-29T17:49:53.650537Z",
     "shell.execute_reply": "2025-05-29T17:49:53.649055Z",
     "shell.execute_reply.started": "2025-05-29T17:49:53.642362Z"
    }
   },
   "outputs": [
    {
     "data": {
      "text/plain": [
       "array([[[ 1,  2,  3],\n",
       "        [ 4,  5,  6],\n",
       "        [ 7,  8,  9]],\n",
       "\n",
       "       [[10, 11, 12],\n",
       "        [13, 14, 15],\n",
       "        [16, 17, 18]],\n",
       "\n",
       "       [[19, 20, 21],\n",
       "        [22, 23, 24],\n",
       "        [25, 26, 27]]])"
      ]
     },
     "execution_count": 19,
     "metadata": {},
     "output_type": "execute_result"
    }
   ],
   "source": [
    "img_2 = img_1 + 1\n",
    "img_2"
   ]
  },
  {
   "cell_type": "code",
   "execution_count": 20,
   "id": "c3228d55-0a16-4ef6-961b-a1763bd3d4da",
   "metadata": {
    "execution": {
     "iopub.execute_input": "2025-05-29T17:49:53.652308Z",
     "iopub.status.busy": "2025-05-29T17:49:53.651894Z",
     "iopub.status.idle": "2025-05-29T17:49:53.659319Z",
     "shell.execute_reply": "2025-05-29T17:49:53.657661Z",
     "shell.execute_reply.started": "2025-05-29T17:49:53.652270Z"
    }
   },
   "outputs": [],
   "source": [
    "batch_of_images = np.concatenate((img_1[np.newaxis, :], img_2[np.newaxis, :]))"
   ]
  },
  {
   "cell_type": "code",
   "execution_count": 21,
   "id": "8041754c-85ae-48da-957c-1984808b6ec4",
   "metadata": {
    "execution": {
     "iopub.execute_input": "2025-05-29T17:49:53.665374Z",
     "iopub.status.busy": "2025-05-29T17:49:53.664444Z",
     "iopub.status.idle": "2025-05-29T17:49:53.673738Z",
     "shell.execute_reply": "2025-05-29T17:49:53.672000Z",
     "shell.execute_reply.started": "2025-05-29T17:49:53.665331Z"
    }
   },
   "outputs": [
    {
     "data": {
      "text/plain": [
       "array([[[[ 0,  1,  2],\n",
       "         [ 3,  4,  5],\n",
       "         [ 6,  7,  8]],\n",
       "\n",
       "        [[ 9, 10, 11],\n",
       "         [12, 13, 14],\n",
       "         [15, 16, 17]],\n",
       "\n",
       "        [[18, 19, 20],\n",
       "         [21, 22, 23],\n",
       "         [24, 25, 26]]],\n",
       "\n",
       "\n",
       "       [[[ 1,  2,  3],\n",
       "         [ 4,  5,  6],\n",
       "         [ 7,  8,  9]],\n",
       "\n",
       "        [[10, 11, 12],\n",
       "         [13, 14, 15],\n",
       "         [16, 17, 18]],\n",
       "\n",
       "        [[19, 20, 21],\n",
       "         [22, 23, 24],\n",
       "         [25, 26, 27]]]])"
      ]
     },
     "execution_count": 21,
     "metadata": {},
     "output_type": "execute_result"
    }
   ],
   "source": [
    "batch_of_images"
   ]
  },
  {
   "cell_type": "code",
   "execution_count": 22,
   "id": "837b3452-4d6c-4d07-8ec9-ba4832e1c5e4",
   "metadata": {
    "execution": {
     "iopub.execute_input": "2025-05-29T17:49:53.675627Z",
     "iopub.status.busy": "2025-05-29T17:49:53.675237Z",
     "iopub.status.idle": "2025-05-29T17:49:53.684160Z",
     "shell.execute_reply": "2025-05-29T17:49:53.682416Z",
     "shell.execute_reply.started": "2025-05-29T17:49:53.675590Z"
    }
   },
   "outputs": [
    {
     "data": {
      "text/plain": [
       "(2, 3, 3, 3)"
      ]
     },
     "execution_count": 22,
     "metadata": {},
     "output_type": "execute_result"
    }
   ],
   "source": [
    "batch_of_images.shape"
   ]
  },
  {
   "cell_type": "code",
   "execution_count": 23,
   "id": "375f1e88-bf6b-4726-b7a2-fccfaf895b92",
   "metadata": {
    "execution": {
     "iopub.execute_input": "2025-05-29T17:49:53.685976Z",
     "iopub.status.busy": "2025-05-29T17:49:53.685569Z",
     "iopub.status.idle": "2025-05-29T17:49:53.693363Z",
     "shell.execute_reply": "2025-05-29T17:49:53.691626Z",
     "shell.execute_reply.started": "2025-05-29T17:49:53.685938Z"
    }
   },
   "outputs": [],
   "source": [
    "mean = np.mean(batch_of_images, keepdims=True, axis=(0, 1, 2))"
   ]
  },
  {
   "cell_type": "code",
   "execution_count": 24,
   "id": "4ed49e72-23df-4247-88db-50b98de282b2",
   "metadata": {
    "execution": {
     "iopub.execute_input": "2025-05-29T17:49:53.694592Z",
     "iopub.status.busy": "2025-05-29T17:49:53.694334Z",
     "iopub.status.idle": "2025-05-29T17:49:53.702213Z",
     "shell.execute_reply": "2025-05-29T17:49:53.700980Z",
     "shell.execute_reply.started": "2025-05-29T17:49:53.694569Z"
    }
   },
   "outputs": [
    {
     "data": {
      "text/plain": [
       "array([[[[12.5, 13.5, 14.5]]]])"
      ]
     },
     "execution_count": 24,
     "metadata": {},
     "output_type": "execute_result"
    }
   ],
   "source": [
    "mean"
   ]
  },
  {
   "cell_type": "code",
   "execution_count": 25,
   "id": "658e2a7b-d423-4c1b-bb84-7020b566cf13",
   "metadata": {
    "execution": {
     "iopub.execute_input": "2025-05-29T17:49:53.703566Z",
     "iopub.status.busy": "2025-05-29T17:49:53.703304Z",
     "iopub.status.idle": "2025-05-29T17:49:53.711349Z",
     "shell.execute_reply": "2025-05-29T17:49:53.710176Z",
     "shell.execute_reply.started": "2025-05-29T17:49:53.703543Z"
    }
   },
   "outputs": [
    {
     "data": {
      "text/plain": [
       "(1, 1, 1, 3)"
      ]
     },
     "execution_count": 25,
     "metadata": {},
     "output_type": "execute_result"
    }
   ],
   "source": [
    "mean.shape"
   ]
  },
  {
   "cell_type": "markdown",
   "id": "5916cae1-cfee-46ad-89aa-7cf2c0299529",
   "metadata": {},
   "source": [
    "## 4 Causal Mask"
   ]
  },
  {
   "cell_type": "code",
   "execution_count": 29,
   "id": "71cdeb86-d2a6-4c02-8f4a-265e5bc647f2",
   "metadata": {
    "execution": {
     "iopub.execute_input": "2025-05-29T17:51:08.476065Z",
     "iopub.status.busy": "2025-05-29T17:51:08.474930Z",
     "iopub.status.idle": "2025-05-29T17:51:08.484644Z",
     "shell.execute_reply": "2025-05-29T17:51:08.482765Z",
     "shell.execute_reply.started": "2025-05-29T17:51:08.475990Z"
    }
   },
   "outputs": [],
   "source": [
    "import tensorflow as tf"
   ]
  },
  {
   "cell_type": "code",
   "execution_count": 30,
   "id": "55b8255d-09cd-4d4c-8aa9-4ffabb159fca",
   "metadata": {
    "execution": {
     "iopub.execute_input": "2025-05-29T17:51:10.667612Z",
     "iopub.status.busy": "2025-05-29T17:51:10.666777Z",
     "iopub.status.idle": "2025-05-29T17:51:10.679680Z",
     "shell.execute_reply": "2025-05-29T17:51:10.677394Z",
     "shell.execute_reply.started": "2025-05-29T17:51:10.667540Z"
    }
   },
   "outputs": [
    {
     "data": {
      "text/plain": [
       "(2, 4, 5)"
      ]
     },
     "execution_count": 30,
     "metadata": {},
     "output_type": "execute_result"
    }
   ],
   "source": [
    "batch_of_sequences.shape"
   ]
  },
  {
   "cell_type": "code",
   "execution_count": 34,
   "id": "9a5ea621-c9b5-4975-8b43-c64d37d1353d",
   "metadata": {
    "execution": {
     "iopub.execute_input": "2025-05-29T17:51:43.760497Z",
     "iopub.status.busy": "2025-05-29T17:51:43.759665Z",
     "iopub.status.idle": "2025-05-29T17:51:43.803919Z",
     "shell.execute_reply": "2025-05-29T17:51:43.801727Z",
     "shell.execute_reply.started": "2025-05-29T17:51:43.760424Z"
    }
   },
   "outputs": [],
   "source": [
    "input_shape = batch_of_sequences.shape\n",
    "batch_size, sequence_length = input_shape[0], input_shape[1]\n",
    "\n",
    "i = tf.range(sequence_length)[:, tf.newaxis]\n",
    "j = tf.range(sequence_length)\n",
    "\n",
    "mask = tf.cast(i > j, dtype=\"int32\")"
   ]
  },
  {
   "cell_type": "code",
   "execution_count": 35,
   "id": "f8f3d8aa-0853-42d2-8255-b8201ce448d1",
   "metadata": {
    "execution": {
     "iopub.execute_input": "2025-05-29T17:51:45.271319Z",
     "iopub.status.busy": "2025-05-29T17:51:45.269741Z",
     "iopub.status.idle": "2025-05-29T17:51:45.283987Z",
     "shell.execute_reply": "2025-05-29T17:51:45.281789Z",
     "shell.execute_reply.started": "2025-05-29T17:51:45.271218Z"
    }
   },
   "outputs": [
    {
     "data": {
      "text/plain": [
       "<tf.Tensor: shape=(4, 4), dtype=int32, numpy=\n",
       "array([[0, 0, 0, 0],\n",
       "       [1, 0, 0, 0],\n",
       "       [1, 1, 0, 0],\n",
       "       [1, 1, 1, 0]], dtype=int32)>"
      ]
     },
     "execution_count": 35,
     "metadata": {},
     "output_type": "execute_result"
    }
   ],
   "source": [
    "mask"
   ]
  },
  {
   "cell_type": "code",
   "execution_count": 36,
   "id": "3230bb19-0bfe-43f9-b301-80b06c69dc9f",
   "metadata": {
    "execution": {
     "iopub.execute_input": "2025-05-29T17:52:22.367419Z",
     "iopub.status.busy": "2025-05-29T17:52:22.366587Z",
     "iopub.status.idle": "2025-05-29T17:52:22.385693Z",
     "shell.execute_reply": "2025-05-29T17:52:22.383765Z",
     "shell.execute_reply.started": "2025-05-29T17:52:22.367346Z"
    }
   },
   "outputs": [
    {
     "data": {
      "text/plain": [
       "<tf.Tensor: shape=(1, 4, 4), dtype=int32, numpy=\n",
       "array([[[0, 0, 0, 0],\n",
       "        [1, 0, 0, 0],\n",
       "        [1, 1, 0, 0],\n",
       "        [1, 1, 1, 0]]], dtype=int32)>"
      ]
     },
     "execution_count": 36,
     "metadata": {},
     "output_type": "execute_result"
    }
   ],
   "source": [
    "mask = tf.reshape(mask, (1, sequence_length, sequence_length))\n",
    "mask"
   ]
  },
  {
   "cell_type": "code",
   "execution_count": 37,
   "id": "0f99f162-8ed1-432f-bc15-a2b4225220f2",
   "metadata": {
    "execution": {
     "iopub.execute_input": "2025-05-29T17:53:05.106790Z",
     "iopub.status.busy": "2025-05-29T17:53:05.105939Z",
     "iopub.status.idle": "2025-05-29T17:53:05.125297Z",
     "shell.execute_reply": "2025-05-29T17:53:05.123175Z",
     "shell.execute_reply.started": "2025-05-29T17:53:05.106719Z"
    }
   },
   "outputs": [],
   "source": [
    "mult = tf.concat(\n",
    "    [tf.expand_dims(batch_size, -1),\n",
    "     tf.constant([1, 1], dtype=tf.int32)], axis=0)"
   ]
  },
  {
   "cell_type": "code",
   "execution_count": 38,
   "id": "f89d4fe4-772c-44f5-9a1a-05299475d239",
   "metadata": {
    "execution": {
     "iopub.execute_input": "2025-05-29T17:53:06.015136Z",
     "iopub.status.busy": "2025-05-29T17:53:06.014334Z",
     "iopub.status.idle": "2025-05-29T17:53:06.027582Z",
     "shell.execute_reply": "2025-05-29T17:53:06.025546Z",
     "shell.execute_reply.started": "2025-05-29T17:53:06.015067Z"
    }
   },
   "outputs": [
    {
     "data": {
      "text/plain": [
       "<tf.Tensor: shape=(3,), dtype=int32, numpy=array([2, 1, 1], dtype=int32)>"
      ]
     },
     "execution_count": 38,
     "metadata": {},
     "output_type": "execute_result"
    }
   ],
   "source": [
    "mult"
   ]
  },
  {
   "cell_type": "code",
   "execution_count": 48,
   "id": "7c06dff8-a505-4772-b73b-57cc07811298",
   "metadata": {
    "execution": {
     "iopub.execute_input": "2025-05-29T17:55:10.739155Z",
     "iopub.status.busy": "2025-05-29T17:55:10.738339Z",
     "iopub.status.idle": "2025-05-29T17:55:10.755558Z",
     "shell.execute_reply": "2025-05-29T17:55:10.753565Z",
     "shell.execute_reply.started": "2025-05-29T17:55:10.739084Z"
    }
   },
   "outputs": [
    {
     "data": {
      "text/plain": [
       "<tf.Tensor: shape=(2, 4, 4), dtype=int32, numpy=\n",
       "array([[[0, 0, 0, 0],\n",
       "        [1, 0, 0, 0],\n",
       "        [1, 1, 0, 0],\n",
       "        [1, 1, 1, 0]],\n",
       "\n",
       "       [[0, 0, 0, 0],\n",
       "        [1, 0, 0, 0],\n",
       "        [1, 1, 0, 0],\n",
       "        [1, 1, 1, 0]]], dtype=int32)>"
      ]
     },
     "execution_count": 48,
     "metadata": {},
     "output_type": "execute_result"
    }
   ],
   "source": [
    "tf.tile(mask, mult)"
   ]
  }
 ],
 "metadata": {
  "kernelspec": {
   "display_name": "Python [conda env:msds2025ft-ml3-transformers]",
   "language": "python",
   "name": "conda-env-msds2025ft-ml3-transformers-py"
  },
  "language_info": {
   "codemirror_mode": {
    "name": "ipython",
    "version": 3
   },
   "file_extension": ".py",
   "mimetype": "text/x-python",
   "name": "python",
   "nbconvert_exporter": "python",
   "pygments_lexer": "ipython3",
   "version": "3.9.22"
  }
 },
 "nbformat": 4,
 "nbformat_minor": 5
}
