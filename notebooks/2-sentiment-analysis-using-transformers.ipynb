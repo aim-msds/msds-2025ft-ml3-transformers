{
 "cells": [
  {
   "cell_type": "code",
   "execution_count": 1,
   "id": "e327c3da-82d8-4242-b447-9271237597f8",
   "metadata": {
    "execution": {
     "iopub.execute_input": "2025-05-29T11:23:21.757963Z",
     "iopub.status.busy": "2025-05-29T11:23:21.757671Z",
     "iopub.status.idle": "2025-05-29T11:23:30.251893Z",
     "shell.execute_reply": "2025-05-29T11:23:30.250597Z",
     "shell.execute_reply.started": "2025-05-29T11:23:21.757933Z"
    }
   },
   "outputs": [],
   "source": [
    "import os\n",
    "import random\n",
    "import shutil\n",
    "import pathlib\n",
    "\n",
    "import keras\n",
    "import pandas as pd\n",
    "import tensorflow as tf\n",
    "from keras import layers\n",
    "\n",
    "from utils import plot_history, get_model_performance\n",
    "\n",
    "os.environ['XLA_FLAGS'] = f\"--xla_gpu_cuda_data_dir={os.environ['CONDA_PREFIX']}/lib/\""
   ]
  },
  {
   "cell_type": "markdown",
   "id": "5011bb47-474a-4da9-90c8-e8c53c3a5991",
   "metadata": {},
   "source": [
    "# IMDB Movie Review Sentiment Analysis using Transformer Encoder"
   ]
  },
  {
   "cell_type": "markdown",
   "id": "1a43e26e-558b-42a0-986d-37f20ceeeb6d",
   "metadata": {},
   "source": [
    "## 1 Data Preparation"
   ]
  },
  {
   "cell_type": "markdown",
   "id": "0d5e4d0c-c30e-4ee8-8a15-e2f286eb8762",
   "metadata": {},
   "source": [
    "### Data Acquisition"
   ]
  },
  {
   "cell_type": "markdown",
   "id": "2a6e9a23-deff-4bf7-aad2-43326ef63017",
   "metadata": {},
   "source": [
    "Run the code below if you haven't downloaded the imdb movie reviews dataset"
   ]
  },
  {
   "cell_type": "code",
   "execution_count": 2,
   "id": "2e9be86c-f01f-4395-8955-384ff47c7a5e",
   "metadata": {
    "execution": {
     "iopub.execute_input": "2025-05-29T11:23:30.253827Z",
     "iopub.status.busy": "2025-05-29T11:23:30.253036Z",
     "iopub.status.idle": "2025-05-29T11:23:30.259363Z",
     "shell.execute_reply": "2025-05-29T11:23:30.257539Z",
     "shell.execute_reply.started": "2025-05-29T11:23:30.253782Z"
    }
   },
   "outputs": [],
   "source": [
    "# !curl -O https://ai.stanford.edu/~amaas/data/sentiment/aclImdb_v1.tar.gz\n",
    "# !tar -xf aclImdb_v1.tar.gz\n",
    "# !rm -r aclImdb/train/unsup"
   ]
  },
  {
   "cell_type": "markdown",
   "id": "0d564c1b-3677-49d8-bd0e-705c02610a2f",
   "metadata": {},
   "source": [
    "We set aside 20% of the training data as our validation dataset."
   ]
  },
  {
   "cell_type": "code",
   "execution_count": 3,
   "id": "44cd3891-6126-4e2a-b6fc-1f8d7ed7e3f8",
   "metadata": {
    "execution": {
     "iopub.execute_input": "2025-05-29T11:23:30.262652Z",
     "iopub.status.busy": "2025-05-29T11:23:30.261346Z",
     "iopub.status.idle": "2025-05-29T11:23:30.269612Z",
     "shell.execute_reply": "2025-05-29T11:23:30.268332Z",
     "shell.execute_reply.started": "2025-05-29T11:23:30.262578Z"
    }
   },
   "outputs": [],
   "source": [
    "# base_dir = pathlib.Path(\"aclImdb\")\n",
    "# val_dir = base_dir / \"val\"\n",
    "# train_dir = base_dir / \"train\"\n",
    "\n",
    "# for label in (\"neg\", \"pos\"):\n",
    "#     # Create validation directory\n",
    "#     os.makedirs(val_dir / label, exist_ok=True)\n",
    "\n",
    "#     # List all files in the training directory\n",
    "#     files = os.listdir(train_dir / label)\n",
    "\n",
    "#     # Set aside 20% of the data as validation set\n",
    "#     random.Random(1337).shuffle(files)\n",
    "#     num_val_samples = int(0.2 * len(files))\n",
    "#     val_files = files[-num_val_samples:]\n",
    "\n",
    "#     # Move files to validation directory\n",
    "#     for file_name in val_files:\n",
    "#         shutil.move(train_dir / label / file_name, val_dir / label / file_name)"
   ]
  },
  {
   "cell_type": "markdown",
   "id": "95397b70-f69e-471e-a148-49193b5b8b2c",
   "metadata": {},
   "source": [
    "### Dataset Preparation"
   ]
  },
  {
   "cell_type": "code",
   "execution_count": 4,
   "id": "021e1e97-2829-455d-8404-3225fe873488",
   "metadata": {
    "execution": {
     "iopub.execute_input": "2025-05-29T11:23:30.270717Z",
     "iopub.status.busy": "2025-05-29T11:23:30.270487Z",
     "iopub.status.idle": "2025-05-29T11:23:38.481565Z",
     "shell.execute_reply": "2025-05-29T11:23:38.480236Z",
     "shell.execute_reply.started": "2025-05-29T11:23:30.270694Z"
    }
   },
   "outputs": [
    {
     "name": "stdout",
     "output_type": "stream",
     "text": [
      "Found 20000 files belonging to 2 classes.\n",
      "Found 5000 files belonging to 2 classes.\n",
      "Found 25000 files belonging to 2 classes.\n"
     ]
    }
   ],
   "source": [
    "batch_size = 32\n",
    "\n",
    "train_ds = keras.utils.text_dataset_from_directory(\n",
    "    \"aclImdb/train\", batch_size=batch_size\n",
    ")\n",
    "val_ds = keras.utils.text_dataset_from_directory(\n",
    "    \"aclImdb/val\", batch_size=batch_size\n",
    ")\n",
    "test_ds = keras.utils.text_dataset_from_directory(\n",
    "    \"aclImdb/test\", batch_size=batch_size\n",
    ")"
   ]
  },
  {
   "cell_type": "markdown",
   "id": "04acb604-50ee-4696-823d-46db4a459b24",
   "metadata": {},
   "source": [
    "## 2 Baselines: Bag-Of-Words Approach"
   ]
  },
  {
   "cell_type": "markdown",
   "id": "e7a1a2a1-70ae-48d4-8b05-75c0b86dea82",
   "metadata": {},
   "source": [
    "The simplest way to encode a piece of text for processing is to discard order and treat it as a set (\"bag\") of tokens. Here, we use a generic dense neural network as our classifier"
   ]
  },
  {
   "cell_type": "markdown",
   "id": "22af3700-d029-4dab-9bd9-ad446a5de48a",
   "metadata": {},
   "source": [
    "### Dense Neural Network Model"
   ]
  },
  {
   "cell_type": "code",
   "execution_count": 5,
   "id": "652ec361-cca3-43c7-a21e-26fae83fcca9",
   "metadata": {
    "execution": {
     "iopub.execute_input": "2025-05-29T11:23:38.482984Z",
     "iopub.status.busy": "2025-05-29T11:23:38.482691Z",
     "iopub.status.idle": "2025-05-29T11:23:38.490930Z",
     "shell.execute_reply": "2025-05-29T11:23:38.488751Z",
     "shell.execute_reply.started": "2025-05-29T11:23:38.482954Z"
    }
   },
   "outputs": [],
   "source": [
    "def get_model(max_tokens=20_000, hidden_dim=16):\n",
    "    inputs = keras.Input(shape=(max_tokens,))\n",
    "\n",
    "    x = layers.Dense(hidden_dim, activation=\"relu\")(inputs)\n",
    "    x = layers.Dropout(0.5)(x)\n",
    "\n",
    "    outputs = layers.Dense(1, activation=\"sigmoid\")(x)\n",
    "\n",
    "    return keras.Model(inputs, outputs)"
   ]
  },
  {
   "cell_type": "markdown",
   "id": "fc08936f-ce7d-4269-b817-993c9a1530c3",
   "metadata": {},
   "source": [
    "### Unigrams with Binary Encoding"
   ]
  },
  {
   "cell_type": "markdown",
   "id": "dbb2bb42-34aa-47b7-b2ab-6726c471d357",
   "metadata": {},
   "source": [
    "Here, we look at individual words and create a bag-of-words matrix vector for each movie review."
   ]
  },
  {
   "cell_type": "code",
   "execution_count": 6,
   "id": "d109a0b6-0d4a-4827-8fad-f459df81a684",
   "metadata": {
    "execution": {
     "iopub.execute_input": "2025-05-29T11:23:38.498285Z",
     "iopub.status.busy": "2025-05-29T11:23:38.496676Z",
     "iopub.status.idle": "2025-05-29T11:23:46.204370Z",
     "shell.execute_reply": "2025-05-29T11:23:46.202904Z",
     "shell.execute_reply.started": "2025-05-29T11:23:38.498186Z"
    }
   },
   "outputs": [],
   "source": [
    "text_vectorization = layers.TextVectorization(\n",
    "    max_tokens=20_000,\n",
    "    output_mode=\"multi_hot\"\n",
    ")\n",
    "\n",
    "# Use only train dataset for calibrating the text vectorizer\n",
    "text_only_train_ds = train_ds.map(lambda x, y: x)\n",
    "text_vectorization.adapt(text_only_train_ds)"
   ]
  },
  {
   "cell_type": "markdown",
   "id": "beda49d2-4de5-454b-ad2f-92caf9f05cad",
   "metadata": {},
   "source": [
    "#### Data Preprocessing"
   ]
  },
  {
   "cell_type": "markdown",
   "id": "84992039-1c62-41cb-a250-095ee3755a56",
   "metadata": {},
   "source": [
    "The unigram extraction is done during data preprocessing and is passed as a method of the tensorflow dataset object."
   ]
  },
  {
   "cell_type": "code",
   "execution_count": 7,
   "id": "de23894a-e090-4874-8eed-93e32761e7cd",
   "metadata": {
    "execution": {
     "iopub.execute_input": "2025-05-29T11:23:46.205867Z",
     "iopub.status.busy": "2025-05-29T11:23:46.205556Z",
     "iopub.status.idle": "2025-05-29T11:23:46.362450Z",
     "shell.execute_reply": "2025-05-29T11:23:46.361274Z",
     "shell.execute_reply.started": "2025-05-29T11:23:46.205831Z"
    }
   },
   "outputs": [],
   "source": [
    "binary_1gram_train_ds = train_ds.map(\n",
    "    lambda x, y: (text_vectorization(x), y),\n",
    "    num_parallel_calls=4)\n",
    "binary_1gram_val_ds = val_ds.map(\n",
    "    lambda x, y: (text_vectorization(x), y),\n",
    "    num_parallel_calls=4)\n",
    "binary_1gram_test_ds = test_ds.map(\n",
    "    lambda x, y: (text_vectorization(x), y),\n",
    "    num_parallel_calls=4)"
   ]
  },
  {
   "cell_type": "markdown",
   "id": "424ce5c0-2c14-44c7-85d6-76b84a8916c7",
   "metadata": {},
   "source": [
    "#### Model Training"
   ]
  },
  {
   "cell_type": "code",
   "execution_count": 8,
   "id": "1f39889d-7e87-42c4-8be8-cacc439ef745",
   "metadata": {
    "execution": {
     "iopub.execute_input": "2025-05-29T11:23:46.363565Z",
     "iopub.status.busy": "2025-05-29T11:23:46.363337Z",
     "iopub.status.idle": "2025-05-29T11:23:46.451615Z",
     "shell.execute_reply": "2025-05-29T11:23:46.450315Z",
     "shell.execute_reply.started": "2025-05-29T11:23:46.363541Z"
    }
   },
   "outputs": [
    {
     "name": "stdout",
     "output_type": "stream",
     "text": [
      "Model: \"model\"\n",
      "_________________________________________________________________\n",
      " Layer (type)                Output Shape              Param #   \n",
      "=================================================================\n",
      " input_1 (InputLayer)        [(None, 20000)]           0         \n",
      "                                                                 \n",
      " dense (Dense)               (None, 16)                320016    \n",
      "                                                                 \n",
      " dropout (Dropout)           (None, 16)                0         \n",
      "                                                                 \n",
      " dense_1 (Dense)             (None, 1)                 17        \n",
      "                                                                 \n",
      "=================================================================\n",
      "Total params: 320033 (1.22 MB)\n",
      "Trainable params: 320033 (1.22 MB)\n",
      "Non-trainable params: 0 (0.00 Byte)\n",
      "_________________________________________________________________\n"
     ]
    }
   ],
   "source": [
    "model = get_model()\n",
    "model.compile(optimizer=\"rmsprop\", loss=\"binary_crossentropy\",\n",
    "              metrics=[\"accuracy\"])\n",
    "model.summary()"
   ]
  },
  {
   "cell_type": "code",
   "execution_count": 9,
   "id": "cb2da050-6354-45b2-9f0f-004ab0c21261",
   "metadata": {
    "execution": {
     "iopub.execute_input": "2025-05-29T11:23:46.453845Z",
     "iopub.status.busy": "2025-05-29T11:23:46.453190Z",
     "iopub.status.idle": "2025-05-29T11:23:46.460781Z",
     "shell.execute_reply": "2025-05-29T11:23:46.459477Z",
     "shell.execute_reply.started": "2025-05-29T11:23:46.453779Z"
    }
   },
   "outputs": [],
   "source": [
    "callbacks = [\n",
    "    keras.callbacks.ModelCheckpoint(\"binary_1gram.tf\", save_best_only=True)\n",
    "]"
   ]
  },
  {
   "cell_type": "code",
   "execution_count": 10,
   "id": "7d58fa07-597c-46de-84a4-c0e13af8707d",
   "metadata": {
    "execution": {
     "iopub.execute_input": "2025-05-29T11:23:46.462771Z",
     "iopub.status.busy": "2025-05-29T11:23:46.462191Z",
     "iopub.status.idle": "2025-05-29T11:25:30.707585Z",
     "shell.execute_reply": "2025-05-29T11:25:30.705249Z",
     "shell.execute_reply.started": "2025-05-29T11:23:46.462713Z"
    }
   },
   "outputs": [
    {
     "name": "stdout",
     "output_type": "stream",
     "text": [
      "Epoch 1/10\n",
      "INFO:tensorflow:Assets written to: binary_1gram.tf/assets: 0.3943 - accuracy: 0.8336   \n"
     ]
    },
    {
     "name": "stderr",
     "output_type": "stream",
     "text": [
      "INFO:tensorflow:Assets written to: binary_1gram.tf/assets\n"
     ]
    },
    {
     "name": "stdout",
     "output_type": "stream",
     "text": [
      "625/625 [==============================] - 11s 15ms/step - loss: 0.3943 - accuracy: 0.8336 - val_loss: 0.2891 - val_accuracy: 0.8872\n",
      "Epoch 2/10\n",
      "625/625 [==============================] - 10s 15ms/step - loss: 0.2698 - accuracy: 0.9029 - val_loss: 0.2921 - val_accuracy: 0.8900\n",
      "Epoch 3/10\n",
      "625/625 [==============================] - 10s 16ms/step - loss: 0.2360 - accuracy: 0.9180 - val_loss: 0.3079 - val_accuracy: 0.8896\n",
      "Epoch 4/10\n",
      "625/625 [==============================] - 10s 15ms/step - loss: 0.2235 - accuracy: 0.9254 - val_loss: 0.3423 - val_accuracy: 0.8802\n",
      "Epoch 5/10\n",
      "625/625 [==============================] - 11s 18ms/step - loss: 0.2177 - accuracy: 0.9298 - val_loss: 0.3379 - val_accuracy: 0.8882\n",
      "Epoch 6/10\n",
      "625/625 [==============================] - 11s 17ms/step - loss: 0.2075 - accuracy: 0.9352 - val_loss: 0.3510 - val_accuracy: 0.8878\n",
      "Epoch 7/10\n",
      "625/625 [==============================] - 10s 15ms/step - loss: 0.2015 - accuracy: 0.9338 - val_loss: 0.3813 - val_accuracy: 0.8760\n",
      "Epoch 8/10\n",
      "625/625 [==============================] - 12s 19ms/step - loss: 0.1982 - accuracy: 0.9372 - val_loss: 0.3849 - val_accuracy: 0.8824\n",
      "Epoch 9/10\n",
      "625/625 [==============================] - 10s 16ms/step - loss: 0.2033 - accuracy: 0.9373 - val_loss: 0.3960 - val_accuracy: 0.8802\n",
      "Epoch 10/10\n",
      "625/625 [==============================] - 10s 15ms/step - loss: 0.1933 - accuracy: 0.9397 - val_loss: 0.4169 - val_accuracy: 0.8736\n"
     ]
    }
   ],
   "source": [
    "history = model.fit(binary_1gram_train_ds, validation_data=binary_1gram_val_ds,\n",
    "                    epochs=10, callbacks=callbacks)"
   ]
  },
  {
   "cell_type": "code",
   "execution_count": 11,
   "id": "e3caf2e4-1179-42ed-8d15-b98423abc40d",
   "metadata": {
    "execution": {
     "iopub.execute_input": "2025-05-29T11:25:30.711741Z",
     "iopub.status.busy": "2025-05-29T11:25:30.711055Z",
     "iopub.status.idle": "2025-05-29T11:25:30.962881Z",
     "shell.execute_reply": "2025-05-29T11:25:30.961218Z",
     "shell.execute_reply.started": "2025-05-29T11:25:30.711673Z"
    }
   },
   "outputs": [
    {
     "data": {
      "image/png": "[encoded data removed]",
      "text/plain": [
       "<Figure size 800x600 with 1 Axes>"
      ]
     },
     "metadata": {},
     "output_type": "display_data"
    }
   ],
   "source": [
    "plot_history(history, 'loss');"
   ]
  },
  {
   "cell_type": "markdown",
   "id": "6acb0db7-0184-40d4-bbda-8bc6c9c61101",
   "metadata": {},
   "source": [
    "#### Model Evaluation"
   ]
  },
  {
   "cell_type": "code",
   "execution_count": 12,
   "id": "1d489c11-79de-466c-8abf-8b92a1e30b0f",
   "metadata": {
    "execution": {
     "iopub.execute_input": "2025-05-29T11:25:30.965229Z",
     "iopub.status.busy": "2025-05-29T11:25:30.964647Z",
     "iopub.status.idle": "2025-05-29T11:25:31.167240Z",
     "shell.execute_reply": "2025-05-29T11:25:31.165458Z",
     "shell.execute_reply.started": "2025-05-29T11:25:30.965170Z"
    }
   },
   "outputs": [],
   "source": [
    "model = keras.models.load_model(\"binary_1gram.tf\")"
   ]
  },
  {
   "cell_type": "code",
   "execution_count": 14,
   "id": "65de3850-1538-4f88-b9d6-81cb9879a981",
   "metadata": {
    "execution": {
     "iopub.execute_input": "2025-05-29T11:25:40.735435Z",
     "iopub.status.busy": "2025-05-29T11:25:40.734664Z",
     "iopub.status.idle": "2025-05-29T11:25:51.038067Z",
     "shell.execute_reply": "2025-05-29T11:25:51.036192Z",
     "shell.execute_reply.started": "2025-05-29T11:25:40.735354Z"
    }
   },
   "outputs": [
    {
     "name": "stdout",
     "output_type": "stream",
     "text": [
      "782/782 [==============================] - 10s 13ms/step - loss: 0.2911 - accuracy: 0.8857\n"
     ]
    }
   ],
   "source": [
    "binary_1gram_metrics = get_model_performance(\n",
    "    model, binary_1gram_test_ds, 'Binary Unigram')"
   ]
  },
  {
   "cell_type": "code",
   "execution_count": 15,
   "id": "34fd7ea5-7f88-48bb-aea9-53dbaea125aa",
   "metadata": {
    "execution": {
     "iopub.execute_input": "2025-05-29T11:25:51.048122Z",
     "iopub.status.busy": "2025-05-29T11:25:51.047569Z",
     "iopub.status.idle": "2025-05-29T11:25:51.071230Z",
     "shell.execute_reply": "2025-05-29T11:25:51.069543Z",
     "shell.execute_reply.started": "2025-05-29T11:25:51.048063Z"
    }
   },
   "outputs": [
    {
     "data": {
      "text/html": [
       "<div>\n",
       "<style scoped>\n",
       "    .dataframe tbody tr th:only-of-type {\n",
       "        vertical-align: middle;\n",
       "    }\n",
       "\n",
       "    .dataframe tbody tr th {\n",
       "        vertical-align: top;\n",
       "    }\n",
       "\n",
       "    .dataframe thead th {\n",
       "        text-align: right;\n",
       "    }\n",
       "</style>\n",
       "<table border=\"1\" class=\"dataframe\">\n",
       "  <thead>\n",
       "    <tr style=\"text-align: right;\">\n",
       "      <th></th>\n",
       "      <th>Accuracy</th>\n",
       "      <th>Loss</th>\n",
       "    </tr>\n",
       "  </thead>\n",
       "  <tbody>\n",
       "    <tr>\n",
       "      <th>Binary Unigram</th>\n",
       "      <td>88.57%</td>\n",
       "      <td>0.291066</td>\n",
       "    </tr>\n",
       "  </tbody>\n",
       "</table>\n",
       "</div>"
      ],
      "text/plain": [
       "               Accuracy      Loss\n",
       "Binary Unigram   88.57%  0.291066"
      ]
     },
     "execution_count": 15,
     "metadata": {},
     "output_type": "execute_result"
    }
   ],
   "source": [
    "binary_1gram_metrics"
   ]
  },
  {
   "cell_type": "markdown",
   "id": "62161a6b-030c-49bb-a4a1-46a62ce5b262",
   "metadata": {},
   "source": [
    "### Bigrams with Binary Encoding"
   ]
  },
  {
   "cell_type": "markdown",
   "id": "752492f6-4695-4540-8879-8b53a0281a3b",
   "metadata": {},
   "source": [
    "We can reinject local order by using at N-grams rather than single words (most commonly bigrams)."
   ]
  },
  {
   "cell_type": "markdown",
   "id": "7faed181-5dbf-49e5-b031-aef3f0da1d86",
   "metadata": {},
   "source": [
    "#### Data Preprocessing"
   ]
  },
  {
   "cell_type": "code",
   "execution_count": 16,
   "id": "b28bc534-0d82-43fb-aa40-b84a3f21fb9e",
   "metadata": {
    "execution": {
     "iopub.execute_input": "2025-05-29T11:28:19.373976Z",
     "iopub.status.busy": "2025-05-29T11:28:19.373091Z",
     "iopub.status.idle": "2025-05-29T11:28:19.397318Z",
     "shell.execute_reply": "2025-05-29T11:28:19.395639Z",
     "shell.execute_reply.started": "2025-05-29T11:28:19.373898Z"
    }
   },
   "outputs": [],
   "source": [
    "text_vectorization = layers.TextVectorization(\n",
    "    ngrams=2,\n",
    "    max_tokens=20_000,\n",
    "    output_mode=\"multi_hot\"\n",
    ")"
   ]
  },
  {
   "cell_type": "code",
   "execution_count": 17,
   "id": "99bdafdb-bbab-49c8-a558-4664e92d586c",
   "metadata": {
    "execution": {
     "iopub.execute_input": "2025-05-29T11:29:04.162221Z",
     "iopub.status.busy": "2025-05-29T11:29:04.161386Z",
     "iopub.status.idle": "2025-05-29T11:29:20.724930Z",
     "shell.execute_reply": "2025-05-29T11:29:20.722982Z",
     "shell.execute_reply.started": "2025-05-29T11:29:04.162146Z"
    }
   },
   "outputs": [],
   "source": [
    "text_vectorization.adapt(text_only_train_ds)\n",
    "binary_2gram_train_ds = train_ds.map(\n",
    "    lambda x, y: (text_vectorization(x), y),\n",
    "    num_parallel_calls=4)\n",
    "binary_2gram_val_ds = val_ds.map(\n",
    "    lambda x, y: (text_vectorization(x), y),\n",
    "    num_parallel_calls=4)\n",
    "binary_2gram_test_ds = test_ds.map(\n",
    "    lambda x, y: (text_vectorization(x), y),\n",
    "    num_parallel_calls=4)"
   ]
  },
  {
   "cell_type": "markdown",
   "id": "768a5a39-c1a7-4314-b565-16096d789d4d",
   "metadata": {},
   "source": [
    "#### Model Training"
   ]
  },
  {
   "cell_type": "code",
   "execution_count": 21,
   "id": "f5f9f7ae-3476-49fd-9722-7e16757a724b",
   "metadata": {
    "execution": {
     "iopub.execute_input": "2025-05-29T11:30:02.813972Z",
     "iopub.status.busy": "2025-05-29T11:30:02.813116Z",
     "iopub.status.idle": "2025-05-29T11:30:02.882834Z",
     "shell.execute_reply": "2025-05-29T11:30:02.881044Z",
     "shell.execute_reply.started": "2025-05-29T11:30:02.813897Z"
    }
   },
   "outputs": [
    {
     "name": "stdout",
     "output_type": "stream",
     "text": [
      "Model: \"model_2\"\n",
      "_________________________________________________________________\n",
      " Layer (type)                Output Shape              Param #   \n",
      "=================================================================\n",
      " input_3 (InputLayer)        [(None, 20000)]           0         \n",
      "                                                                 \n",
      " dense_4 (Dense)             (None, 16)                320016    \n",
      "                                                                 \n",
      " dropout_2 (Dropout)         (None, 16)                0         \n",
      "                                                                 \n",
      " dense_5 (Dense)             (None, 1)                 17        \n",
      "                                                                 \n",
      "=================================================================\n",
      "Total params: 320033 (1.22 MB)\n",
      "Trainable params: 320033 (1.22 MB)\n",
      "Non-trainable params: 0 (0.00 Byte)\n",
      "_________________________________________________________________\n"
     ]
    }
   ],
   "source": [
    "model = get_model()\n",
    "model.compile(optimizer=\"rmsprop\", loss=\"binary_crossentropy\",\n",
    "              metrics=[\"accuracy\"])\n",
    "model.summary()"
   ]
  },
  {
   "cell_type": "code",
   "execution_count": 22,
   "id": "33c68d7b-ac98-4831-8a51-45f31e52e6f9",
   "metadata": {
    "execution": {
     "iopub.execute_input": "2025-05-29T11:30:04.789732Z",
     "iopub.status.busy": "2025-05-29T11:30:04.788879Z",
     "iopub.status.idle": "2025-05-29T11:30:04.798962Z",
     "shell.execute_reply": "2025-05-29T11:30:04.796877Z",
     "shell.execute_reply.started": "2025-05-29T11:30:04.789656Z"
    }
   },
   "outputs": [],
   "source": [
    "callbacks = [\n",
    "    keras.callbacks.ModelCheckpoint(\"binary_2gram.tf\", save_best_only=True)\n",
    "]"
   ]
  },
  {
   "cell_type": "code",
   "execution_count": 23,
   "id": "97979b5b-4d8d-4518-88ac-ff8d3161196b",
   "metadata": {
    "execution": {
     "iopub.execute_input": "2025-05-29T11:30:18.443163Z",
     "iopub.status.busy": "2025-05-29T11:30:18.442339Z",
     "iopub.status.idle": "2025-05-29T11:31:53.751888Z",
     "shell.execute_reply": "2025-05-29T11:31:53.749461Z",
     "shell.execute_reply.started": "2025-05-29T11:30:18.443090Z"
    }
   },
   "outputs": [
    {
     "name": "stdout",
     "output_type": "stream",
     "text": [
      "Epoch 1/10\n",
      "INFO:tensorflow:Assets written to: binary_2gram.tf/assets: 0.3855 - accuracy: 0.8402  \n"
     ]
    },
    {
     "name": "stderr",
     "output_type": "stream",
     "text": [
      "INFO:tensorflow:Assets written to: binary_2gram.tf/assets\n"
     ]
    },
    {
     "name": "stdout",
     "output_type": "stream",
     "text": [
      "625/625 [==============================] - 10s 16ms/step - loss: 0.3855 - accuracy: 0.8402 - val_loss: 0.2718 - val_accuracy: 0.8948\n",
      "Epoch 2/10\n",
      "625/625 [==============================] - 9s 15ms/step - loss: 0.2402 - accuracy: 0.9132 - val_loss: 0.2789 - val_accuracy: 0.8992\n",
      "Epoch 3/10\n",
      "625/625 [==============================] - 9s 15ms/step - loss: 0.1986 - accuracy: 0.9316 - val_loss: 0.2970 - val_accuracy: 0.8978\n",
      "Epoch 4/10\n",
      "625/625 [==============================] - 9s 15ms/step - loss: 0.1790 - accuracy: 0.9421 - val_loss: 0.3140 - val_accuracy: 0.8996\n",
      "Epoch 5/10\n",
      "625/625 [==============================] - 9s 14ms/step - loss: 0.1687 - accuracy: 0.9470 - val_loss: 0.3286 - val_accuracy: 0.8980\n",
      "Epoch 6/10\n",
      "625/625 [==============================] - 9s 15ms/step - loss: 0.1626 - accuracy: 0.9522 - val_loss: 0.3521 - val_accuracy: 0.8986\n",
      "Epoch 7/10\n",
      "625/625 [==============================] - 10s 16ms/step - loss: 0.1555 - accuracy: 0.9550 - val_loss: 0.3781 - val_accuracy: 0.8916\n",
      "Epoch 8/10\n",
      "625/625 [==============================] - 9s 15ms/step - loss: 0.1602 - accuracy: 0.9572 - val_loss: 0.3837 - val_accuracy: 0.8912\n",
      "Epoch 9/10\n",
      "625/625 [==============================] - 10s 16ms/step - loss: 0.1475 - accuracy: 0.9585 - val_loss: 0.3958 - val_accuracy: 0.8952\n",
      "Epoch 10/10\n",
      "625/625 [==============================] - 9s 15ms/step - loss: 0.1453 - accuracy: 0.9593 - val_loss: 0.4079 - val_accuracy: 0.8916\n"
     ]
    }
   ],
   "source": [
    "history = model.fit(binary_2gram_train_ds, validation_data=binary_2gram_val_ds,\n",
    "                    epochs=10, callbacks=callbacks)"
   ]
  },
  {
   "cell_type": "code",
   "execution_count": 24,
   "id": "67ec5934-4d21-43e2-b7dd-2025551df6c0",
   "metadata": {
    "execution": {
     "iopub.execute_input": "2025-05-29T11:31:53.756705Z",
     "iopub.status.busy": "2025-05-29T11:31:53.755943Z",
     "iopub.status.idle": "2025-05-29T11:31:53.963423Z",
     "shell.execute_reply": "2025-05-29T11:31:53.962204Z",
     "shell.execute_reply.started": "2025-05-29T11:31:53.756632Z"
    }
   },
   "outputs": [
    {
     "data": {
      "image/png": "[encoded data removed]",
      "text/plain": [
       "<Figure size 800x600 with 1 Axes>"
      ]
     },
     "metadata": {},
     "output_type": "display_data"
    }
   ],
   "source": [
    "plot_history(history, 'loss');"
   ]
  },
  {
   "cell_type": "markdown",
   "id": "04f210cf-8e7d-48b9-b8bc-a258352069fb",
   "metadata": {},
   "source": [
    "#### Model Evaluation"
   ]
  },
  {
   "cell_type": "code",
   "execution_count": 25,
   "id": "72f15bbd-8c71-4167-945c-c8e5081956d1",
   "metadata": {
    "execution": {
     "iopub.execute_input": "2025-05-29T11:32:01.747300Z",
     "iopub.status.busy": "2025-05-29T11:32:01.746434Z",
     "iopub.status.idle": "2025-05-29T11:32:02.163266Z",
     "shell.execute_reply": "2025-05-29T11:32:02.162523Z",
     "shell.execute_reply.started": "2025-05-29T11:32:01.747208Z"
    }
   },
   "outputs": [],
   "source": [
    "model = keras.models.load_model(\"binary_2gram.tf\")"
   ]
  },
  {
   "cell_type": "code",
   "execution_count": 28,
   "id": "1faaf794-108b-4ae6-bed5-18b580445b0f",
   "metadata": {
    "execution": {
     "iopub.execute_input": "2025-05-29T11:32:29.845492Z",
     "iopub.status.busy": "2025-05-29T11:32:29.844658Z",
     "iopub.status.idle": "2025-05-29T11:32:39.227725Z",
     "shell.execute_reply": "2025-05-29T11:32:39.225777Z",
     "shell.execute_reply.started": "2025-05-29T11:32:29.845415Z"
    }
   },
   "outputs": [
    {
     "name": "stdout",
     "output_type": "stream",
     "text": [
      "782/782 [==============================] - 9s 12ms/step - loss: 0.2690 - accuracy: 0.8994\n"
     ]
    }
   ],
   "source": [
    "binary_2gram_metrics = get_model_performance(\n",
    "    model, binary_2gram_test_ds, 'Binary Bigram')"
   ]
  },
  {
   "cell_type": "code",
   "execution_count": 32,
   "id": "9b4c628c-4144-491a-b114-9f1cbd346d53",
   "metadata": {
    "execution": {
     "iopub.execute_input": "2025-05-29T11:33:56.581837Z",
     "iopub.status.busy": "2025-05-29T11:33:56.580993Z",
     "iopub.status.idle": "2025-05-29T11:33:56.599833Z",
     "shell.execute_reply": "2025-05-29T11:33:56.597960Z",
     "shell.execute_reply.started": "2025-05-29T11:33:56.581758Z"
    }
   },
   "outputs": [
    {
     "data": {
      "text/html": [
       "<div>\n",
       "<style scoped>\n",
       "    .dataframe tbody tr th:only-of-type {\n",
       "        vertical-align: middle;\n",
       "    }\n",
       "\n",
       "    .dataframe tbody tr th {\n",
       "        vertical-align: top;\n",
       "    }\n",
       "\n",
       "    .dataframe thead th {\n",
       "        text-align: right;\n",
       "    }\n",
       "</style>\n",
       "<table border=\"1\" class=\"dataframe\">\n",
       "  <thead>\n",
       "    <tr style=\"text-align: right;\">\n",
       "      <th></th>\n",
       "      <th>Accuracy</th>\n",
       "      <th>Loss</th>\n",
       "    </tr>\n",
       "  </thead>\n",
       "  <tbody>\n",
       "    <tr>\n",
       "      <th>Binary Bigram</th>\n",
       "      <td>89.94%</td>\n",
       "      <td>0.268964</td>\n",
       "    </tr>\n",
       "  </tbody>\n",
       "</table>\n",
       "</div>"
      ],
      "text/plain": [
       "              Accuracy      Loss\n",
       "Binary Bigram   89.94%  0.268964"
      ]
     },
     "execution_count": 32,
     "metadata": {},
     "output_type": "execute_result"
    }
   ],
   "source": [
    "binary_2gram_metrics"
   ]
  },
  {
   "cell_type": "markdown",
   "id": "cee0e3fb-bb74-4cee-bbe1-e58b3bf14487",
   "metadata": {},
   "source": [
    "## 3 Baselines: RNN Models"
   ]
  },
  {
   "cell_type": "markdown",
   "id": "9eace52a-774d-4331-abc1-51dcace28033",
   "metadata": {},
   "source": [
    "Now let's use embeddings and RNN models instead to perform the movie sentiment analysis prediction."
   ]
  },
  {
   "cell_type": "markdown",
   "id": "1fbd133e-8bba-447b-b8ca-f6482dfe9ba8",
   "metadata": {},
   "source": [
    "### Data Preprocessing"
   ]
  },
  {
   "cell_type": "code",
   "execution_count": 33,
   "id": "0aa86a26-7a5e-4467-bbde-bb7d116b572c",
   "metadata": {
    "execution": {
     "iopub.execute_input": "2025-05-29T11:38:56.398322Z",
     "iopub.status.busy": "2025-05-29T11:38:56.397485Z",
     "iopub.status.idle": "2025-05-29T11:38:56.419647Z",
     "shell.execute_reply": "2025-05-29T11:38:56.417997Z",
     "shell.execute_reply.started": "2025-05-29T11:38:56.398227Z"
    }
   },
   "outputs": [],
   "source": [
    "max_length = 600\n",
    "max_tokens = 20_000\n",
    "\n",
    "text_vectorization = layers.TextVectorization(\n",
    "    max_tokens=max_tokens,\n",
    "    output_mode=\"int\",\n",
    "    output_sequence_length=max_length\n",
    ")"
   ]
  },
  {
   "cell_type": "code",
   "execution_count": 34,
   "id": "bfcc31b9-6db2-443e-9690-548ab81f6104",
   "metadata": {
    "execution": {
     "iopub.execute_input": "2025-05-29T11:39:04.589947Z",
     "iopub.status.busy": "2025-05-29T11:39:04.589094Z",
     "iopub.status.idle": "2025-05-29T11:39:12.075582Z",
     "shell.execute_reply": "2025-05-29T11:39:12.073856Z",
     "shell.execute_reply.started": "2025-05-29T11:39:04.589870Z"
    }
   },
   "outputs": [],
   "source": [
    "text_vectorization.adapt(text_only_train_ds)\n",
    "int_train_ds = train_ds.map(\n",
    "    lambda x, y: (text_vectorization(x), y),\n",
    "    num_parallel_calls=4)\n",
    "int_val_ds = val_ds.map(\n",
    "    lambda x, y: (text_vectorization(x), y),\n",
    "    num_parallel_calls=4)\n",
    "int_test_ds = test_ds.map(\n",
    "    lambda x, y: (text_vectorization(x), y),\n",
    "    num_parallel_calls=4)"
   ]
  },
  {
   "cell_type": "markdown",
   "id": "d4897467-1506-4236-8cbb-4fbd1eb3cd57",
   "metadata": {},
   "source": [
    "### Model Architecture"
   ]
  },
  {
   "cell_type": "code",
   "execution_count": 36,
   "id": "7009e777-d214-4238-a8b5-86ebbaa32069",
   "metadata": {
    "execution": {
     "iopub.execute_input": "2025-05-29T11:42:16.476522Z",
     "iopub.status.busy": "2025-05-29T11:42:16.475117Z",
     "iopub.status.idle": "2025-05-29T11:42:16.488848Z",
     "shell.execute_reply": "2025-05-29T11:42:16.487120Z",
     "shell.execute_reply.started": "2025-05-29T11:42:16.476440Z"
    }
   },
   "outputs": [],
   "source": [
    "def get_rnn_model():\n",
    "    inputs = keras.Input(shape=(None,), dtype=\"int64\")\n",
    "    embedded = layers.Embedding(input_dim=max_tokens, output_dim=256)(inputs)\n",
    "\n",
    "    x = layers.Bidirectional(layers.LSTM(32))(embedded)\n",
    "    x = layers.Dropout(0.5)(x)\n",
    "\n",
    "    outputs = layers.Dense(1, activation=\"sigmoid\")(x)\n",
    "\n",
    "    return keras.Model(inputs, outputs)"
   ]
  },
  {
   "cell_type": "markdown",
   "id": "b9f59862-9616-41dd-a3b6-1757b1077d55",
   "metadata": {},
   "source": [
    "### Model Training"
   ]
  },
  {
   "cell_type": "code",
   "execution_count": 39,
   "id": "ca49f9a1-a57b-492a-917e-0948f81dcc5f",
   "metadata": {
    "execution": {
     "iopub.execute_input": "2025-05-29T11:43:11.073145Z",
     "iopub.status.busy": "2025-05-29T11:43:11.072329Z",
     "iopub.status.idle": "2025-05-29T11:43:11.530915Z",
     "shell.execute_reply": "2025-05-29T11:43:11.529946Z",
     "shell.execute_reply.started": "2025-05-29T11:43:11.073071Z"
    }
   },
   "outputs": [
    {
     "name": "stdout",
     "output_type": "stream",
     "text": [
      "Model: \"model_5\"\n",
      "_________________________________________________________________\n",
      " Layer (type)                Output Shape              Param #   \n",
      "=================================================================\n",
      " input_6 (InputLayer)        [(None, None)]            0         \n",
      "                                                                 \n",
      " embedding_1 (Embedding)     (None, None, 256)         5120000   \n",
      "                                                                 \n",
      " bidirectional_1 (Bidirecti  (None, 64)                73984     \n",
      " onal)                                                           \n",
      "                                                                 \n",
      " dropout_5 (Dropout)         (None, 64)                0         \n",
      "                                                                 \n",
      " dense_9 (Dense)             (None, 1)                 65        \n",
      "                                                                 \n",
      "=================================================================\n",
      "Total params: 5194049 (19.81 MB)\n",
      "Trainable params: 5194049 (19.81 MB)\n",
      "Non-trainable params: 0 (0.00 Byte)\n",
      "_________________________________________________________________\n"
     ]
    }
   ],
   "source": [
    "model = get_rnn_model()\n",
    "model.compile(optimizer=\"rmsprop\", loss=\"binary_crossentropy\",\n",
    "              metrics=[\"accuracy\"])\n",
    "model.summary()"
   ]
  },
  {
   "cell_type": "code",
   "execution_count": 40,
   "id": "d7b10526-a1e3-42b3-be14-14c2dced3d54",
   "metadata": {
    "execution": {
     "iopub.execute_input": "2025-05-29T11:43:30.577723Z",
     "iopub.status.busy": "2025-05-29T11:43:30.576876Z",
     "iopub.status.idle": "2025-05-29T11:43:30.587147Z",
     "shell.execute_reply": "2025-05-29T11:43:30.585061Z",
     "shell.execute_reply.started": "2025-05-29T11:43:30.577648Z"
    }
   },
   "outputs": [],
   "source": [
    "callbacks = [\n",
    "    keras.callbacks.ModelCheckpoint(\n",
    "        \"embeddings_bidir_lstm.tf\", save_best_only=True)\n",
    "]"
   ]
  },
  {
   "cell_type": "code",
   "execution_count": 41,
   "id": "e043265b-3a6d-4f35-888a-da766b5e8ed2",
   "metadata": {
    "execution": {
     "iopub.execute_input": "2025-05-29T11:43:48.002347Z",
     "iopub.status.busy": "2025-05-29T11:43:48.001536Z",
     "iopub.status.idle": "2025-05-29T11:55:34.533807Z",
     "shell.execute_reply": "2025-05-29T11:55:34.531426Z",
     "shell.execute_reply.started": "2025-05-29T11:43:48.002272Z"
    }
   },
   "outputs": [
    {
     "name": "stdout",
     "output_type": "stream",
     "text": [
      "Epoch 1/10\n",
      "INFO:tensorflow:Assets written to: embeddings_bidir_lstm.tf/assets- accuracy: 0.7280   \n"
     ]
    },
    {
     "name": "stderr",
     "output_type": "stream",
     "text": [
      "INFO:tensorflow:Assets written to: embeddings_bidir_lstm.tf/assets\n"
     ]
    },
    {
     "name": "stdout",
     "output_type": "stream",
     "text": [
      "625/625 [==============================] - 134s 209ms/step - loss: 0.5409 - accuracy: 0.7280 - val_loss: 0.4067 - val_accuracy: 0.8308\n",
      "Epoch 2/10\n",
      "625/625 [==============================] - 80s 127ms/step - loss: 0.3679 - accuracy: 0.8582 - val_loss: 0.4929 - val_accuracy: 0.8122\n",
      "Epoch 3/10\n",
      "INFO:tensorflow:Assets written to: embeddings_bidir_lstm.tf/assets- accuracy: 0.8927  \n"
     ]
    },
    {
     "name": "stderr",
     "output_type": "stream",
     "text": [
      "INFO:tensorflow:Assets written to: embeddings_bidir_lstm.tf/assets\n"
     ]
    },
    {
     "name": "stdout",
     "output_type": "stream",
     "text": [
      "625/625 [==============================] - 75s 120ms/step - loss: 0.2932 - accuracy: 0.8927 - val_loss: 0.3790 - val_accuracy: 0.8502\n",
      "Epoch 4/10\n",
      "INFO:tensorflow:Assets written to: embeddings_bidir_lstm.tf/assets- accuracy: 0.9164  \n"
     ]
    },
    {
     "name": "stderr",
     "output_type": "stream",
     "text": [
      "INFO:tensorflow:Assets written to: embeddings_bidir_lstm.tf/assets\n"
     ]
    },
    {
     "name": "stdout",
     "output_type": "stream",
     "text": [
      "625/625 [==============================] - 69s 111ms/step - loss: 0.2396 - accuracy: 0.9164 - val_loss: 0.3528 - val_accuracy: 0.8502\n",
      "Epoch 5/10\n",
      "INFO:tensorflow:Assets written to: embeddings_bidir_lstm.tf/assets- accuracy: 0.9286  \n"
     ]
    },
    {
     "name": "stderr",
     "output_type": "stream",
     "text": [
      "INFO:tensorflow:Assets written to: embeddings_bidir_lstm.tf/assets\n"
     ]
    },
    {
     "name": "stdout",
     "output_type": "stream",
     "text": [
      "625/625 [==============================] - 66s 106ms/step - loss: 0.2108 - accuracy: 0.9286 - val_loss: 0.3484 - val_accuracy: 0.8692\n",
      "Epoch 6/10\n",
      "625/625 [==============================] - 59s 94ms/step - loss: 0.1806 - accuracy: 0.9409 - val_loss: 0.3645 - val_accuracy: 0.8740\n",
      "Epoch 7/10\n",
      "625/625 [==============================] - 56s 90ms/step - loss: 0.1616 - accuracy: 0.9463 - val_loss: 0.3979 - val_accuracy: 0.8772\n",
      "Epoch 8/10\n",
      "625/625 [==============================] - 55s 88ms/step - loss: 0.1393 - accuracy: 0.9560 - val_loss: 0.3852 - val_accuracy: 0.8664\n",
      "Epoch 9/10\n",
      "625/625 [==============================] - 56s 89ms/step - loss: 0.1297 - accuracy: 0.9614 - val_loss: 0.3939 - val_accuracy: 0.8742\n",
      "Epoch 10/10\n",
      "625/625 [==============================] - 56s 89ms/step - loss: 0.1094 - accuracy: 0.9679 - val_loss: 0.4463 - val_accuracy: 0.8730\n"
     ]
    }
   ],
   "source": [
    "history = model.fit(int_train_ds, validation_data=int_val_ds,\n",
    "                    epochs=10, callbacks=callbacks)"
   ]
  },
  {
   "cell_type": "code",
   "execution_count": 42,
   "id": "ad9f5d3b-53d5-45df-a1b3-7dd4d42649c5",
   "metadata": {
    "execution": {
     "iopub.execute_input": "2025-05-29T11:55:36.795451Z",
     "iopub.status.busy": "2025-05-29T11:55:36.794534Z",
     "iopub.status.idle": "2025-05-29T11:55:36.995912Z",
     "shell.execute_reply": "2025-05-29T11:55:36.993586Z",
     "shell.execute_reply.started": "2025-05-29T11:55:36.795365Z"
    }
   },
   "outputs": [
    {
     "data": {
      "image/png": "[encoded data removed]",
      "text/plain": [
       "<Figure size 800x600 with 1 Axes>"
      ]
     },
     "metadata": {},
     "output_type": "display_data"
    }
   ],
   "source": [
    "plot_history(history, 'loss');"
   ]
  },
  {
   "cell_type": "markdown",
   "id": "c7b090cd-fd01-425f-83fb-c9acc0b32d2b",
   "metadata": {},
   "source": [
    "### Model Evaluation"
   ]
  },
  {
   "cell_type": "code",
   "execution_count": 43,
   "id": "645009ad-b375-47ab-b064-536f7e413781",
   "metadata": {
    "execution": {
     "iopub.execute_input": "2025-05-29T11:55:48.724746Z",
     "iopub.status.busy": "2025-05-29T11:55:48.723832Z",
     "iopub.status.idle": "2025-05-29T11:55:52.414311Z",
     "shell.execute_reply": "2025-05-29T11:55:52.413151Z",
     "shell.execute_reply.started": "2025-05-29T11:55:48.724660Z"
    }
   },
   "outputs": [],
   "source": [
    "model = keras.models.load_model(\"embeddings_bidir_lstm.tf\")"
   ]
  },
  {
   "cell_type": "code",
   "execution_count": 44,
   "id": "b73a1f85-c239-4988-ad79-b1501e967d4d",
   "metadata": {
    "execution": {
     "iopub.execute_input": "2025-05-29T11:56:22.073572Z",
     "iopub.status.busy": "2025-05-29T11:56:22.072721Z",
     "iopub.status.idle": "2025-05-29T11:56:51.894698Z",
     "shell.execute_reply": "2025-05-29T11:56:51.892427Z",
     "shell.execute_reply.started": "2025-05-29T11:56:22.073495Z"
    }
   },
   "outputs": [
    {
     "name": "stdout",
     "output_type": "stream",
     "text": [
      "782/782 [==============================] - 30s 37ms/step - loss: 0.3751 - accuracy: 0.8590\n"
     ]
    }
   ],
   "source": [
    "lstm_metrics = get_model_performance(\n",
    "    model, int_test_ds, 'LSTM w/ Embeddings')"
   ]
  },
  {
   "cell_type": "code",
   "execution_count": 45,
   "id": "98950ecd-ae4e-41fe-ba35-e706e96788c7",
   "metadata": {
    "execution": {
     "iopub.execute_input": "2025-05-29T11:56:51.898689Z",
     "iopub.status.busy": "2025-05-29T11:56:51.898007Z",
     "iopub.status.idle": "2025-05-29T11:56:51.916663Z",
     "shell.execute_reply": "2025-05-29T11:56:51.914350Z",
     "shell.execute_reply.started": "2025-05-29T11:56:51.898627Z"
    }
   },
   "outputs": [
    {
     "data": {
      "text/html": [
       "<div>\n",
       "<style scoped>\n",
       "    .dataframe tbody tr th:only-of-type {\n",
       "        vertical-align: middle;\n",
       "    }\n",
       "\n",
       "    .dataframe tbody tr th {\n",
       "        vertical-align: top;\n",
       "    }\n",
       "\n",
       "    .dataframe thead th {\n",
       "        text-align: right;\n",
       "    }\n",
       "</style>\n",
       "<table border=\"1\" class=\"dataframe\">\n",
       "  <thead>\n",
       "    <tr style=\"text-align: right;\">\n",
       "      <th></th>\n",
       "      <th>Accuracy</th>\n",
       "      <th>Loss</th>\n",
       "    </tr>\n",
       "  </thead>\n",
       "  <tbody>\n",
       "    <tr>\n",
       "      <th>LSTM w/ Embeddings</th>\n",
       "      <td>85.90%</td>\n",
       "      <td>0.375066</td>\n",
       "    </tr>\n",
       "  </tbody>\n",
       "</table>\n",
       "</div>"
      ],
      "text/plain": [
       "                   Accuracy      Loss\n",
       "LSTM w/ Embeddings   85.90%  0.375066"
      ]
     },
     "execution_count": 45,
     "metadata": {},
     "output_type": "execute_result"
    }
   ],
   "source": [
    "lstm_metrics"
   ]
  },
  {
   "cell_type": "markdown",
   "id": "aa786aa6-e6c0-4db6-954c-ca5395a3c4a1",
   "metadata": {},
   "source": [
    "## 4 Baseline Summary"
   ]
  },
  {
   "cell_type": "code",
   "execution_count": 47,
   "id": "f693b385-305d-4451-af1b-c312274bd66b",
   "metadata": {
    "execution": {
     "iopub.execute_input": "2025-05-29T11:57:40.009058Z",
     "iopub.status.busy": "2025-05-29T11:57:40.007362Z",
     "iopub.status.idle": "2025-05-29T11:57:40.029598Z",
     "shell.execute_reply": "2025-05-29T11:57:40.028274Z",
     "shell.execute_reply.started": "2025-05-29T11:57:40.008972Z"
    }
   },
   "outputs": [
    {
     "data": {
      "text/html": [
       "<div>\n",
       "<style scoped>\n",
       "    .dataframe tbody tr th:only-of-type {\n",
       "        vertical-align: middle;\n",
       "    }\n",
       "\n",
       "    .dataframe tbody tr th {\n",
       "        vertical-align: top;\n",
       "    }\n",
       "\n",
       "    .dataframe thead th {\n",
       "        text-align: right;\n",
       "    }\n",
       "</style>\n",
       "<table border=\"1\" class=\"dataframe\">\n",
       "  <thead>\n",
       "    <tr style=\"text-align: right;\">\n",
       "      <th></th>\n",
       "      <th>Accuracy</th>\n",
       "      <th>Loss</th>\n",
       "    </tr>\n",
       "  </thead>\n",
       "  <tbody>\n",
       "    <tr>\n",
       "      <th>Binary Bigram</th>\n",
       "      <td>89.94%</td>\n",
       "      <td>0.268964</td>\n",
       "    </tr>\n",
       "    <tr>\n",
       "      <th>Binary Unigram</th>\n",
       "      <td>88.57%</td>\n",
       "      <td>0.291066</td>\n",
       "    </tr>\n",
       "    <tr>\n",
       "      <th>LSTM w/ Embeddings</th>\n",
       "      <td>85.90%</td>\n",
       "      <td>0.375066</td>\n",
       "    </tr>\n",
       "  </tbody>\n",
       "</table>\n",
       "</div>"
      ],
      "text/plain": [
       "                   Accuracy      Loss\n",
       "Binary Bigram        89.94%  0.268964\n",
       "Binary Unigram       88.57%  0.291066\n",
       "LSTM w/ Embeddings   85.90%  0.375066"
      ]
     },
     "execution_count": 47,
     "metadata": {},
     "output_type": "execute_result"
    }
   ],
   "source": [
    "pd.concat((\n",
    "    binary_1gram_metrics, binary_2gram_metrics, lstm_metrics\n",
    ")).sort_values('Loss')"
   ]
  },
  {
   "cell_type": "markdown",
   "id": "96a49322-cf57-413c-969c-33e840e8a2b9",
   "metadata": {},
   "source": [
    "## 5 Sentiment Analysis Prediction using Transformer Encoder"
   ]
  },
  {
   "cell_type": "markdown",
   "id": "9ffb954d-e171-4034-92cd-589a71a12fb0",
   "metadata": {},
   "source": [
    "Now, let's create a transformer based encoder as our base model for the same sentiment analysis prediction."
   ]
  },
  {
   "cell_type": "markdown",
   "id": "da9d19c2-5866-4b1f-9162-e411f3e13a3e",
   "metadata": {},
   "source": [
    "### Transformer Encoder Architecture"
   ]
  },
  {
   "cell_type": "markdown",
   "id": "28da8233-22fb-4924-adc2-c5cd8bbf208d",
   "metadata": {},
   "source": [
    "<img src=\"images/transformer-encoder.png\" width=\"330\">"
   ]
  },
  {
   "cell_type": "code",
   "execution_count": 48,
   "id": "b9cca909-c95a-4c30-9a9a-c241223a4b1e",
   "metadata": {
    "execution": {
     "iopub.execute_input": "2025-05-29T12:15:57.527918Z",
     "iopub.status.busy": "2025-05-29T12:15:57.527067Z",
     "iopub.status.idle": "2025-05-29T12:15:57.548747Z",
     "shell.execute_reply": "2025-05-29T12:15:57.546660Z",
     "shell.execute_reply.started": "2025-05-29T12:15:57.527841Z"
    }
   },
   "outputs": [],
   "source": [
    "class TransformerEncoder(layers.Layer):\n",
    "    def __init__(self, embed_dim, dense_dim, num_heads, **kwargs):\n",
    "        # Initialization of layer attributes\n",
    "        super().__init__(**kwargs)\n",
    "        self.embed_dim = embed_dim\n",
    "        self.dense_dim = dense_dim\n",
    "        self.num_heads = num_heads\n",
    "\n",
    "        # Defining architecture components\n",
    "        self.attention = layers.MultiHeadAttention(\n",
    "            num_heads, key_dim=embed_dim)\n",
    "        self.dense_proj = keras.Sequential(\n",
    "            [layers.Dense(dense_dim, activation=\"relu\"),\n",
    "             layers.Dense(embed_dim),]\n",
    "        )\n",
    "        self.layernorm_1 = layers.LayerNormalization()\n",
    "        self.layernorm_2 = layers.LayerNormalization()\n",
    "\n",
    "    def call(self, inputs, mask=None):\n",
    "        if mask is not None:\n",
    "            mask = mask[:, tf.newaxis, :] # expand mask dimension since attention layer expects 3d or 4d\n",
    "\n",
    "        attention_output = self.attention(\n",
    "            inputs, inputs, attention_mask=mask\n",
    "        )\n",
    "        proj_input = self.layernorm_1(inputs + attention_output)\n",
    "        proj_output = self.dense_proj(proj_input)\n",
    "\n",
    "        return self.layernorm_2(proj_input + proj_output)\n",
    "\n",
    "    def get_config(self):\n",
    "        config = super().get_config()\n",
    "\n",
    "        config.update({\n",
    "            \"embed_dim\": self.embed_dim,\n",
    "            \"num_heads\": self.num_heads,\n",
    "            \"dense_dim\": self.dense_dim,\n",
    "        })\n",
    "\n",
    "        return config"
   ]
  },
  {
   "cell_type": "markdown",
   "id": "8ce7f99e-f9f0-47a4-a579-81c64c0df399",
   "metadata": {},
   "source": [
    "### Model Building"
   ]
  },
  {
   "cell_type": "code",
   "execution_count": 49,
   "id": "0efdc410-77ee-43ea-b4d3-1324cad9f416",
   "metadata": {
    "execution": {
     "iopub.execute_input": "2025-05-29T12:20:08.943470Z",
     "iopub.status.busy": "2025-05-29T12:20:08.942621Z",
     "iopub.status.idle": "2025-05-29T12:20:08.961503Z",
     "shell.execute_reply": "2025-05-29T12:20:08.955501Z",
     "shell.execute_reply.started": "2025-05-29T12:20:08.943394Z"
    }
   },
   "outputs": [],
   "source": [
    "def get_transformer_model(vocab_size, embed_dim, num_heads, dense_dim):\n",
    "    inputs = keras.Input(shape=(None,), dtype=\"int64\")\n",
    "\n",
    "    x = layers.Embedding(vocab_size, embed_dim)(inputs)\n",
    "    x = TransformerEncoder(embed_dim, dense_dim, num_heads)(x)\n",
    "    x = layers.GlobalMaxPooling1D()(x)\n",
    "    x = layers.Dropout(0.5)(x)\n",
    "\n",
    "    outputs = layers.Dense(1, activation=\"sigmoid\")(x)\n",
    "\n",
    "    return keras.Model(inputs, outputs)"
   ]
  },
  {
   "cell_type": "markdown",
   "id": "a3bfb610-df73-4269-ae34-98f795074ecd",
   "metadata": {},
   "source": [
    "### Model Training"
   ]
  },
  {
   "cell_type": "code",
   "execution_count": 50,
   "id": "651d1445-436b-4130-b9d1-80564257dc66",
   "metadata": {
    "execution": {
     "iopub.execute_input": "2025-05-29T12:21:26.842568Z",
     "iopub.status.busy": "2025-05-29T12:21:26.841677Z",
     "iopub.status.idle": "2025-05-29T12:21:26.852114Z",
     "shell.execute_reply": "2025-05-29T12:21:26.850039Z",
     "shell.execute_reply.started": "2025-05-29T12:21:26.842479Z"
    }
   },
   "outputs": [],
   "source": [
    "# Hyperparameter settings\n",
    "vocab_size = 20_000\n",
    "embed_dim = 256\n",
    "num_heads = 2\n",
    "dense_dim = 32"
   ]
  },
  {
   "cell_type": "code",
   "execution_count": 51,
   "id": "9b9f2570-832a-4d2a-9f31-588a1d06c10b",
   "metadata": {
    "execution": {
     "iopub.execute_input": "2025-05-29T12:21:46.463380Z",
     "iopub.status.busy": "2025-05-29T12:21:46.462531Z",
     "iopub.status.idle": "2025-05-29T12:21:46.763393Z",
     "shell.execute_reply": "2025-05-29T12:21:46.762378Z",
     "shell.execute_reply.started": "2025-05-29T12:21:46.463303Z"
    }
   },
   "outputs": [
    {
     "name": "stdout",
     "output_type": "stream",
     "text": [
      "Model: \"model_6\"\n",
      "_________________________________________________________________\n",
      " Layer (type)                Output Shape              Param #   \n",
      "=================================================================\n",
      " input_7 (InputLayer)        [(None, None)]            0         \n",
      "                                                                 \n",
      " embedding_2 (Embedding)     (None, None, 256)         5120000   \n",
      "                                                                 \n",
      " transformer_encoder (Trans  (None, None, 256)         543776    \n",
      " formerEncoder)                                                  \n",
      "                                                                 \n",
      " global_max_pooling1d (Glob  (None, 256)               0         \n",
      " alMaxPooling1D)                                                 \n",
      "                                                                 \n",
      " dropout_6 (Dropout)         (None, 256)               0         \n",
      "                                                                 \n",
      " dense_12 (Dense)            (None, 1)                 257       \n",
      "                                                                 \n",
      "=================================================================\n",
      "Total params: 5664033 (21.61 MB)\n",
      "Trainable params: 5664033 (21.61 MB)\n",
      "Non-trainable params: 0 (0.00 Byte)\n",
      "_________________________________________________________________\n"
     ]
    }
   ],
   "source": [
    "model = get_transformer_model(vocab_size, embed_dim, num_heads, dense_dim)\n",
    "model.compile(optimizer=\"rmsprop\", loss=\"binary_crossentropy\",\n",
    "              metrics=[\"accuracy\"])\n",
    "model.summary()"
   ]
  },
  {
   "cell_type": "code",
   "execution_count": 52,
   "id": "a36ba3eb-556e-47c3-9c2f-ddd783ae6880",
   "metadata": {
    "execution": {
     "iopub.execute_input": "2025-05-29T12:22:04.606829Z",
     "iopub.status.busy": "2025-05-29T12:22:04.605952Z",
     "iopub.status.idle": "2025-05-29T12:22:04.616099Z",
     "shell.execute_reply": "2025-05-29T12:22:04.614358Z",
     "shell.execute_reply.started": "2025-05-29T12:22:04.606752Z"
    }
   },
   "outputs": [],
   "source": [
    "callbacks = [\n",
    "    keras.callbacks.ModelCheckpoint(\n",
    "        \"transformer_encoder.tf\", save_best_only=True)\n",
    "]"
   ]
  },
  {
   "cell_type": "code",
   "execution_count": 53,
   "id": "77e4d190-1543-4701-bfcc-e424879561fb",
   "metadata": {
    "execution": {
     "iopub.execute_input": "2025-05-29T12:22:18.771214Z",
     "iopub.status.busy": "2025-05-29T12:22:18.770382Z",
     "iopub.status.idle": "2025-05-29T12:31:21.610591Z",
     "shell.execute_reply": "2025-05-29T12:31:21.608314Z",
     "shell.execute_reply.started": "2025-05-29T12:22:18.771136Z"
    }
   },
   "outputs": [
    {
     "name": "stdout",
     "output_type": "stream",
     "text": [
      "Epoch 1/20\n",
      "INFO:tensorflow:Assets written to: transformer_encoder.tf/assets2 - accuracy: 0.7646   \n"
     ]
    },
    {
     "name": "stderr",
     "output_type": "stream",
     "text": [
      "INFO:tensorflow:Assets written to: transformer_encoder.tf/assets\n"
     ]
    },
    {
     "name": "stdout",
     "output_type": "stream",
     "text": [
      "625/625 [==============================] - 74s 114ms/step - loss: 0.4949 - accuracy: 0.7648 - val_loss: 0.3493 - val_accuracy: 0.8432\n",
      "Epoch 2/20\n",
      "INFO:tensorflow:Assets written to: transformer_encoder.tf/assets5 - accuracy: 0.8526  \n"
     ]
    },
    {
     "name": "stderr",
     "output_type": "stream",
     "text": [
      "INFO:tensorflow:Assets written to: transformer_encoder.tf/assets\n"
     ]
    },
    {
     "name": "stdout",
     "output_type": "stream",
     "text": [
      "625/625 [==============================] - 41s 66ms/step - loss: 0.3415 - accuracy: 0.8526 - val_loss: 0.3092 - val_accuracy: 0.8660\n",
      "Epoch 3/20\n",
      "INFO:tensorflow:Assets written to: transformer_encoder.tf/assets4 - accuracy: 0.8720  \n"
     ]
    },
    {
     "name": "stderr",
     "output_type": "stream",
     "text": [
      "INFO:tensorflow:Assets written to: transformer_encoder.tf/assets\n"
     ]
    },
    {
     "name": "stdout",
     "output_type": "stream",
     "text": [
      "625/625 [==============================] - 34s 54ms/step - loss: 0.2994 - accuracy: 0.8720 - val_loss: 0.2974 - val_accuracy: 0.8732\n",
      "Epoch 4/20\n",
      "INFO:tensorflow:Assets written to: transformer_encoder.tf/assets5 - accuracy: 0.8853  \n"
     ]
    },
    {
     "name": "stderr",
     "output_type": "stream",
     "text": [
      "INFO:tensorflow:Assets written to: transformer_encoder.tf/assets\n"
     ]
    },
    {
     "name": "stdout",
     "output_type": "stream",
     "text": [
      "625/625 [==============================] - 29s 46ms/step - loss: 0.2705 - accuracy: 0.8853 - val_loss: 0.2949 - val_accuracy: 0.8712\n",
      "Epoch 5/20\n",
      "INFO:tensorflow:Assets written to: transformer_encoder.tf/assets9 - accuracy: 0.9007  \n"
     ]
    },
    {
     "name": "stderr",
     "output_type": "stream",
     "text": [
      "INFO:tensorflow:Assets written to: transformer_encoder.tf/assets\n"
     ]
    },
    {
     "name": "stdout",
     "output_type": "stream",
     "text": [
      "625/625 [==============================] - 28s 45ms/step - loss: 0.2459 - accuracy: 0.9007 - val_loss: 0.2898 - val_accuracy: 0.8806\n",
      "Epoch 6/20\n",
      "625/625 [==============================] - 25s 40ms/step - loss: 0.2186 - accuracy: 0.9141 - val_loss: 0.2982 - val_accuracy: 0.8766\n",
      "Epoch 7/20\n",
      "625/625 [==============================] - 24s 38ms/step - loss: 0.1877 - accuracy: 0.9237 - val_loss: 0.2948 - val_accuracy: 0.8832\n",
      "Epoch 8/20\n",
      "625/625 [==============================] - 23s 37ms/step - loss: 0.1635 - accuracy: 0.9370 - val_loss: 0.2991 - val_accuracy: 0.8810\n",
      "Epoch 9/20\n",
      "625/625 [==============================] - 23s 37ms/step - loss: 0.1352 - accuracy: 0.9509 - val_loss: 0.3190 - val_accuracy: 0.8788\n",
      "Epoch 10/20\n",
      "625/625 [==============================] - 22s 35ms/step - loss: 0.1111 - accuracy: 0.9597 - val_loss: 0.3520 - val_accuracy: 0.8810\n",
      "Epoch 11/20\n",
      "625/625 [==============================] - 22s 36ms/step - loss: 0.0883 - accuracy: 0.9675 - val_loss: 0.3726 - val_accuracy: 0.8750\n",
      "Epoch 12/20\n",
      "625/625 [==============================] - 22s 34ms/step - loss: 0.0720 - accuracy: 0.9753 - val_loss: 0.4172 - val_accuracy: 0.8740\n",
      "Epoch 13/20\n",
      "625/625 [==============================] - 23s 36ms/step - loss: 0.0589 - accuracy: 0.9784 - val_loss: 0.5100 - val_accuracy: 0.8616\n",
      "Epoch 14/20\n",
      "625/625 [==============================] - 22s 35ms/step - loss: 0.0442 - accuracy: 0.9852 - val_loss: 0.5207 - val_accuracy: 0.8556\n",
      "Epoch 15/20\n",
      "625/625 [==============================] - 21s 34ms/step - loss: 0.0340 - accuracy: 0.9880 - val_loss: 0.5466 - val_accuracy: 0.8638\n",
      "Epoch 16/20\n",
      "625/625 [==============================] - 21s 34ms/step - loss: 0.0276 - accuracy: 0.9899 - val_loss: 0.6102 - val_accuracy: 0.8624\n",
      "Epoch 17/20\n",
      "625/625 [==============================] - 21s 34ms/step - loss: 0.0268 - accuracy: 0.9912 - val_loss: 0.5524 - val_accuracy: 0.8664\n",
      "Epoch 18/20\n",
      "625/625 [==============================] - 21s 34ms/step - loss: 0.0216 - accuracy: 0.9920 - val_loss: 0.6919 - val_accuracy: 0.8528\n",
      "Epoch 19/20\n",
      "625/625 [==============================] - 21s 34ms/step - loss: 0.0210 - accuracy: 0.9930 - val_loss: 0.7132 - val_accuracy: 0.8600\n",
      "Epoch 20/20\n",
      "625/625 [==============================] - 22s 35ms/step - loss: 0.0199 - accuracy: 0.9922 - val_loss: 0.6638 - val_accuracy: 0.8642\n"
     ]
    }
   ],
   "source": [
    "history = model.fit(int_train_ds, validation_data=int_val_ds,\n",
    "                    epochs=10, callbacks=callbacks)"
   ]
  },
  {
   "cell_type": "code",
   "execution_count": 54,
   "id": "19d39655-e610-4a81-82fc-b113982b7cf5",
   "metadata": {
    "execution": {
     "iopub.execute_input": "2025-05-29T13:15:30.527814Z",
     "iopub.status.busy": "2025-05-29T13:15:30.526957Z",
     "iopub.status.idle": "2025-05-29T13:15:30.774022Z",
     "shell.execute_reply": "2025-05-29T13:15:30.772440Z",
     "shell.execute_reply.started": "2025-05-29T13:15:30.527735Z"
    }
   },
   "outputs": [
    {
     "data": {
      "image/png": "[encoded data removed]",
      "text/plain": [
       "<Figure size 800x600 with 1 Axes>"
      ]
     },
     "metadata": {},
     "output_type": "display_data"
    }
   ],
   "source": [
    "plot_history(history, 'loss');"
   ]
  },
  {
   "cell_type": "markdown",
   "id": "b0c6b6e9-c8d2-42a9-81af-202fd11467fe",
   "metadata": {},
   "source": [
    "### Model Evaluation"
   ]
  },
  {
   "cell_type": "code",
   "execution_count": 57,
   "id": "d8754ef9-832e-4f61-8c28-65125d39f5dd",
   "metadata": {
    "execution": {
     "iopub.execute_input": "2025-05-29T13:16:10.227470Z",
     "iopub.status.busy": "2025-05-29T13:16:10.226628Z",
     "iopub.status.idle": "2025-05-29T13:16:11.020384Z",
     "shell.execute_reply": "2025-05-29T13:16:11.018694Z",
     "shell.execute_reply.started": "2025-05-29T13:16:10.227395Z"
    }
   },
   "outputs": [],
   "source": [
    "model = keras.models.load_model(\n",
    "    \"transformer_encoder.tf\",\n",
    "    custom_objects={\"TransformerEncoder\": TransformerEncoder})"
   ]
  },
  {
   "cell_type": "code",
   "execution_count": 58,
   "id": "69b8a2a8-9237-483e-8044-712f23f8cc3c",
   "metadata": {
    "execution": {
     "iopub.execute_input": "2025-05-29T13:16:26.346688Z",
     "iopub.status.busy": "2025-05-29T13:16:26.345817Z",
     "iopub.status.idle": "2025-05-29T13:16:38.093725Z",
     "shell.execute_reply": "2025-05-29T13:16:38.091516Z",
     "shell.execute_reply.started": "2025-05-29T13:16:26.346610Z"
    }
   },
   "outputs": [
    {
     "name": "stdout",
     "output_type": "stream",
     "text": [
      "782/782 [==============================] - 12s 14ms/step - loss: 0.3208 - accuracy: 0.8625\n"
     ]
    }
   ],
   "source": [
    "transformer_metrics = get_model_performance(\n",
    "    model, int_test_ds, 'Transformer Encoder')"
   ]
  },
  {
   "cell_type": "code",
   "execution_count": 59,
   "id": "df394093-8819-4ef6-9747-c02f3e263827",
   "metadata": {
    "execution": {
     "iopub.execute_input": "2025-05-29T13:16:38.097279Z",
     "iopub.status.busy": "2025-05-29T13:16:38.096703Z",
     "iopub.status.idle": "2025-05-29T13:16:38.116379Z",
     "shell.execute_reply": "2025-05-29T13:16:38.114815Z",
     "shell.execute_reply.started": "2025-05-29T13:16:38.097199Z"
    }
   },
   "outputs": [
    {
     "data": {
      "text/html": [
       "<div>\n",
       "<style scoped>\n",
       "    .dataframe tbody tr th:only-of-type {\n",
       "        vertical-align: middle;\n",
       "    }\n",
       "\n",
       "    .dataframe tbody tr th {\n",
       "        vertical-align: top;\n",
       "    }\n",
       "\n",
       "    .dataframe thead th {\n",
       "        text-align: right;\n",
       "    }\n",
       "</style>\n",
       "<table border=\"1\" class=\"dataframe\">\n",
       "  <thead>\n",
       "    <tr style=\"text-align: right;\">\n",
       "      <th></th>\n",
       "      <th>Accuracy</th>\n",
       "      <th>Loss</th>\n",
       "    </tr>\n",
       "  </thead>\n",
       "  <tbody>\n",
       "    <tr>\n",
       "      <th>Transformer Encoder</th>\n",
       "      <td>86.25%</td>\n",
       "      <td>0.320811</td>\n",
       "    </tr>\n",
       "  </tbody>\n",
       "</table>\n",
       "</div>"
      ],
      "text/plain": [
       "                    Accuracy      Loss\n",
       "Transformer Encoder   86.25%  0.320811"
      ]
     },
     "execution_count": 59,
     "metadata": {},
     "output_type": "execute_result"
    }
   ],
   "source": [
    "transformer_metrics"
   ]
  },
  {
   "cell_type": "code",
   "execution_count": 60,
   "id": "9b4fd730-75ad-4c51-b5eb-ab5b7d5da57e",
   "metadata": {
    "execution": {
     "iopub.execute_input": "2025-05-29T13:16:52.678127Z",
     "iopub.status.busy": "2025-05-29T13:16:52.677313Z",
     "iopub.status.idle": "2025-05-29T13:16:52.702442Z",
     "shell.execute_reply": "2025-05-29T13:16:52.701130Z",
     "shell.execute_reply.started": "2025-05-29T13:16:52.678052Z"
    }
   },
   "outputs": [
    {
     "data": {
      "text/html": [
       "<div>\n",
       "<style scoped>\n",
       "    .dataframe tbody tr th:only-of-type {\n",
       "        vertical-align: middle;\n",
       "    }\n",
       "\n",
       "    .dataframe tbody tr th {\n",
       "        vertical-align: top;\n",
       "    }\n",
       "\n",
       "    .dataframe thead th {\n",
       "        text-align: right;\n",
       "    }\n",
       "</style>\n",
       "<table border=\"1\" class=\"dataframe\">\n",
       "  <thead>\n",
       "    <tr style=\"text-align: right;\">\n",
       "      <th></th>\n",
       "      <th>Accuracy</th>\n",
       "      <th>Loss</th>\n",
       "    </tr>\n",
       "  </thead>\n",
       "  <tbody>\n",
       "    <tr>\n",
       "      <th>Binary Bigram</th>\n",
       "      <td>89.94%</td>\n",
       "      <td>0.268964</td>\n",
       "    </tr>\n",
       "    <tr>\n",
       "      <th>Binary Unigram</th>\n",
       "      <td>88.57%</td>\n",
       "      <td>0.291066</td>\n",
       "    </tr>\n",
       "    <tr>\n",
       "      <th>Transformer Encoder</th>\n",
       "      <td>86.25%</td>\n",
       "      <td>0.320811</td>\n",
       "    </tr>\n",
       "    <tr>\n",
       "      <th>LSTM w/ Embeddings</th>\n",
       "      <td>85.90%</td>\n",
       "      <td>0.375066</td>\n",
       "    </tr>\n",
       "  </tbody>\n",
       "</table>\n",
       "</div>"
      ],
      "text/plain": [
       "                    Accuracy      Loss\n",
       "Binary Bigram         89.94%  0.268964\n",
       "Binary Unigram        88.57%  0.291066\n",
       "Transformer Encoder   86.25%  0.320811\n",
       "LSTM w/ Embeddings    85.90%  0.375066"
      ]
     },
     "execution_count": 60,
     "metadata": {},
     "output_type": "execute_result"
    }
   ],
   "source": [
    "pd.concat((\n",
    "    binary_1gram_metrics, binary_2gram_metrics, lstm_metrics,\n",
    "    transformer_metrics\n",
    ")).sort_values('Loss')"
   ]
  },
  {
   "cell_type": "markdown",
   "id": "a1c798c0-c808-4d3f-9b02-24425ef8d70a",
   "metadata": {},
   "source": [
    "## 6 Sentiment Analysis Prediction using Transformer Encoder with Positional Encoding"
   ]
  },
  {
   "cell_type": "markdown",
   "id": "55e34596-1046-4fda-b010-9b0825efbb4a",
   "metadata": {},
   "source": [
    "We will use positional encoding to re-inject order information to the model. More specifically, we will create positional embeddings which uses word position index as input to an embedding layer."
   ]
  },
  {
   "cell_type": "markdown",
   "id": "09e82294-7086-48a7-91c0-3f7b82bfa345",
   "metadata": {},
   "source": [
    "### Positional Embedding"
   ]
  },
  {
   "cell_type": "code",
   "execution_count": 97,
   "id": "3fd6f48a-0c33-4093-ad05-e1d7d3916f48",
   "metadata": {
    "execution": {
     "iopub.execute_input": "2025-05-29T14:39:56.660855Z",
     "iopub.status.busy": "2025-05-29T14:39:56.660028Z",
     "iopub.status.idle": "2025-05-29T14:39:56.680798Z",
     "shell.execute_reply": "2025-05-29T14:39:56.679501Z",
     "shell.execute_reply.started": "2025-05-29T14:39:56.660780Z"
    }
   },
   "outputs": [],
   "source": [
    "class PositionalEmbedding(layers.Layer):\n",
    "    def __init__(self, sequence_length, input_dim, output_dim, **kwargs):\n",
    "        # Initialization of attributes\n",
    "        super().__init__(**kwargs)\n",
    "        self.sequence_length = sequence_length\n",
    "        self.input_dim = input_dim\n",
    "        self.output_dim = output_dim\n",
    "\n",
    "        # Architectural components\n",
    "        self.token_embeddings = layers.Embedding(\n",
    "            input_dim=input_dim, output_dim=output_dim\n",
    "        )\n",
    "        self.position_embeddings = layers.Embedding(\n",
    "            input_dim=sequence_length, output_dim=output_dim\n",
    "        )\n",
    "\n",
    "    def call(self, inputs):\n",
    "        # Create position indices\n",
    "        length = tf.shape(inputs)[-1]\n",
    "        positions = tf.range(start=0, limit=length, delta=1, dtype=\"int64\")\n",
    "\n",
    "        embedded_tokens = self.token_embeddings(inputs)\n",
    "        embedded_positions = self.position_embeddings(positions)\n",
    "\n",
    "        return tf.add(embedded_tokens, embedded_positions)\n",
    "\n",
    "    def compute_mask(self, inputs, mask=None):\n",
    "        return tf.math.not_equal(inputs, 0) # Similar to embedding layer, this \n",
    "                                            # should generate a mask so we can\n",
    "                                            # ignore padding 0s in the inputs\n",
    "\n",
    "    def get_config(self):\n",
    "        config = super().get_config()\n",
    "        config.update({\n",
    "            \"output_dim\": self.output_dim,\n",
    "            \"sequence_length\": self.sequence_length,\n",
    "            \"input_dim\": self.input_dim\n",
    "        })\n",
    "\n",
    "        return config"
   ]
  },
  {
   "cell_type": "markdown",
   "id": "4e6370db-3b59-4fc2-9c70-2082c74dadaa",
   "metadata": {},
   "source": [
    "### Model Building"
   ]
  },
  {
   "cell_type": "code",
   "execution_count": 98,
   "id": "48a0dd2d-018f-4ea4-bdaa-72753746a964",
   "metadata": {
    "execution": {
     "iopub.execute_input": "2025-05-29T14:39:58.309712Z",
     "iopub.status.busy": "2025-05-29T14:39:58.307913Z",
     "iopub.status.idle": "2025-05-29T14:39:58.322805Z",
     "shell.execute_reply": "2025-05-29T14:39:58.320821Z",
     "shell.execute_reply.started": "2025-05-29T14:39:58.309626Z"
    }
   },
   "outputs": [],
   "source": [
    "def get_full_transformer_model(\n",
    "    vocab_size, sequence_length, embed_dim, num_heads, dense_dim):\n",
    "    inputs = keras.Input(shape=(None,), dtype=\"int64\")\n",
    "\n",
    "    x = PositionalEmbedding(sequence_length, vocab_size, embed_dim)(inputs)\n",
    "    x = TransformerEncoder(embed_dim, dense_dim, num_heads)(x)\n",
    "    x = layers.GlobalMaxPooling1D()(x)\n",
    "    x = layers.Dropout(0.5)(x)\n",
    "\n",
    "    outputs = layers.Dense(1, activation=\"sigmoid\")(x)\n",
    "\n",
    "    return keras.Model(inputs, outputs)"
   ]
  },
  {
   "cell_type": "markdown",
   "id": "2f6f74fb-7425-4f14-8881-5e7b232fabce",
   "metadata": {},
   "source": [
    "### Model Training"
   ]
  },
  {
   "cell_type": "code",
   "execution_count": 135,
   "id": "7545be28-047d-4869-8688-b9257d51f8fc",
   "metadata": {
    "execution": {
     "iopub.execute_input": "2025-05-29T14:54:57.802317Z",
     "iopub.status.busy": "2025-05-29T14:54:57.801476Z",
     "iopub.status.idle": "2025-05-29T14:54:57.812343Z",
     "shell.execute_reply": "2025-05-29T14:54:57.810227Z",
     "shell.execute_reply.started": "2025-05-29T14:54:57.802224Z"
    }
   },
   "outputs": [],
   "source": [
    "# Hyperparameter settings\n",
    "vocab_size = 20_000\n",
    "sequence_length = 600\n",
    "embed_dim = 256\n",
    "num_heads = 2\n",
    "dense_dim = 32"
   ]
  },
  {
   "cell_type": "code",
   "execution_count": 136,
   "id": "e36814fd-2b70-4aaf-adc4-035f973f06b8",
   "metadata": {
    "execution": {
     "iopub.execute_input": "2025-05-29T14:54:58.038587Z",
     "iopub.status.busy": "2025-05-29T14:54:58.037793Z",
     "iopub.status.idle": "2025-05-29T14:54:58.306053Z",
     "shell.execute_reply": "2025-05-29T14:54:58.303868Z",
     "shell.execute_reply.started": "2025-05-29T14:54:58.038511Z"
    }
   },
   "outputs": [
    {
     "name": "stdout",
     "output_type": "stream",
     "text": [
      "Model: \"model_13\"\n",
      "_________________________________________________________________\n",
      " Layer (type)                Output Shape              Param #   \n",
      "=================================================================\n",
      " input_15 (InputLayer)       [(None, None)]            0         \n",
      "                                                                 \n",
      " positional_embedding_7 (Po  (None, None, 256)         5273600   \n",
      " sitionalEmbedding)                                              \n",
      "                                                                 \n",
      " transformer_encoder_7 (Tra  (None, None, 256)         543776    \n",
      " nsformerEncoder)                                                \n",
      "                                                                 \n",
      " global_max_pooling1d_7 (Gl  (None, 256)               0         \n",
      " obalMaxPooling1D)                                               \n",
      "                                                                 \n",
      " dropout_13 (Dropout)        (None, 256)               0         \n",
      "                                                                 \n",
      " dense_49 (Dense)            (None, 1)                 257       \n",
      "                                                                 \n",
      "=================================================================\n",
      "Total params: 5817633 (22.19 MB)\n",
      "Trainable params: 5817633 (22.19 MB)\n",
      "Non-trainable params: 0 (0.00 Byte)\n",
      "_________________________________________________________________\n"
     ]
    }
   ],
   "source": [
    "model = get_full_transformer_model(\n",
    "    vocab_size, sequence_length, embed_dim, num_heads, dense_dim)\n",
    "model.compile(optimizer=\"rmsprop\", loss=\"binary_crossentropy\",\n",
    "              metrics=[\"accuracy\"])\n",
    "model.summary()"
   ]
  },
  {
   "cell_type": "code",
   "execution_count": 137,
   "id": "84999626-68ee-4b4a-ab25-063970697e87",
   "metadata": {
    "execution": {
     "iopub.execute_input": "2025-05-29T14:54:58.432235Z",
     "iopub.status.busy": "2025-05-29T14:54:58.430323Z",
     "iopub.status.idle": "2025-05-29T14:54:58.440707Z",
     "shell.execute_reply": "2025-05-29T14:54:58.438635Z",
     "shell.execute_reply.started": "2025-05-29T14:54:58.432149Z"
    }
   },
   "outputs": [],
   "source": [
    "callbacks = [\n",
    "    keras.callbacks.ModelCheckpoint(\n",
    "        \"full_transformer_encoder.h5\", save_best_only=True)\n",
    "]"
   ]
  },
  {
   "cell_type": "code",
   "execution_count": 138,
   "id": "5607faf2-7127-4edd-82dd-0c8d459db9ca",
   "metadata": {
    "execution": {
     "iopub.execute_input": "2025-05-29T14:54:59.090398Z",
     "iopub.status.busy": "2025-05-29T14:54:59.089575Z",
     "iopub.status.idle": "2025-05-29T15:00:36.153023Z",
     "shell.execute_reply": "2025-05-29T15:00:36.150841Z",
     "shell.execute_reply.started": "2025-05-29T14:54:59.090323Z"
    }
   },
   "outputs": [
    {
     "name": "stdout",
     "output_type": "stream",
     "text": [
      "Epoch 1/10\n",
      "625/625 [==============================] - 75s 115ms/step - loss: 0.5326 - accuracy: 0.7413 - val_loss: 0.4005 - val_accuracy: 0.8076\n"
     ]
    },
    {
     "name": "stderr",
     "output_type": "stream",
     "text": [
      "/home/llorenzo/.conda/new_envs/msds2025ft-ml3-transformers/lib/python3.9/site-packages/keras/src/engine/training.py:3000: UserWarning: You are saving your model as an HDF5 file via `model.save()`. This file format is considered legacy. We recommend using instead the native Keras format, e.g. `model.save('my_model.keras')`.\n",
      "  saving_api.save_model(\n"
     ]
    },
    {
     "name": "stdout",
     "output_type": "stream",
     "text": [
      "Epoch 2/10\n",
      "625/625 [==============================] - 44s 70ms/step - loss: 0.3006 - accuracy: 0.8746 - val_loss: 0.3028 - val_accuracy: 0.8724\n",
      "Epoch 3/10\n",
      "625/625 [==============================] - 32s 51ms/step - loss: 0.2350 - accuracy: 0.9079 - val_loss: 0.2938 - val_accuracy: 0.8856\n",
      "Epoch 4/10\n",
      "625/625 [==============================] - 28s 45ms/step - loss: 0.1924 - accuracy: 0.9265 - val_loss: 0.3066 - val_accuracy: 0.8866\n",
      "Epoch 5/10\n",
      "625/625 [==============================] - 29s 46ms/step - loss: 0.1588 - accuracy: 0.9398 - val_loss: 0.3216 - val_accuracy: 0.8878\n",
      "Epoch 6/10\n",
      "625/625 [==============================] - 28s 45ms/step - loss: 0.1324 - accuracy: 0.9514 - val_loss: 0.3737 - val_accuracy: 0.8778\n",
      "Epoch 7/10\n",
      "625/625 [==============================] - 26s 42ms/step - loss: 0.1135 - accuracy: 0.9592 - val_loss: 0.3570 - val_accuracy: 0.8832\n",
      "Epoch 8/10\n",
      "625/625 [==============================] - 24s 39ms/step - loss: 0.0880 - accuracy: 0.9677 - val_loss: 0.4642 - val_accuracy: 0.8826\n",
      "Epoch 9/10\n",
      "625/625 [==============================] - 25s 39ms/step - loss: 0.0701 - accuracy: 0.9762 - val_loss: 0.5765 - val_accuracy: 0.8790\n",
      "Epoch 10/10\n",
      "625/625 [==============================] - 25s 40ms/step - loss: 0.0531 - accuracy: 0.9819 - val_loss: 0.9743 - val_accuracy: 0.8408\n"
     ]
    }
   ],
   "source": [
    "history = model.fit(int_train_ds, validation_data=int_val_ds,\n",
    "                    epochs=10, callbacks=callbacks)"
   ]
  },
  {
   "cell_type": "code",
   "execution_count": 140,
   "id": "6e7f4cb9-8a47-4171-8cd7-db6f5d669145",
   "metadata": {
    "execution": {
     "iopub.execute_input": "2025-05-29T15:00:53.112499Z",
     "iopub.status.busy": "2025-05-29T15:00:53.111629Z",
     "iopub.status.idle": "2025-05-29T15:00:53.306923Z",
     "shell.execute_reply": "2025-05-29T15:00:53.304795Z",
     "shell.execute_reply.started": "2025-05-29T15:00:53.112421Z"
    }
   },
   "outputs": [
    {
     "data": {
      "image/png": "[encoded data removed]",
      "text/plain": [
       "<Figure size 800x600 with 1 Axes>"
      ]
     },
     "metadata": {},
     "output_type": "display_data"
    }
   ],
   "source": [
    "plot_history(history, 'loss');"
   ]
  },
  {
   "cell_type": "markdown",
   "id": "c3c6ef30-8ddc-408a-9bc2-f71eb5887956",
   "metadata": {},
   "source": [
    "### Model Evaluation"
   ]
  },
  {
   "cell_type": "code",
   "execution_count": 144,
   "id": "eee53f20-ca7c-4d81-be13-f08e1859715f",
   "metadata": {
    "execution": {
     "iopub.execute_input": "2025-05-29T15:01:35.322936Z",
     "iopub.status.busy": "2025-05-29T15:01:35.320960Z",
     "iopub.status.idle": "2025-05-29T15:01:35.746803Z",
     "shell.execute_reply": "2025-05-29T15:01:35.744883Z",
     "shell.execute_reply.started": "2025-05-29T15:01:35.322850Z"
    }
   },
   "outputs": [],
   "source": [
    "model = keras.models.load_model(\n",
    "    \"full_transformer_encoder.h5\",\n",
    "    custom_objects={\"TransformerEncoder\": TransformerEncoder,\n",
    "                    \"PositionalEmbedding\": PositionalEmbedding})"
   ]
  },
  {
   "cell_type": "code",
   "execution_count": 143,
   "id": "7319c284-b684-4f80-9117-91aa1242f4a2",
   "metadata": {
    "execution": {
     "iopub.execute_input": "2025-05-29T15:01:18.760033Z",
     "iopub.status.busy": "2025-05-29T15:01:18.759144Z",
     "iopub.status.idle": "2025-05-29T15:01:31.882177Z",
     "shell.execute_reply": "2025-05-29T15:01:31.880366Z",
     "shell.execute_reply.started": "2025-05-29T15:01:18.759953Z"
    }
   },
   "outputs": [
    {
     "name": "stdout",
     "output_type": "stream",
     "text": [
      "782/782 [==============================] - 13s 16ms/step - loss: 0.2936 - accuracy: 0.8813\n"
     ]
    }
   ],
   "source": [
    "full_transformer_metrics = get_model_performance(\n",
    "    model, int_test_ds, 'Full Transformer Encoder')"
   ]
  },
  {
   "cell_type": "code",
   "execution_count": 146,
   "id": "2045e927-eb68-458b-a1d4-02747f995f8f",
   "metadata": {
    "execution": {
     "iopub.execute_input": "2025-05-29T15:01:54.564671Z",
     "iopub.status.busy": "2025-05-29T15:01:54.563783Z",
     "iopub.status.idle": "2025-05-29T15:01:54.585169Z",
     "shell.execute_reply": "2025-05-29T15:01:54.583533Z",
     "shell.execute_reply.started": "2025-05-29T15:01:54.564590Z"
    }
   },
   "outputs": [
    {
     "data": {
      "text/html": [
       "<div>\n",
       "<style scoped>\n",
       "    .dataframe tbody tr th:only-of-type {\n",
       "        vertical-align: middle;\n",
       "    }\n",
       "\n",
       "    .dataframe tbody tr th {\n",
       "        vertical-align: top;\n",
       "    }\n",
       "\n",
       "    .dataframe thead th {\n",
       "        text-align: right;\n",
       "    }\n",
       "</style>\n",
       "<table border=\"1\" class=\"dataframe\">\n",
       "  <thead>\n",
       "    <tr style=\"text-align: right;\">\n",
       "      <th></th>\n",
       "      <th>Accuracy</th>\n",
       "      <th>Loss</th>\n",
       "    </tr>\n",
       "  </thead>\n",
       "  <tbody>\n",
       "    <tr>\n",
       "      <th>Full Transformer Encoder</th>\n",
       "      <td>88.13%</td>\n",
       "      <td>0.293579</td>\n",
       "    </tr>\n",
       "  </tbody>\n",
       "</table>\n",
       "</div>"
      ],
      "text/plain": [
       "                         Accuracy      Loss\n",
       "Full Transformer Encoder   88.13%  0.293579"
      ]
     },
     "execution_count": 146,
     "metadata": {},
     "output_type": "execute_result"
    }
   ],
   "source": [
    "full_transformer_metrics"
   ]
  },
  {
   "cell_type": "markdown",
   "id": "94cf94cf-46a9-492c-a2b9-dc6c223be3ea",
   "metadata": {},
   "source": [
    "## 7 Conclusion"
   ]
  },
  {
   "cell_type": "code",
   "execution_count": 147,
   "id": "a0e4b4a6-0dd7-42da-bfeb-a0ec1b772865",
   "metadata": {
    "execution": {
     "iopub.execute_input": "2025-05-29T15:02:01.297998Z",
     "iopub.status.busy": "2025-05-29T15:02:01.297047Z",
     "iopub.status.idle": "2025-05-29T15:02:01.324654Z",
     "shell.execute_reply": "2025-05-29T15:02:01.322297Z",
     "shell.execute_reply.started": "2025-05-29T15:02:01.297914Z"
    }
   },
   "outputs": [
    {
     "data": {
      "text/html": [
       "<div>\n",
       "<style scoped>\n",
       "    .dataframe tbody tr th:only-of-type {\n",
       "        vertical-align: middle;\n",
       "    }\n",
       "\n",
       "    .dataframe tbody tr th {\n",
       "        vertical-align: top;\n",
       "    }\n",
       "\n",
       "    .dataframe thead th {\n",
       "        text-align: right;\n",
       "    }\n",
       "</style>\n",
       "<table border=\"1\" class=\"dataframe\">\n",
       "  <thead>\n",
       "    <tr style=\"text-align: right;\">\n",
       "      <th></th>\n",
       "      <th>Accuracy</th>\n",
       "      <th>Loss</th>\n",
       "    </tr>\n",
       "  </thead>\n",
       "  <tbody>\n",
       "    <tr>\n",
       "      <th>Binary Bigram</th>\n",
       "      <td>89.94%</td>\n",
       "      <td>0.268964</td>\n",
       "    </tr>\n",
       "    <tr>\n",
       "      <th>Binary Unigram</th>\n",
       "      <td>88.57%</td>\n",
       "      <td>0.291066</td>\n",
       "    </tr>\n",
       "    <tr>\n",
       "      <th>Full Transformer Encoder</th>\n",
       "      <td>88.13%</td>\n",
       "      <td>0.293579</td>\n",
       "    </tr>\n",
       "    <tr>\n",
       "      <th>Transformer Encoder</th>\n",
       "      <td>86.25%</td>\n",
       "      <td>0.320811</td>\n",
       "    </tr>\n",
       "    <tr>\n",
       "      <th>LSTM w/ Embeddings</th>\n",
       "      <td>85.90%</td>\n",
       "      <td>0.375066</td>\n",
       "    </tr>\n",
       "  </tbody>\n",
       "</table>\n",
       "</div>"
      ],
      "text/plain": [
       "                         Accuracy      Loss\n",
       "Binary Bigram              89.94%  0.268964\n",
       "Binary Unigram             88.57%  0.291066\n",
       "Full Transformer Encoder   88.13%  0.293579\n",
       "Transformer Encoder        86.25%  0.320811\n",
       "LSTM w/ Embeddings         85.90%  0.375066"
      ]
     },
     "execution_count": 147,
     "metadata": {},
     "output_type": "execute_result"
    }
   ],
   "source": [
    "pd.concat((\n",
    "    binary_1gram_metrics, binary_2gram_metrics, lstm_metrics,\n",
    "    transformer_metrics, full_transformer_metrics\n",
    ")).sort_values('Loss')"
   ]
  },
  {
   "cell_type": "markdown",
   "id": "1be09c60-5d5b-491d-8a7b-6bf48e1c485d",
   "metadata": {},
   "source": [
    "Based on the models that we've tried on the IMDB movie reviews dataset, the best model is the one that comprises a small stack of `Dense` layers on top of a bigrams feature. As such, although Transformer-based sequence models provide better performance with prior sequence models, proper study of the context must still be made when choosing this architecture.\n",
    "\n",
    "In particular, the team of François Chollet ran a systematic analysis of the performance of various text classification techniques and discovered that there is a rule of thumb whether to to use a simple bag-of-words model or a sequence model.\n",
    "\n",
    "The rule of thumb is:\n",
    "\n",
    "```python\n",
    "if number of samples / mean sample length > 1,500 # use a sequence model\n",
    "else if number of samples / mean sample length < 1,500 # use a bag-of-bigrams"
   ]
  },
  {
   "cell_type": "markdown",
   "id": "9c59fa11-6c8e-4593-b74d-d9898d2b45da",
   "metadata": {},
   "source": [
    "For the IMDB movie review classification task, we have `20,000` training samples and an average word count of `233`."
   ]
  },
  {
   "cell_type": "code",
   "execution_count": 148,
   "id": "83ec9ad0-1163-4e16-ab2c-5f191cfd7782",
   "metadata": {
    "execution": {
     "iopub.execute_input": "2025-05-29T15:08:41.143873Z",
     "iopub.status.busy": "2025-05-29T15:08:41.142964Z",
     "iopub.status.idle": "2025-05-29T15:08:41.155543Z",
     "shell.execute_reply": "2025-05-29T15:08:41.153822Z",
     "shell.execute_reply.started": "2025-05-29T15:08:41.143791Z"
    }
   },
   "outputs": [
    {
     "data": {
      "text/plain": [
       "85.83690987124463"
      ]
     },
     "execution_count": 148,
     "metadata": {},
     "output_type": "execute_result"
    }
   ],
   "source": [
    "20_000 / 233"
   ]
  }
 ],
 "metadata": {
  "kernelspec": {
   "display_name": "Python [conda env:msds2025ft-ml3-transformers]",
   "language": "python",
   "name": "conda-env-msds2025ft-ml3-transformers-py"
  },
  "language_info": {
   "codemirror_mode": {
    "name": "ipython",
    "version": 3
   },
   "file_extension": ".py",
   "mimetype": "text/x-python",
   "name": "python",
   "nbconvert_exporter": "python",
   "pygments_lexer": "ipython3",
   "version": "3.9.22"
  }
 },
 "nbformat": 4,
 "nbformat_minor": 5
}
